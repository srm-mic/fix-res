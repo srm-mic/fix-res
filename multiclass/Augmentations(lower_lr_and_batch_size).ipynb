{
  "nbformat": 4,
  "nbformat_minor": 0,
  "metadata": {
    "colab": {
      "name": "Augmentations(lower lr and batch size).ipynb",
      "provenance": [],
      "collapsed_sections": []
    },
    "kernelspec": {
      "name": "python3",
      "display_name": "Python 3"
    },
    "accelerator": "GPU"
  },
  "cells": [
    {
      "cell_type": "code",
      "metadata": {
        "id": "YR4IyAn2_TeA"
      },
      "source": [
        "import numpy as np\n",
        "import os\n",
        "import tensorflow as tf"
      ],
      "execution_count": 1,
      "outputs": []
    },
    {
      "cell_type": "code",
      "metadata": {
        "id": "Spc57CY9sVkM"
      },
      "source": [
        "from PIL import Image\r\n",
        "from matplotlib import pyplot as plt\r\n",
        "import cv2\r\n",
        "from tensorflow.keras.preprocessing.image import ImageDataGenerator\r\n",
        "import tensorflow.keras\r\n",
        "from tensorflow.keras.models import Sequential\r\n",
        "from tensorflow.keras.layers import Dense, Dropout, Activation, Flatten\r\n",
        "from tensorflow.keras.layers import Conv2D, MaxPooling2D\r\n",
        "from tensorflow.keras.layers import BatchNormalization\r\n",
        "from tensorflow.keras.utils import normalize, to_categorical\r\n",
        "from tensorflow.keras.optimizers import SGD"
      ],
      "execution_count": 2,
      "outputs": []
    },
    {
      "cell_type": "markdown",
      "metadata": {
        "id": "FAfQOcgdo03d"
      },
      "source": [
        "# **Augmenting Training Images**"
      ]
    },
    {
      "cell_type": "markdown",
      "metadata": {
        "id": "7z4cLaU9o_Hj"
      },
      "source": [
        "### *1. Color jitter*\n",
        "\n",
        "### *2. Random-resized Cropping*\n",
        "\n",
        "### *3. Horizontal Flipping of Random Images*"
      ]
    },
    {
      "cell_type": "markdown",
      "metadata": {
        "id": "2tBASrLrLV2p"
      },
      "source": [
        "## **Color Jitter**"
      ]
    },
    {
      "cell_type": "code",
      "metadata": {
        "id": "9D-GCORFsjY7"
      },
      "source": [
        "!mkdir colorjitter"
      ],
      "execution_count": 3,
      "outputs": []
    },
    {
      "cell_type": "code",
      "metadata": {
        "id": "_ZenMXZIs7B0"
      },
      "source": [
        "def colorJitter(jitter_value):\r\n",
        "  \r\n",
        "  if not os.path.exists(col_path):\r\n",
        "          os.mkdir(col_path)\r\n",
        "          print(\"Directory \" , col_path ,  \" Created \")\r\n",
        "  else:    \r\n",
        "          print(\"Directory \" , col_path ,  \" already exists\")\r\n",
        "\r\n",
        "  rfiles = [f1 for f1 in os.listdir(train_path) if os.path.isfile(os.path.join(train_path, f1))]\r\n",
        "\r\n",
        "  \r\n",
        "  for i in range(len(rfiles)):\r\n",
        "    \r\n",
        "    img = cv2.imread(train_path + \"/\" + rfiles[i])\r\n",
        "    #img = cv2.cvtColor(img, cv2.COLOR_BGR2RGB)  # cv2 defaul color code is BGR\r\n",
        "    h,w,c = img.shape \r\n",
        "\r\n",
        "    noise = np.random.randint(0,jitter_value,(h, w)) # design jitter/noise here\r\n",
        "    jitter = np.zeros_like(img)\r\n",
        "    #for k in range (1,3):\r\n",
        "    jitter[:,:,2] = noise  \r\n",
        "\r\n",
        "    noise_added = cv2.add(img, jitter)\r\n",
        "      \r\n",
        "      #combined = np.vstack((img[:h/2,:,:], noise_added[h/2:,:,:]))\r\n",
        "    label_in_file = rfiles[i].find(\".\")\r\n",
        "    cv2.imwrite(col_path + \"/\" + rfiles[i][0:label_in_file] +\"cj.jpg\", noise_added)"
      ],
      "execution_count": 4,
      "outputs": []
    },
    {
      "cell_type": "code",
      "metadata": {
        "colab": {
          "base_uri": "https://localhost:8080/"
        },
        "id": "cCVpEq6ks_fp",
        "outputId": "8c0a929c-6f4d-4817-8d04-2fab191ef307"
      },
      "source": [
        "dir = ['cardboard','glass','metal','paper','plastic','trash']\r\n",
        "for i in dir:\r\n",
        "  train_path = '/content/drive/MyDrive/Data/Train/'+i\r\n",
        "  col_path = '/content/colorjitter/colorjitter_'+i\r\n",
        "  colorJitter(30)"
      ],
      "execution_count": 5,
      "outputs": [
        {
          "output_type": "stream",
          "text": [
            "Directory  /content/colorjitter/colorjitter_cardboard  Created \n",
            "Directory  /content/colorjitter/colorjitter_glass  Created \n",
            "Directory  /content/colorjitter/colorjitter_metal  Created \n",
            "Directory  /content/colorjitter/colorjitter_paper  Created \n",
            "Directory  /content/colorjitter/colorjitter_plastic  Created \n",
            "Directory  /content/colorjitter/colorjitter_trash  Created \n"
          ],
          "name": "stdout"
        }
      ]
    },
    {
      "cell_type": "markdown",
      "metadata": {
        "id": "6AYO1eOfLass"
      },
      "source": [
        "## **Random-resized Crop**"
      ]
    },
    {
      "cell_type": "code",
      "metadata": {
        "id": "97Evt7aUtLGp"
      },
      "source": [
        "!mkdir randcrop_data"
      ],
      "execution_count": 6,
      "outputs": []
    },
    {
      "cell_type": "code",
      "metadata": {
        "id": "y3gRFdL1wcto"
      },
      "source": [
        "def get_random_crop(in_path, crop_height, crop_width):\r\n",
        "\r\n",
        "  if not os.path.exists(randcrop_path):\r\n",
        "          os.mkdir(randcrop_path)\r\n",
        "          print(\"Directory \" , randcrop_path ,  \" Created \")\r\n",
        "  else:    \r\n",
        "          print(\"Directory \" , randcrop_path ,  \" already exists\")\r\n",
        "\r\n",
        "  rfiles = [f1 for f1 in os.listdir(in_path) if os.path.isfile(os.path.join(in_path, f1))]\r\n",
        "\r\n",
        "  for i in range(len(rfiles)):\r\n",
        "    \r\n",
        "    img = cv2.imread(in_path + \"/\" + rfiles[i])\r\n",
        "    #resized=cv2.resize(img,(300,300)) #resizing images\r\n",
        "      \r\n",
        "    #print(img.shape)\r\n",
        "    max_x = img.shape[1] - crop_width\r\n",
        "    max_y = img.shape[0] - crop_height\r\n",
        "\r\n",
        "    x = np.random.randint(0, max_x)\r\n",
        "    y = np.random.randint(0, max_y)\r\n",
        "\r\n",
        "    crop = img[y: y + crop_height, x: x + crop_width]\r\n",
        "    cv2.imwrite(randcrop_path + \"/\" + rfiles[i], crop) #training data from randcrop path"
      ],
      "execution_count": 7,
      "outputs": []
    },
    {
      "cell_type": "code",
      "metadata": {
        "colab": {
          "base_uri": "https://localhost:8080/"
        },
        "id": "-qRlZFxUwhMX",
        "outputId": "f03c31a9-ac20-4b95-926e-b13349ffecb2"
      },
      "source": [
        "dir = ['cardboard','glass','metal','paper','plastic','trash']\r\n",
        "for i in dir:\r\n",
        "  train_path = '/content/colorjitter/colorjitter_'+i\r\n",
        "  randcrop_path = '/content/randcrop_data/randcrop_data_'+i\r\n",
        "  get_random_crop(train_path, 240, 240)"
      ],
      "execution_count": 8,
      "outputs": [
        {
          "output_type": "stream",
          "text": [
            "Directory  /content/randcrop_data/randcrop_data_cardboard  Created \n",
            "Directory  /content/randcrop_data/randcrop_data_glass  Created \n",
            "Directory  /content/randcrop_data/randcrop_data_metal  Created \n",
            "Directory  /content/randcrop_data/randcrop_data_paper  Created \n",
            "Directory  /content/randcrop_data/randcrop_data_plastic  Created \n",
            "Directory  /content/randcrop_data/randcrop_data_trash  Created \n"
          ],
          "name": "stdout"
        }
      ]
    },
    {
      "cell_type": "markdown",
      "metadata": {
        "id": "Pq35RZ5ULfC_"
      },
      "source": [
        "## **Horizontal Flip**"
      ]
    },
    {
      "cell_type": "code",
      "metadata": {
        "id": "sAxQv8irwtZ6"
      },
      "source": [
        "!mkdir flip"
      ],
      "execution_count": 9,
      "outputs": []
    },
    {
      "cell_type": "code",
      "metadata": {
        "id": "sabcIRgrxJq9"
      },
      "source": [
        "def horizontalFlip(in_path):\r\n",
        "\r\n",
        "  if not os.path.exists(flip_path):\r\n",
        "          os.mkdir(flip_path)\r\n",
        "          print(\"Directory \" , flip_path ,  \" Created \")\r\n",
        "  else:    \r\n",
        "          print(\"Directory \" , flip_path ,  \" already exists\")\r\n",
        "\r\n",
        "  rfiles = [f1 for f1 in os.listdir(in_path) if os.path.isfile(os.path.join(in_path, f1))]\r\n",
        "\r\n",
        "  for i in range(len(rfiles)):\r\n",
        "    \r\n",
        "    img = cv2.imread(in_path + \"/\" + rfiles[i])\r\n",
        "    \r\n",
        "    if i%2 == 0:\r\n",
        "      flippedimage= cv2.flip(img, 1)\r\n",
        "    else:\r\n",
        "      flippedimage = img\r\n",
        "      \r\n",
        "      #combined = np.vstack((img[:h/2,:,:], noise_added[h/2:,:,:]))\r\n",
        "    label_in_file = rfiles[i].find(\".\")\r\n",
        "    cv2.imwrite(flip_path + \"/\" + rfiles[i][0:label_in_file] +\"flip.jpg\", flippedimage)"
      ],
      "execution_count": 10,
      "outputs": []
    },
    {
      "cell_type": "code",
      "metadata": {
        "colab": {
          "base_uri": "https://localhost:8080/"
        },
        "id": "8do2_fcJxKkp",
        "outputId": "b91b4f62-01f7-457e-d770-0bdc034db191"
      },
      "source": [
        "dir = ['cardboard','glass','metal','paper','plastic','trash']\r\n",
        "for i in dir:\r\n",
        "  train_path = '/content/randcrop_data/randcrop_data_'+i\r\n",
        "  flip_path = '/content/flip/flip_data'+i\r\n",
        "  horizontalFlip(train_path) "
      ],
      "execution_count": 11,
      "outputs": [
        {
          "output_type": "stream",
          "text": [
            "Directory  /content/flip/flip_datacardboard  Created \n",
            "Directory  /content/flip/flip_dataglass  Created \n",
            "Directory  /content/flip/flip_datametal  Created \n",
            "Directory  /content/flip/flip_datapaper  Created \n",
            "Directory  /content/flip/flip_dataplastic  Created \n",
            "Directory  /content/flip/flip_datatrash  Created \n"
          ],
          "name": "stdout"
        }
      ]
    },
    {
      "cell_type": "markdown",
      "metadata": {
        "id": "u91esyZVpqPf"
      },
      "source": [
        "# **Augmenting Validation Images**"
      ]
    },
    {
      "cell_type": "markdown",
      "metadata": {
        "id": "hv_kr3VDpved"
      },
      "source": [
        "### *1. Color jitter*\n",
        "\n",
        "### *2. Center Cropping*\n",
        "\n",
        "### *3. Horizontal Flipping of Random Images*"
      ]
    },
    {
      "cell_type": "markdown",
      "metadata": {
        "id": "xZTzMlTRLz0r"
      },
      "source": [
        "## **Color Jitter**"
      ]
    },
    {
      "cell_type": "code",
      "metadata": {
        "id": "7XEtMhRHqBEC"
      },
      "source": [
        "!mkdir colorjitter_val"
      ],
      "execution_count": 12,
      "outputs": []
    },
    {
      "cell_type": "code",
      "metadata": {
        "colab": {
          "base_uri": "https://localhost:8080/"
        },
        "id": "gQwCZ8yKqB7N",
        "outputId": "1b9fc247-d774-4d85-8c7d-148b030db133"
      },
      "source": [
        "dir = ['cardboard','glass','metal','paper','plastic','trash']\n",
        "for i in dir:\n",
        "  train_path = '/content/drive/MyDrive/Data/Val/'+i\n",
        "  col_path = '/content/colorjitter_val/colorjitter_val_'+i\n",
        "  colorJitter(10)"
      ],
      "execution_count": 13,
      "outputs": [
        {
          "output_type": "stream",
          "text": [
            "Directory  /content/colorjitter_val/colorjitter_val_cardboard  Created \n",
            "Directory  /content/colorjitter_val/colorjitter_val_glass  Created \n",
            "Directory  /content/colorjitter_val/colorjitter_val_metal  Created \n",
            "Directory  /content/colorjitter_val/colorjitter_val_paper  Created \n",
            "Directory  /content/colorjitter_val/colorjitter_val_plastic  Created \n",
            "Directory  /content/colorjitter_val/colorjitter_val_trash  Created \n"
          ],
          "name": "stdout"
        }
      ]
    },
    {
      "cell_type": "markdown",
      "metadata": {
        "id": "8XkxdVCUL4Ug"
      },
      "source": [
        "## **Center Crop**"
      ]
    },
    {
      "cell_type": "code",
      "metadata": {
        "id": "d8-T4jAvxO3O"
      },
      "source": [
        "!mkdir centercrop_data"
      ],
      "execution_count": 14,
      "outputs": []
    },
    {
      "cell_type": "code",
      "metadata": {
        "id": "mQue1CGIxiCB"
      },
      "source": [
        "def center_crop(in_path, out_path, dim=(240, 240)):\r\n",
        "\r\n",
        "  if not os.path.exists(out_path):\r\n",
        "          os.mkdir(out_path)\r\n",
        "          print(\"Directory \" , out_path ,  \" Created \")\r\n",
        "  else:    \r\n",
        "          print(\"Directory \" , out_path ,  \" already exists\")\r\n",
        "\r\n",
        "  rfiles = [f1 for f1 in os.listdir(in_path) if os.path.isfile(os.path.join(in_path, f1))]\r\n",
        "\r\n",
        "  for i in range(len(rfiles)):\r\n",
        "    \r\n",
        "    img = cv2.imread(in_path + \"/\" + rfiles[i])\r\n",
        "\r\n",
        "    width, height = img.shape[1], img.shape[0]\r\n",
        "  #process crop width and height for max available dimension\r\n",
        "    crop_width = dim[0] if dim[0]<img.shape[1] else img.shape[1]\r\n",
        "    crop_height = dim[1] if dim[1]<img.shape[0] else img.shape[0]\r\n",
        "    mid_x, mid_y = int(width/2), int(height/2)\r\n",
        "    cw2, ch2 = int(crop_width/2), int(crop_height/2) \r\n",
        "    crop_img = img[mid_y-ch2:mid_y+ch2, mid_x-cw2:mid_x+cw2]\r\n",
        "\r\n",
        "    cv2.imwrite(out_path + \"/\" + rfiles[i], crop_img) #validation in crop path, test in test_crop"
      ],
      "execution_count": 15,
      "outputs": []
    },
    {
      "cell_type": "code",
      "metadata": {
        "colab": {
          "base_uri": "https://localhost:8080/"
        },
        "id": "fqq1atx1xmrf",
        "outputId": "1580ab12-966d-4616-cbe3-1b4ca4d3da6a"
      },
      "source": [
        "dir = ['cardboard','glass','metal','paper','plastic','trash']\r\n",
        "for i in dir:\r\n",
        "  val_path = '/content/colorjitter_val/colorjitter_val_'+i\r\n",
        "  crop_path = '/content/centercrop_data/centercrop_data_'+i\r\n",
        "  center_crop(val_path, crop_path)"
      ],
      "execution_count": 16,
      "outputs": [
        {
          "output_type": "stream",
          "text": [
            "Directory  /content/centercrop_data/centercrop_data_cardboard  Created \n",
            "Directory  /content/centercrop_data/centercrop_data_glass  Created \n",
            "Directory  /content/centercrop_data/centercrop_data_metal  Created \n",
            "Directory  /content/centercrop_data/centercrop_data_paper  Created \n",
            "Directory  /content/centercrop_data/centercrop_data_plastic  Created \n",
            "Directory  /content/centercrop_data/centercrop_data_trash  Created \n"
          ],
          "name": "stdout"
        }
      ]
    },
    {
      "cell_type": "markdown",
      "metadata": {
        "id": "G86POpHoMFBE"
      },
      "source": [
        "## **Horizontal Flip**"
      ]
    },
    {
      "cell_type": "code",
      "metadata": {
        "id": "0wuvL7DXqDvV"
      },
      "source": [
        "!mkdir flip_val"
      ],
      "execution_count": 17,
      "outputs": []
    },
    {
      "cell_type": "code",
      "metadata": {
        "colab": {
          "base_uri": "https://localhost:8080/"
        },
        "id": "x7xgBb0wvM2_",
        "outputId": "832bcb52-0993-4a45-8743-9ffd829a6717"
      },
      "source": [
        "dir = ['cardboard','glass','metal','paper','plastic','trash']\n",
        "for i in dir:\n",
        "  train_path = '/content/centercrop_data/centercrop_data_'+i\n",
        "  flip_path = '/content/flip_val/flip_data_val_'+i\n",
        "  horizontalFlip(train_path) "
      ],
      "execution_count": 18,
      "outputs": [
        {
          "output_type": "stream",
          "text": [
            "Directory  /content/flip_val/flip_data_val_cardboard  Created \n",
            "Directory  /content/flip_val/flip_data_val_glass  Created \n",
            "Directory  /content/flip_val/flip_data_val_metal  Created \n",
            "Directory  /content/flip_val/flip_data_val_paper  Created \n",
            "Directory  /content/flip_val/flip_data_val_plastic  Created \n",
            "Directory  /content/flip_val/flip_data_val_trash  Created \n"
          ],
          "name": "stdout"
        }
      ]
    },
    {
      "cell_type": "code",
      "metadata": {
        "id": "GwvUgKzVxp09"
      },
      "source": [
        "aug_path = '/content/flip'\r\n",
        "center_path = '/content/flip_val'"
      ],
      "execution_count": 19,
      "outputs": []
    },
    {
      "cell_type": "code",
      "metadata": {
        "colab": {
          "base_uri": "https://localhost:8080/"
        },
        "id": "tvQHDVlvyHlg",
        "outputId": "15625d20-2511-443c-ff39-b7fa56f49e3b"
      },
      "source": [
        "aug_generator = ImageDataGenerator(rescale = 1/255)\r\n",
        "\r\n",
        "aug_generator = aug_generator.flow_from_directory(aug_path,\r\n",
        "                                              target_size = (300,300),\r\n",
        "                                              batch_size = 16,\r\n",
        "                                              class_mode = 'categorical')\r\n",
        "\r\n",
        "labels = (aug_generator.class_indices)\r\n",
        "print(labels,'\\n')\r\n",
        "\r\n",
        "labels = dict((v,k) for k,v in labels.items())\r\n",
        "print(labels)"
      ],
      "execution_count": 20,
      "outputs": [
        {
          "output_type": "stream",
          "text": [
            "Found 1891 images belonging to 6 classes.\n",
            "{'flip_datacardboard': 0, 'flip_dataglass': 1, 'flip_datametal': 2, 'flip_datapaper': 3, 'flip_dataplastic': 4, 'flip_datatrash': 5} \n",
            "\n",
            "{0: 'flip_datacardboard', 1: 'flip_dataglass', 2: 'flip_datametal', 3: 'flip_datapaper', 4: 'flip_dataplastic', 5: 'flip_datatrash'}\n"
          ],
          "name": "stdout"
        }
      ]
    },
    {
      "cell_type": "code",
      "metadata": {
        "colab": {
          "base_uri": "https://localhost:8080/"
        },
        "id": "xOF46bx8yYqM",
        "outputId": "f034b66f-847a-4249-f3e6-04df8e4f5751"
      },
      "source": [
        "center_generator = ImageDataGenerator(rescale = 1/255)\r\n",
        "\r\n",
        "center_generator = center_generator.flow_from_directory(center_path,\r\n",
        "                                                    target_size = (300,300),\r\n",
        "                                                    batch_size = 16,\r\n",
        "                                                    class_mode = 'categorical')\r\n",
        "\r\n",
        "labels = (center_generator.class_indices)\r\n",
        "print(labels,'\\n')\r\n",
        "\r\n",
        "labels = dict((v,k) for k,v in labels.items())\r\n",
        "print(labels)"
      ],
      "execution_count": 21,
      "outputs": [
        {
          "output_type": "stream",
          "text": [
            "Found 293 images belonging to 6 classes.\n",
            "{'flip_data_val_cardboard': 0, 'flip_data_val_glass': 1, 'flip_data_val_metal': 2, 'flip_data_val_paper': 3, 'flip_data_val_plastic': 4, 'flip_data_val_trash': 5} \n",
            "\n",
            "{0: 'flip_data_val_cardboard', 1: 'flip_data_val_glass', 2: 'flip_data_val_metal', 3: 'flip_data_val_paper', 4: 'flip_data_val_plastic', 5: 'flip_data_val_trash'}\n"
          ],
          "name": "stdout"
        }
      ]
    },
    {
      "cell_type": "code",
      "metadata": {
        "id": "F9HNliLAzEaW"
      },
      "source": [
        "test = '/content/drive/MyDrive/Data/Test'"
      ],
      "execution_count": 22,
      "outputs": []
    },
    {
      "cell_type": "code",
      "metadata": {
        "colab": {
          "base_uri": "https://localhost:8080/"
        },
        "id": "iIvdRy3Ly6ZM",
        "outputId": "29bf2da9-f555-479a-f573-5ab00731389a"
      },
      "source": [
        "test_generator = ImageDataGenerator(rescale = 1./255)\r\n",
        "\r\n",
        "test_generator = test_generator.flow_from_directory(test,\r\n",
        "                                                target_size = (300,300),\r\n",
        "                                                batch_size = 16,\r\n",
        "                                                class_mode = 'categorical')\r\n",
        "\r\n",
        "test_labels = (test_generator.class_indices)\r\n",
        "print(test_labels,'\\n')\r\n",
        "\r\n",
        "test_labels = dict((v,k) for k,v in test_labels.items())\r\n",
        "print(test_labels)"
      ],
      "execution_count": 23,
      "outputs": [
        {
          "output_type": "stream",
          "text": [
            "Found 343 images belonging to 6 classes.\n",
            "{'cardboard': 0, 'glass': 1, 'metal': 2, 'paper': 3, 'plastic': 4, 'trash': 5} \n",
            "\n",
            "{0: 'cardboard', 1: 'glass', 2: 'metal', 3: 'paper', 4: 'plastic', 5: 'trash'}\n"
          ],
          "name": "stdout"
        }
      ]
    },
    {
      "cell_type": "code",
      "metadata": {
        "colab": {
          "base_uri": "https://localhost:8080/"
        },
        "id": "bpPDzcKtzMzc",
        "outputId": "43aa7aa2-3081-4e26-bd70-eb42759805b0"
      },
      "source": [
        "print(test_generator.class_indices)\r\n",
        "Labels = '\\n'.join(sorted(test_generator.class_indices.keys()))\r\n",
        "\r\n",
        "with open('Labels.txt', 'w') as file:\r\n",
        "  file.write(Labels)"
      ],
      "execution_count": 24,
      "outputs": [
        {
          "output_type": "stream",
          "text": [
            "{'cardboard': 0, 'glass': 1, 'metal': 2, 'paper': 3, 'plastic': 4, 'trash': 5}\n"
          ],
          "name": "stdout"
        }
      ]
    },
    {
      "cell_type": "markdown",
      "metadata": {
        "id": "8axkM6-mN54E"
      },
      "source": [
        "# **Base Model**"
      ]
    },
    {
      "cell_type": "code",
      "metadata": {
        "colab": {
          "base_uri": "https://localhost:8080/"
        },
        "id": "uEmGEtYHzXZB",
        "outputId": "ff731eb6-f705-46aa-ad2c-a91cfc5ef519"
      },
      "source": [
        "base_model=Sequential()\r\n",
        "\r\n",
        "#Convolution blocks\r\n",
        "base_model.add(Conv2D(32, kernel_size = (3,3), padding='same',input_shape=(300,300,3),activation='relu'))\r\n",
        "base_model.add(MaxPooling2D(pool_size=2)) \r\n",
        "\r\n",
        "base_model.add(Conv2D(64, kernel_size = (3,3), padding='same',activation='relu'))\r\n",
        "base_model.add(MaxPooling2D(pool_size=2)) \r\n",
        "\r\n",
        "base_model.add(Conv2D(32, kernel_size = (3,3), padding='same',activation='relu'))\r\n",
        "base_model.add(MaxPooling2D(pool_size=2)) \r\n",
        "\r\n",
        "#Classification layers\r\n",
        "base_model.add(Flatten())\r\n",
        "\r\n",
        "base_model.add(Dense(32,activation='relu'))\r\n",
        "\r\n",
        "base_model.add(Dropout(0.4))\r\n",
        "base_model.add(Dense(6,activation='softmax'))\r\n",
        "\r\n",
        "base_model.summary()"
      ],
      "execution_count": 25,
      "outputs": [
        {
          "output_type": "stream",
          "text": [
            "Model: \"sequential\"\n",
            "_________________________________________________________________\n",
            "Layer (type)                 Output Shape              Param #   \n",
            "=================================================================\n",
            "conv2d (Conv2D)              (None, 300, 300, 32)      896       \n",
            "_________________________________________________________________\n",
            "max_pooling2d (MaxPooling2D) (None, 150, 150, 32)      0         \n",
            "_________________________________________________________________\n",
            "conv2d_1 (Conv2D)            (None, 150, 150, 64)      18496     \n",
            "_________________________________________________________________\n",
            "max_pooling2d_1 (MaxPooling2 (None, 75, 75, 64)        0         \n",
            "_________________________________________________________________\n",
            "conv2d_2 (Conv2D)            (None, 75, 75, 32)        18464     \n",
            "_________________________________________________________________\n",
            "max_pooling2d_2 (MaxPooling2 (None, 37, 37, 32)        0         \n",
            "_________________________________________________________________\n",
            "flatten (Flatten)            (None, 43808)             0         \n",
            "_________________________________________________________________\n",
            "dense (Dense)                (None, 32)                1401888   \n",
            "_________________________________________________________________\n",
            "dropout (Dropout)            (None, 32)                0         \n",
            "_________________________________________________________________\n",
            "dense_1 (Dense)              (None, 6)                 198       \n",
            "=================================================================\n",
            "Total params: 1,439,942\n",
            "Trainable params: 1,439,942\n",
            "Non-trainable params: 0\n",
            "_________________________________________________________________\n"
          ],
          "name": "stdout"
        }
      ]
    },
    {
      "cell_type": "code",
      "metadata": {
        "colab": {
          "base_uri": "https://localhost:8080/",
          "height": 35
        },
        "id": "DaQFy4V3zcGc",
        "outputId": "7ea82051-1966-4a6f-a897-9f24730b5b6e"
      },
      "source": [
        "import tensorflow as tf\r\n",
        "tf.test.gpu_device_name()"
      ],
      "execution_count": 26,
      "outputs": [
        {
          "output_type": "execute_result",
          "data": {
            "application/vnd.google.colaboratory.intrinsic+json": {
              "type": "string"
            },
            "text/plain": [
              "'/device:GPU:0'"
            ]
          },
          "metadata": {
            "tags": []
          },
          "execution_count": 26
        }
      ]
    },
    {
      "cell_type": "code",
      "metadata": {
        "id": "3mQM7rTBzhLE"
      },
      "source": [
        "base_model.compile(optimizer = SGD(lr=0.01, momentum=0.9, decay=0.01), loss = 'categorical_crossentropy', metrics = ['accuracy'])"
      ],
      "execution_count": 27,
      "outputs": []
    },
    {
      "cell_type": "code",
      "metadata": {
        "colab": {
          "base_uri": "https://localhost:8080/"
        },
        "id": "d6QdB8eNzoXh",
        "outputId": "c6bd4173-6a67-464c-e16d-9537e9d74af1"
      },
      "source": [
        "hist = base_model.fit(aug_generator,\r\n",
        "          validation_data=center_generator,\r\n",
        "          epochs=60,\r\n",
        "          verbose=1)"
      ],
      "execution_count": 28,
      "outputs": [
        {
          "output_type": "stream",
          "text": [
            "Epoch 1/60\n",
            "119/119 [==============================] - 15s 62ms/step - loss: 1.7722 - accuracy: 0.2243 - val_loss: 1.6758 - val_accuracy: 0.2935\n",
            "Epoch 2/60\n",
            "119/119 [==============================] - 7s 57ms/step - loss: 1.7049 - accuracy: 0.2428 - val_loss: 1.6356 - val_accuracy: 0.2935\n",
            "Epoch 3/60\n",
            "119/119 [==============================] - 7s 58ms/step - loss: 1.6451 - accuracy: 0.3091 - val_loss: 1.5822 - val_accuracy: 0.3413\n",
            "Epoch 4/60\n",
            "119/119 [==============================] - 7s 56ms/step - loss: 1.6130 - accuracy: 0.3315 - val_loss: 1.6115 - val_accuracy: 0.3174\n",
            "Epoch 5/60\n",
            "119/119 [==============================] - 7s 56ms/step - loss: 1.5930 - accuracy: 0.3277 - val_loss: 1.4739 - val_accuracy: 0.3891\n",
            "Epoch 6/60\n",
            "119/119 [==============================] - 7s 57ms/step - loss: 1.5769 - accuracy: 0.3481 - val_loss: 1.4634 - val_accuracy: 0.3857\n",
            "Epoch 7/60\n",
            "119/119 [==============================] - 7s 58ms/step - loss: 1.4920 - accuracy: 0.3592 - val_loss: 1.5166 - val_accuracy: 0.3515\n",
            "Epoch 8/60\n",
            "119/119 [==============================] - 7s 57ms/step - loss: 1.5087 - accuracy: 0.3706 - val_loss: 1.4536 - val_accuracy: 0.3993\n",
            "Epoch 9/60\n",
            "119/119 [==============================] - 7s 56ms/step - loss: 1.4651 - accuracy: 0.3826 - val_loss: 1.4062 - val_accuracy: 0.4300\n",
            "Epoch 10/60\n",
            "119/119 [==============================] - 7s 56ms/step - loss: 1.4472 - accuracy: 0.4174 - val_loss: 1.4760 - val_accuracy: 0.3925\n",
            "Epoch 11/60\n",
            "119/119 [==============================] - 7s 56ms/step - loss: 1.4289 - accuracy: 0.4267 - val_loss: 1.4379 - val_accuracy: 0.4061\n",
            "Epoch 12/60\n",
            "119/119 [==============================] - 7s 56ms/step - loss: 1.3907 - accuracy: 0.4500 - val_loss: 1.3677 - val_accuracy: 0.4471\n",
            "Epoch 13/60\n",
            "119/119 [==============================] - 7s 56ms/step - loss: 1.3944 - accuracy: 0.4211 - val_loss: 1.3585 - val_accuracy: 0.4403\n",
            "Epoch 14/60\n",
            "119/119 [==============================] - 7s 56ms/step - loss: 1.3393 - accuracy: 0.4595 - val_loss: 1.3969 - val_accuracy: 0.4369\n",
            "Epoch 15/60\n",
            "119/119 [==============================] - 7s 56ms/step - loss: 1.3294 - accuracy: 0.4896 - val_loss: 1.4462 - val_accuracy: 0.4096\n",
            "Epoch 16/60\n",
            "119/119 [==============================] - 7s 56ms/step - loss: 1.3299 - accuracy: 0.4863 - val_loss: 1.3352 - val_accuracy: 0.4846\n",
            "Epoch 17/60\n",
            "119/119 [==============================] - 7s 56ms/step - loss: 1.2792 - accuracy: 0.5053 - val_loss: 1.3899 - val_accuracy: 0.4437\n",
            "Epoch 18/60\n",
            "119/119 [==============================] - 7s 56ms/step - loss: 1.2810 - accuracy: 0.5102 - val_loss: 1.3256 - val_accuracy: 0.5017\n",
            "Epoch 19/60\n",
            "119/119 [==============================] - 7s 56ms/step - loss: 1.2707 - accuracy: 0.4918 - val_loss: 1.3601 - val_accuracy: 0.4471\n",
            "Epoch 20/60\n",
            "119/119 [==============================] - 7s 56ms/step - loss: 1.2227 - accuracy: 0.5299 - val_loss: 1.3191 - val_accuracy: 0.4983\n",
            "Epoch 21/60\n",
            "119/119 [==============================] - 7s 56ms/step - loss: 1.1738 - accuracy: 0.5638 - val_loss: 1.3388 - val_accuracy: 0.4846\n",
            "Epoch 22/60\n",
            "119/119 [==============================] - 7s 56ms/step - loss: 1.2299 - accuracy: 0.5166 - val_loss: 1.4370 - val_accuracy: 0.4198\n",
            "Epoch 23/60\n",
            "119/119 [==============================] - 7s 56ms/step - loss: 1.2124 - accuracy: 0.5343 - val_loss: 1.3291 - val_accuracy: 0.4846\n",
            "Epoch 24/60\n",
            "119/119 [==============================] - 7s 56ms/step - loss: 1.1702 - accuracy: 0.5461 - val_loss: 1.3115 - val_accuracy: 0.4915\n",
            "Epoch 25/60\n",
            "119/119 [==============================] - 7s 56ms/step - loss: 1.1810 - accuracy: 0.5455 - val_loss: 1.3775 - val_accuracy: 0.4471\n",
            "Epoch 26/60\n",
            "119/119 [==============================] - 7s 56ms/step - loss: 1.1440 - accuracy: 0.5683 - val_loss: 1.3047 - val_accuracy: 0.4778\n",
            "Epoch 27/60\n",
            "119/119 [==============================] - 7s 56ms/step - loss: 1.1748 - accuracy: 0.5379 - val_loss: 1.3242 - val_accuracy: 0.4949\n",
            "Epoch 28/60\n",
            "119/119 [==============================] - 7s 57ms/step - loss: 1.1511 - accuracy: 0.5463 - val_loss: 1.3169 - val_accuracy: 0.4846\n",
            "Epoch 29/60\n",
            "119/119 [==============================] - 7s 56ms/step - loss: 1.1014 - accuracy: 0.5735 - val_loss: 1.3314 - val_accuracy: 0.4812\n",
            "Epoch 30/60\n",
            "119/119 [==============================] - 7s 57ms/step - loss: 1.0855 - accuracy: 0.5918 - val_loss: 1.3911 - val_accuracy: 0.4744\n",
            "Epoch 31/60\n",
            "119/119 [==============================] - 7s 56ms/step - loss: 1.0742 - accuracy: 0.5662 - val_loss: 1.2978 - val_accuracy: 0.4949\n",
            "Epoch 32/60\n",
            "119/119 [==============================] - 7s 57ms/step - loss: 1.0405 - accuracy: 0.5891 - val_loss: 1.3164 - val_accuracy: 0.5017\n",
            "Epoch 33/60\n",
            "119/119 [==============================] - 7s 56ms/step - loss: 1.0503 - accuracy: 0.6092 - val_loss: 1.3817 - val_accuracy: 0.4710\n",
            "Epoch 34/60\n",
            "119/119 [==============================] - 7s 56ms/step - loss: 0.9737 - accuracy: 0.6366 - val_loss: 1.3319 - val_accuracy: 0.4744\n",
            "Epoch 35/60\n",
            "119/119 [==============================] - 7s 57ms/step - loss: 1.0288 - accuracy: 0.6131 - val_loss: 1.4011 - val_accuracy: 0.4608\n",
            "Epoch 36/60\n",
            "119/119 [==============================] - 7s 56ms/step - loss: 0.9820 - accuracy: 0.6044 - val_loss: 1.3226 - val_accuracy: 0.4949\n",
            "Epoch 37/60\n",
            "119/119 [==============================] - 7s 56ms/step - loss: 0.9524 - accuracy: 0.6356 - val_loss: 1.3556 - val_accuracy: 0.4744\n",
            "Epoch 38/60\n",
            "119/119 [==============================] - 7s 56ms/step - loss: 0.9529 - accuracy: 0.6489 - val_loss: 1.3891 - val_accuracy: 0.4608\n",
            "Epoch 39/60\n",
            "119/119 [==============================] - 7s 57ms/step - loss: 0.9178 - accuracy: 0.6558 - val_loss: 1.4173 - val_accuracy: 0.4676\n",
            "Epoch 40/60\n",
            "119/119 [==============================] - 7s 57ms/step - loss: 0.8744 - accuracy: 0.6685 - val_loss: 1.3718 - val_accuracy: 0.4812\n",
            "Epoch 41/60\n",
            "119/119 [==============================] - 7s 56ms/step - loss: 0.8791 - accuracy: 0.6815 - val_loss: 1.3204 - val_accuracy: 0.5119\n",
            "Epoch 42/60\n",
            "119/119 [==============================] - 7s 56ms/step - loss: 0.8565 - accuracy: 0.6843 - val_loss: 1.3624 - val_accuracy: 0.4846\n",
            "Epoch 43/60\n",
            "119/119 [==============================] - 7s 57ms/step - loss: 0.8432 - accuracy: 0.6872 - val_loss: 1.4488 - val_accuracy: 0.4539\n",
            "Epoch 44/60\n",
            "119/119 [==============================] - 7s 56ms/step - loss: 0.8459 - accuracy: 0.6763 - val_loss: 1.4031 - val_accuracy: 0.4915\n",
            "Epoch 45/60\n",
            "119/119 [==============================] - 7s 55ms/step - loss: 0.8497 - accuracy: 0.6711 - val_loss: 1.4232 - val_accuracy: 0.4676\n",
            "Epoch 46/60\n",
            "119/119 [==============================] - 7s 56ms/step - loss: 0.8223 - accuracy: 0.6961 - val_loss: 1.5224 - val_accuracy: 0.4437\n",
            "Epoch 47/60\n",
            "119/119 [==============================] - 7s 57ms/step - loss: 0.8469 - accuracy: 0.6824 - val_loss: 1.4243 - val_accuracy: 0.4744\n",
            "Epoch 48/60\n",
            "119/119 [==============================] - 7s 58ms/step - loss: 0.8029 - accuracy: 0.7081 - val_loss: 1.4464 - val_accuracy: 0.4642\n",
            "Epoch 49/60\n",
            "119/119 [==============================] - 7s 57ms/step - loss: 0.7719 - accuracy: 0.7108 - val_loss: 1.4899 - val_accuracy: 0.4539\n",
            "Epoch 50/60\n",
            "119/119 [==============================] - 7s 56ms/step - loss: 0.7629 - accuracy: 0.7163 - val_loss: 1.4744 - val_accuracy: 0.4846\n",
            "Epoch 51/60\n",
            "119/119 [==============================] - 7s 56ms/step - loss: 0.7178 - accuracy: 0.7394 - val_loss: 1.5519 - val_accuracy: 0.4539\n",
            "Epoch 52/60\n",
            "119/119 [==============================] - 7s 57ms/step - loss: 0.7393 - accuracy: 0.7203 - val_loss: 1.4933 - val_accuracy: 0.4608\n",
            "Epoch 53/60\n",
            "119/119 [==============================] - 7s 57ms/step - loss: 0.7241 - accuracy: 0.7480 - val_loss: 1.5507 - val_accuracy: 0.4539\n",
            "Epoch 54/60\n",
            "119/119 [==============================] - 7s 58ms/step - loss: 0.7415 - accuracy: 0.7272 - val_loss: 1.5588 - val_accuracy: 0.4334\n",
            "Epoch 55/60\n",
            "119/119 [==============================] - 7s 57ms/step - loss: 0.6809 - accuracy: 0.7468 - val_loss: 1.5432 - val_accuracy: 0.4437\n",
            "Epoch 56/60\n",
            "119/119 [==============================] - 7s 57ms/step - loss: 0.7057 - accuracy: 0.7294 - val_loss: 1.5542 - val_accuracy: 0.4505\n",
            "Epoch 57/60\n",
            "119/119 [==============================] - 7s 57ms/step - loss: 0.6679 - accuracy: 0.7526 - val_loss: 1.5427 - val_accuracy: 0.4676\n",
            "Epoch 58/60\n",
            "119/119 [==============================] - 7s 57ms/step - loss: 0.6535 - accuracy: 0.7379 - val_loss: 1.5620 - val_accuracy: 0.4812\n",
            "Epoch 59/60\n",
            "119/119 [==============================] - 7s 57ms/step - loss: 0.6506 - accuracy: 0.7698 - val_loss: 1.5541 - val_accuracy: 0.4676\n",
            "Epoch 60/60\n",
            "119/119 [==============================] - 7s 57ms/step - loss: 0.6766 - accuracy: 0.7395 - val_loss: 1.5824 - val_accuracy: 0.4505\n"
          ],
          "name": "stdout"
        }
      ]
    },
    {
      "cell_type": "code",
      "metadata": {
        "colab": {
          "base_uri": "https://localhost:8080/",
          "height": 295
        },
        "id": "A2br9ECfz1DR",
        "outputId": "8664a3ba-5dbd-4039-b9a1-18c141eb9ef8"
      },
      "source": [
        "plt.plot(hist.history['accuracy'])\r\n",
        "plt.plot(hist.history['val_accuracy'])\r\n",
        "plt.title('model accuracy')\r\n",
        "plt.ylabel('accuracy')\r\n",
        "plt.xlabel('epoch')\r\n",
        "plt.legend(['train', 'val'], loc='upper left')\r\n",
        "plt.show()"
      ],
      "execution_count": 57,
      "outputs": [
        {
          "output_type": "display_data",
          "data": {
            "image/png": "[encoded data removed]",
            "text/plain": [
              "<Figure size 432x288 with 1 Axes>"
            ]
          },
          "metadata": {
            "tags": [],
            "needs_background": "light"
          }
        }
      ]
    },
    {
      "cell_type": "code",
      "metadata": {
        "colab": {
          "base_uri": "https://localhost:8080/"
        },
        "id": "yiAN5X2wZ9OC",
        "outputId": "1ae06955-ad68-438c-cad6-3cf8df3e9831"
      },
      "source": [
        "base_model.evaluate(test_generator)"
      ],
      "execution_count": 29,
      "outputs": [
        {
          "output_type": "stream",
          "text": [
            "22/22 [==============================] - 114s 5s/step - loss: 1.6664 - accuracy: 0.4373\n"
          ],
          "name": "stdout"
        },
        {
          "output_type": "execute_result",
          "data": {
            "text/plain": [
              "[1.6664350032806396, 0.43731778860092163]"
            ]
          },
          "metadata": {
            "tags": []
          },
          "execution_count": 29
        }
      ]
    },
    {
      "cell_type": "code",
      "metadata": {
        "id": "luN_AjYPCUnZ"
      },
      "source": [
        "base_model.save('base.h5')"
      ],
      "execution_count": 30,
      "outputs": []
    },
    {
      "cell_type": "markdown",
      "metadata": {
        "id": "p2eJYiIS1e7g"
      },
      "source": [
        "# **Augmentations for test images**"
      ]
    },
    {
      "cell_type": "markdown",
      "metadata": {
        "id": "RWp_olEjQMqn"
      },
      "source": [
        "### *1. Color jitter*\n",
        "\n",
        "### *2. Center Crop with values ((64x64), (128x128), (224x224))*"
      ]
    },
    {
      "cell_type": "markdown",
      "metadata": {
        "id": "YRJDTk-AQlhv"
      },
      "source": [
        "## **Color Jitter**"
      ]
    },
    {
      "cell_type": "code",
      "metadata": {
        "id": "c8ufanVM43lc"
      },
      "source": [
        "!mkdir colorjitter_test"
      ],
      "execution_count": 31,
      "outputs": []
    },
    {
      "cell_type": "code",
      "metadata": {
        "colab": {
          "base_uri": "https://localhost:8080/"
        },
        "id": "GbFJ79Ap4rph",
        "outputId": "a421135f-00ed-4a19-953e-9ef3dd6cebf8"
      },
      "source": [
        "dir = ['cardboard','glass','metal','paper','plastic','trash']\n",
        "for i in dir:\n",
        "  train_path = '/content/drive/MyDrive/Data/Test/'+i\n",
        "  col_path = '/content/colorjitter_test/colorjitter_test_'+i\n",
        "  colorJitter(5)"
      ],
      "execution_count": 32,
      "outputs": [
        {
          "output_type": "stream",
          "text": [
            "Directory  /content/colorjitter_test/colorjitter_test_cardboard  Created \n",
            "Directory  /content/colorjitter_test/colorjitter_test_glass  Created \n",
            "Directory  /content/colorjitter_test/colorjitter_test_metal  Created \n",
            "Directory  /content/colorjitter_test/colorjitter_test_paper  Created \n",
            "Directory  /content/colorjitter_test/colorjitter_test_plastic  Created \n",
            "Directory  /content/colorjitter_test/colorjitter_test_trash  Created \n"
          ],
          "name": "stdout"
        }
      ]
    },
    {
      "cell_type": "markdown",
      "metadata": {
        "id": "qqdcF7JiQpu8"
      },
      "source": [
        "## **Center Crop (64x64)**"
      ]
    },
    {
      "cell_type": "code",
      "metadata": {
        "id": "H2zzMd5s4Sam"
      },
      "source": [
        "!mkdir centercrop64"
      ],
      "execution_count": 33,
      "outputs": []
    },
    {
      "cell_type": "code",
      "metadata": {
        "id": "oiyaUMbv3f4a"
      },
      "source": [
        "def center_crop_test(in_path, out_path, dim):\n",
        "\n",
        "  if not os.path.exists(out_path):\n",
        "          os.mkdir(out_path)\n",
        "          print(\"Directory \" , out_path ,  \" Created \")\n",
        "  else:    \n",
        "          print(\"Directory \" , out_path ,  \" already exists\")\n",
        "\n",
        "  rfiles = [f1 for f1 in os.listdir(in_path) if os.path.isfile(os.path.join(in_path, f1))]\n",
        "\n",
        "  for i in range(len(rfiles)):\n",
        "    \n",
        "    img = cv2.imread(in_path + \"/\" + rfiles[i])\n",
        "\n",
        "    width, height = img.shape[1], img.shape[0]\n",
        "  #process crop width and height for max available dimension\n",
        "    crop_width = dim[0] if dim[0]<img.shape[1] else img.shape[1]\n",
        "    crop_height = dim[1] if dim[1]<img.shape[0] else img.shape[0]\n",
        "    mid_x, mid_y = int(width/2), int(height/2)\n",
        "    cw2, ch2 = int(crop_width/2), int(crop_height/2) \n",
        "    crop_img = img[mid_y-ch2:mid_y+ch2, mid_x-cw2:mid_x+cw2]\n",
        "\n",
        "    cv2.imwrite(out_path + \"/\" + rfiles[i], crop_img) #validation in crop path, test in test_crop"
      ],
      "execution_count": 34,
      "outputs": []
    },
    {
      "cell_type": "code",
      "metadata": {
        "colab": {
          "base_uri": "https://localhost:8080/"
        },
        "id": "y4FeT_zE1a1t",
        "outputId": "57410fa5-9b0f-4696-b198-1b5145d5f6c3"
      },
      "source": [
        "dir = ['cardboard','glass','metal','paper','plastic','trash']\n",
        "for i in dir:\n",
        "  test_path = '/content/colorjitter_test/colorjitter_test_'+i\n",
        "  crop_path = '/content/centercrop64/centercrop_64_'+i\n",
        "  center_crop_test(test_path, crop_path, (64,64))"
      ],
      "execution_count": 35,
      "outputs": [
        {
          "output_type": "stream",
          "text": [
            "Directory  /content/centercrop64/centercrop_64_cardboard  Created \n",
            "Directory  /content/centercrop64/centercrop_64_glass  Created \n",
            "Directory  /content/centercrop64/centercrop_64_metal  Created \n",
            "Directory  /content/centercrop64/centercrop_64_paper  Created \n",
            "Directory  /content/centercrop64/centercrop_64_plastic  Created \n",
            "Directory  /content/centercrop64/centercrop_64_trash  Created \n"
          ],
          "name": "stdout"
        }
      ]
    },
    {
      "cell_type": "markdown",
      "metadata": {
        "id": "_9xqFKBZQwb0"
      },
      "source": [
        "## **Center Crop (128x128)**"
      ]
    },
    {
      "cell_type": "code",
      "metadata": {
        "id": "pwokm9xr7M8o"
      },
      "source": [
        "!mkdir centercrop128"
      ],
      "execution_count": 36,
      "outputs": []
    },
    {
      "cell_type": "code",
      "metadata": {
        "colab": {
          "base_uri": "https://localhost:8080/"
        },
        "id": "BSgmOeWB7Ddi",
        "outputId": "849e00cf-073e-4d3e-f585-a021c61f9488"
      },
      "source": [
        "dir = ['cardboard','glass','metal','paper','plastic','trash']\n",
        "for i in dir:\n",
        "  test_path = '/content/colorjitter_test/colorjitter_test_'+i\n",
        "  crop_path = '/content/centercrop128/centercrop_128_'+i\n",
        "  center_crop_test(test_path, crop_path, (128,128))"
      ],
      "execution_count": 37,
      "outputs": [
        {
          "output_type": "stream",
          "text": [
            "Directory  /content/centercrop128/centercrop_128_cardboard  Created \n",
            "Directory  /content/centercrop128/centercrop_128_glass  Created \n",
            "Directory  /content/centercrop128/centercrop_128_metal  Created \n",
            "Directory  /content/centercrop128/centercrop_128_paper  Created \n",
            "Directory  /content/centercrop128/centercrop_128_plastic  Created \n",
            "Directory  /content/centercrop128/centercrop_128_trash  Created \n"
          ],
          "name": "stdout"
        }
      ]
    },
    {
      "cell_type": "markdown",
      "metadata": {
        "id": "gAUYdt4yQ00C"
      },
      "source": [
        "## **Center Crop (224x224)**"
      ]
    },
    {
      "cell_type": "code",
      "metadata": {
        "id": "anMUyYOx7UHu"
      },
      "source": [
        "!mkdir centercrop224"
      ],
      "execution_count": 38,
      "outputs": []
    },
    {
      "cell_type": "code",
      "metadata": {
        "colab": {
          "base_uri": "https://localhost:8080/"
        },
        "id": "4byJHRka7UNx",
        "outputId": "9e1040c8-b2a7-48b9-e9dc-08f5e4963b53"
      },
      "source": [
        "dir = ['cardboard','glass','metal','paper','plastic','trash']\n",
        "for i in dir:\n",
        "  test_path = '/content/colorjitter_test/colorjitter_test_'+i\n",
        "  crop_path = '/content/centercrop224/centercrop_224_'+i\n",
        "  center_crop_test(test_path, crop_path, (224,224))"
      ],
      "execution_count": 39,
      "outputs": [
        {
          "output_type": "stream",
          "text": [
            "Directory  /content/centercrop224/centercrop_224_cardboard  Created \n",
            "Directory  /content/centercrop224/centercrop_224_glass  Created \n",
            "Directory  /content/centercrop224/centercrop_224_metal  Created \n",
            "Directory  /content/centercrop224/centercrop_224_paper  Created \n",
            "Directory  /content/centercrop224/centercrop_224_plastic  Created \n",
            "Directory  /content/centercrop224/centercrop_224_trash  Created \n"
          ],
          "name": "stdout"
        }
      ]
    },
    {
      "cell_type": "markdown",
      "metadata": {
        "id": "FIZ6UO3aTatX"
      },
      "source": [
        "# **Fine Tuning**"
      ]
    },
    {
      "cell_type": "markdown",
      "metadata": {
        "id": "n0G5mdfkSPuS"
      },
      "source": [
        "## *Network Surgery*"
      ]
    },
    {
      "cell_type": "code",
      "metadata": {
        "id": "IddO58rd1dxH",
        "colab": {
          "base_uri": "https://localhost:8080/"
        },
        "outputId": "5348eec4-60db-4660-fe5f-d7208c2b8bc7"
      },
      "source": [
        "from keras.models import Model\r\n",
        "new_model = base_model.output\r\n",
        "\r\n",
        "new_model = BatchNormalization()(new_model)\r\n",
        "\r\n",
        "new_model = Dense(6, activation=\"softmax\")(new_model)\r\n",
        "\r\n",
        "model = Model(inputs=base_model.input, outputs=new_model)\r\n",
        "\r\n",
        "model.summary()"
      ],
      "execution_count": 40,
      "outputs": [
        {
          "output_type": "stream",
          "text": [
            "Model: \"model\"\n",
            "_________________________________________________________________\n",
            "Layer (type)                 Output Shape              Param #   \n",
            "=================================================================\n",
            "conv2d_input (InputLayer)    [(None, 300, 300, 3)]     0         \n",
            "_________________________________________________________________\n",
            "conv2d (Conv2D)              (None, 300, 300, 32)      896       \n",
            "_________________________________________________________________\n",
            "max_pooling2d (MaxPooling2D) (None, 150, 150, 32)      0         \n",
            "_________________________________________________________________\n",
            "conv2d_1 (Conv2D)            (None, 150, 150, 64)      18496     \n",
            "_________________________________________________________________\n",
            "max_pooling2d_1 (MaxPooling2 (None, 75, 75, 64)        0         \n",
            "_________________________________________________________________\n",
            "conv2d_2 (Conv2D)            (None, 75, 75, 32)        18464     \n",
            "_________________________________________________________________\n",
            "max_pooling2d_2 (MaxPooling2 (None, 37, 37, 32)        0         \n",
            "_________________________________________________________________\n",
            "flatten (Flatten)            (None, 43808)             0         \n",
            "_________________________________________________________________\n",
            "dense (Dense)                (None, 32)                1401888   \n",
            "_________________________________________________________________\n",
            "dropout (Dropout)            (None, 32)                0         \n",
            "_________________________________________________________________\n",
            "dense_1 (Dense)              (None, 6)                 198       \n",
            "_________________________________________________________________\n",
            "batch_normalization (BatchNo (None, 6)                 24        \n",
            "_________________________________________________________________\n",
            "dense_2 (Dense)              (None, 6)                 42        \n",
            "=================================================================\n",
            "Total params: 1,440,008\n",
            "Trainable params: 1,439,996\n",
            "Non-trainable params: 12\n",
            "_________________________________________________________________\n"
          ],
          "name": "stdout"
        }
      ]
    },
    {
      "cell_type": "markdown",
      "metadata": {
        "id": "Q3Y38TEwTLyS"
      },
      "source": [
        "## *Freeze all of the CONV layers*"
      ]
    },
    {
      "cell_type": "code",
      "metadata": {
        "id": "QjJDbR3OBfAY"
      },
      "source": [
        "for layer in base_model.layers:\r\n",
        "\tlayer.trainable = False"
      ],
      "execution_count": 41,
      "outputs": []
    },
    {
      "cell_type": "code",
      "metadata": {
        "id": "Ty25_7TiYAf1"
      },
      "source": [
        "aug_path = '/content/flip'\n",
        "center_path = '/content/flip_val'"
      ],
      "execution_count": 42,
      "outputs": []
    },
    {
      "cell_type": "code",
      "metadata": {
        "colab": {
          "base_uri": "https://localhost:8080/"
        },
        "id": "r_YzebJsYJoq",
        "outputId": "61fd29c1-f503-4a3b-a6b2-640d469e2a70"
      },
      "source": [
        "aug_generator = ImageDataGenerator(rescale = 1/255)\n",
        "\n",
        "aug_generator = aug_generator.flow_from_directory(aug_path,\n",
        "                                              target_size = (300,300),\n",
        "                                              batch_size = 8,\n",
        "                                              class_mode = 'categorical')\n",
        "\n",
        "labels = (aug_generator.class_indices)\n",
        "print(labels,'\\n')\n",
        "\n",
        "labels = dict((v,k) for k,v in labels.items())\n",
        "print(labels)"
      ],
      "execution_count": 43,
      "outputs": [
        {
          "output_type": "stream",
          "text": [
            "Found 1891 images belonging to 6 classes.\n",
            "{'flip_datacardboard': 0, 'flip_dataglass': 1, 'flip_datametal': 2, 'flip_datapaper': 3, 'flip_dataplastic': 4, 'flip_datatrash': 5} \n",
            "\n",
            "{0: 'flip_datacardboard', 1: 'flip_dataglass', 2: 'flip_datametal', 3: 'flip_datapaper', 4: 'flip_dataplastic', 5: 'flip_datatrash'}\n"
          ],
          "name": "stdout"
        }
      ]
    },
    {
      "cell_type": "code",
      "metadata": {
        "colab": {
          "base_uri": "https://localhost:8080/"
        },
        "id": "gyQVG23HYJtd",
        "outputId": "dd144b97-5e85-45a0-b624-8e1b4bdb1e0d"
      },
      "source": [
        "center_generator = ImageDataGenerator(rescale = 1/255)\n",
        "\n",
        "center_generator = center_generator.flow_from_directory(center_path,\n",
        "                                                    target_size = (300,300),\n",
        "                                                    batch_size = 8,\n",
        "                                                    class_mode = 'categorical')\n",
        "\n",
        "labels = (center_generator.class_indices)\n",
        "print(labels,'\\n')\n",
        "\n",
        "labels = dict((v,k) for k,v in labels.items())\n",
        "print(labels)"
      ],
      "execution_count": 45,
      "outputs": [
        {
          "output_type": "stream",
          "text": [
            "Found 293 images belonging to 6 classes.\n",
            "{'flip_data_val_cardboard': 0, 'flip_data_val_glass': 1, 'flip_data_val_metal': 2, 'flip_data_val_paper': 3, 'flip_data_val_plastic': 4, 'flip_data_val_trash': 5} \n",
            "\n",
            "{0: 'flip_data_val_cardboard', 1: 'flip_data_val_glass', 2: 'flip_data_val_metal', 3: 'flip_data_val_paper', 4: 'flip_data_val_plastic', 5: 'flip_data_val_trash'}\n"
          ],
          "name": "stdout"
        }
      ]
    },
    {
      "cell_type": "code",
      "metadata": {
        "id": "Ms9vpCxfCrpI"
      },
      "source": [
        "model.compile(optimizer = SGD(lr=0.001, momentum=0.9), loss = 'categorical_crossentropy', metrics = ['accuracy'])"
      ],
      "execution_count": 46,
      "outputs": []
    },
    {
      "cell_type": "code",
      "metadata": {
        "colab": {
          "base_uri": "https://localhost:8080/"
        },
        "id": "rfCJSD8gC93u",
        "outputId": "c0a676e8-9cd8-4ff8-ac0a-881ab9eb7d29"
      },
      "source": [
        "hist2 = model.fit(aug_generator,\r\n",
        "          validation_data=center_generator,\r\n",
        "          epochs=60,\r\n",
        "          verbose=1)"
      ],
      "execution_count": 47,
      "outputs": [
        {
          "output_type": "stream",
          "text": [
            "Epoch 1/60\n",
            "237/237 [==============================] - 6s 25ms/step - loss: 1.9069 - accuracy: 0.2067 - val_loss: 1.5874 - val_accuracy: 0.4334\n",
            "Epoch 2/60\n",
            "237/237 [==============================] - 6s 24ms/step - loss: 1.2579 - accuracy: 0.6165 - val_loss: 1.5483 - val_accuracy: 0.4539\n",
            "Epoch 3/60\n",
            "237/237 [==============================] - 6s 24ms/step - loss: 1.0624 - accuracy: 0.6761 - val_loss: 1.5968 - val_accuracy: 0.4505\n",
            "Epoch 4/60\n",
            "237/237 [==============================] - 6s 24ms/step - loss: 0.9535 - accuracy: 0.6842 - val_loss: 1.6120 - val_accuracy: 0.4539\n",
            "Epoch 5/60\n",
            "237/237 [==============================] - 6s 24ms/step - loss: 0.9406 - accuracy: 0.7005 - val_loss: 1.6499 - val_accuracy: 0.4471\n",
            "Epoch 6/60\n",
            "237/237 [==============================] - 6s 24ms/step - loss: 0.9102 - accuracy: 0.6964 - val_loss: 1.6645 - val_accuracy: 0.4539\n",
            "Epoch 7/60\n",
            "237/237 [==============================] - 6s 25ms/step - loss: 0.9383 - accuracy: 0.6897 - val_loss: 1.6687 - val_accuracy: 0.4471\n",
            "Epoch 8/60\n",
            "237/237 [==============================] - 6s 24ms/step - loss: 0.9126 - accuracy: 0.6909 - val_loss: 1.6585 - val_accuracy: 0.4437\n",
            "Epoch 9/60\n",
            "237/237 [==============================] - 6s 24ms/step - loss: 0.8632 - accuracy: 0.7046 - val_loss: 1.6705 - val_accuracy: 0.4369\n",
            "Epoch 10/60\n",
            "237/237 [==============================] - 6s 24ms/step - loss: 0.8746 - accuracy: 0.6891 - val_loss: 1.6801 - val_accuracy: 0.4403\n",
            "Epoch 11/60\n",
            "237/237 [==============================] - 6s 24ms/step - loss: 0.8693 - accuracy: 0.7015 - val_loss: 1.6794 - val_accuracy: 0.4403\n",
            "Epoch 12/60\n",
            "237/237 [==============================] - 6s 24ms/step - loss: 0.8165 - accuracy: 0.7214 - val_loss: 1.7000 - val_accuracy: 0.4369\n",
            "Epoch 13/60\n",
            "237/237 [==============================] - 6s 25ms/step - loss: 0.7959 - accuracy: 0.7433 - val_loss: 1.7085 - val_accuracy: 0.4334\n",
            "Epoch 14/60\n",
            "237/237 [==============================] - 6s 25ms/step - loss: 0.8499 - accuracy: 0.7052 - val_loss: 1.7140 - val_accuracy: 0.4300\n",
            "Epoch 15/60\n",
            "237/237 [==============================] - 6s 25ms/step - loss: 0.8579 - accuracy: 0.6986 - val_loss: 1.6962 - val_accuracy: 0.4334\n",
            "Epoch 16/60\n",
            "237/237 [==============================] - 6s 25ms/step - loss: 0.9050 - accuracy: 0.6744 - val_loss: 1.6894 - val_accuracy: 0.4334\n",
            "Epoch 17/60\n",
            "237/237 [==============================] - 6s 25ms/step - loss: 0.8384 - accuracy: 0.7152 - val_loss: 1.7074 - val_accuracy: 0.4300\n",
            "Epoch 18/60\n",
            "237/237 [==============================] - 6s 25ms/step - loss: 0.8733 - accuracy: 0.7131 - val_loss: 1.7155 - val_accuracy: 0.4300\n",
            "Epoch 19/60\n",
            "237/237 [==============================] - 6s 25ms/step - loss: 0.8420 - accuracy: 0.7189 - val_loss: 1.7017 - val_accuracy: 0.4437\n",
            "Epoch 20/60\n",
            "237/237 [==============================] - 6s 25ms/step - loss: 0.7872 - accuracy: 0.7369 - val_loss: 1.7399 - val_accuracy: 0.4403\n",
            "Epoch 21/60\n",
            "237/237 [==============================] - 6s 25ms/step - loss: 0.8278 - accuracy: 0.7271 - val_loss: 1.7442 - val_accuracy: 0.4403\n",
            "Epoch 22/60\n",
            "237/237 [==============================] - 6s 25ms/step - loss: 0.8567 - accuracy: 0.7098 - val_loss: 1.7097 - val_accuracy: 0.4403\n",
            "Epoch 23/60\n",
            "237/237 [==============================] - 6s 26ms/step - loss: 0.8550 - accuracy: 0.7144 - val_loss: 1.7151 - val_accuracy: 0.4437\n",
            "Epoch 24/60\n",
            "237/237 [==============================] - 6s 25ms/step - loss: 0.7931 - accuracy: 0.7304 - val_loss: 1.7285 - val_accuracy: 0.4403\n",
            "Epoch 25/60\n",
            "237/237 [==============================] - 6s 25ms/step - loss: 0.8873 - accuracy: 0.7008 - val_loss: 1.7140 - val_accuracy: 0.4437\n",
            "Epoch 26/60\n",
            "237/237 [==============================] - 6s 25ms/step - loss: 0.8494 - accuracy: 0.6951 - val_loss: 1.7361 - val_accuracy: 0.4437\n",
            "Epoch 27/60\n",
            "237/237 [==============================] - 6s 25ms/step - loss: 0.8070 - accuracy: 0.7364 - val_loss: 1.7280 - val_accuracy: 0.4266\n",
            "Epoch 28/60\n",
            "237/237 [==============================] - 6s 24ms/step - loss: 0.8843 - accuracy: 0.7112 - val_loss: 1.7100 - val_accuracy: 0.4437\n",
            "Epoch 29/60\n",
            "237/237 [==============================] - 6s 24ms/step - loss: 0.7908 - accuracy: 0.7242 - val_loss: 1.7118 - val_accuracy: 0.4300\n",
            "Epoch 30/60\n",
            "237/237 [==============================] - 6s 24ms/step - loss: 0.7996 - accuracy: 0.7311 - val_loss: 1.7083 - val_accuracy: 0.4403\n",
            "Epoch 31/60\n",
            "237/237 [==============================] - 6s 24ms/step - loss: 0.8309 - accuracy: 0.7190 - val_loss: 1.7248 - val_accuracy: 0.4334\n",
            "Epoch 32/60\n",
            "237/237 [==============================] - 6s 24ms/step - loss: 0.8243 - accuracy: 0.7249 - val_loss: 1.6909 - val_accuracy: 0.4369\n",
            "Epoch 33/60\n",
            "237/237 [==============================] - 6s 24ms/step - loss: 0.8101 - accuracy: 0.7239 - val_loss: 1.7043 - val_accuracy: 0.4403\n",
            "Epoch 34/60\n",
            "237/237 [==============================] - 6s 24ms/step - loss: 0.8504 - accuracy: 0.7248 - val_loss: 1.6909 - val_accuracy: 0.4437\n",
            "Epoch 35/60\n",
            "237/237 [==============================] - 6s 24ms/step - loss: 0.8407 - accuracy: 0.7084 - val_loss: 1.6875 - val_accuracy: 0.4300\n",
            "Epoch 36/60\n",
            "237/237 [==============================] - 6s 24ms/step - loss: 0.8404 - accuracy: 0.7187 - val_loss: 1.7239 - val_accuracy: 0.4334\n",
            "Epoch 37/60\n",
            "237/237 [==============================] - 6s 24ms/step - loss: 0.8484 - accuracy: 0.7048 - val_loss: 1.7242 - val_accuracy: 0.4437\n",
            "Epoch 38/60\n",
            "237/237 [==============================] - 6s 24ms/step - loss: 0.8394 - accuracy: 0.7007 - val_loss: 1.7089 - val_accuracy: 0.4334\n",
            "Epoch 39/60\n",
            "237/237 [==============================] - 6s 25ms/step - loss: 0.8276 - accuracy: 0.7214 - val_loss: 1.7087 - val_accuracy: 0.4300\n",
            "Epoch 40/60\n",
            "237/237 [==============================] - 6s 24ms/step - loss: 0.8155 - accuracy: 0.7197 - val_loss: 1.7126 - val_accuracy: 0.4403\n",
            "Epoch 41/60\n",
            "237/237 [==============================] - 6s 24ms/step - loss: 0.8157 - accuracy: 0.7216 - val_loss: 1.7220 - val_accuracy: 0.4403\n",
            "Epoch 42/60\n",
            "237/237 [==============================] - 6s 24ms/step - loss: 0.8534 - accuracy: 0.7120 - val_loss: 1.7146 - val_accuracy: 0.4369\n",
            "Epoch 43/60\n",
            "237/237 [==============================] - 6s 24ms/step - loss: 0.8039 - accuracy: 0.7218 - val_loss: 1.7163 - val_accuracy: 0.4334\n",
            "Epoch 44/60\n",
            "237/237 [==============================] - 6s 24ms/step - loss: 0.8674 - accuracy: 0.6983 - val_loss: 1.7110 - val_accuracy: 0.4437\n",
            "Epoch 45/60\n",
            "237/237 [==============================] - 6s 24ms/step - loss: 0.7725 - accuracy: 0.7409 - val_loss: 1.7098 - val_accuracy: 0.4266\n",
            "Epoch 46/60\n",
            "237/237 [==============================] - 6s 24ms/step - loss: 0.7917 - accuracy: 0.7239 - val_loss: 1.7164 - val_accuracy: 0.4403\n",
            "Epoch 47/60\n",
            "237/237 [==============================] - 6s 24ms/step - loss: 0.8447 - accuracy: 0.7146 - val_loss: 1.7135 - val_accuracy: 0.4437\n",
            "Epoch 48/60\n",
            "237/237 [==============================] - 6s 25ms/step - loss: 0.8319 - accuracy: 0.7306 - val_loss: 1.7122 - val_accuracy: 0.4471\n",
            "Epoch 49/60\n",
            "237/237 [==============================] - 6s 24ms/step - loss: 0.8393 - accuracy: 0.7171 - val_loss: 1.6936 - val_accuracy: 0.4334\n",
            "Epoch 50/60\n",
            "237/237 [==============================] - 6s 24ms/step - loss: 0.8289 - accuracy: 0.7286 - val_loss: 1.7321 - val_accuracy: 0.4403\n",
            "Epoch 51/60\n",
            "237/237 [==============================] - 6s 25ms/step - loss: 0.8256 - accuracy: 0.7266 - val_loss: 1.7012 - val_accuracy: 0.4471\n",
            "Epoch 52/60\n",
            "237/237 [==============================] - 6s 25ms/step - loss: 0.8648 - accuracy: 0.7091 - val_loss: 1.7077 - val_accuracy: 0.4471\n",
            "Epoch 53/60\n",
            "237/237 [==============================] - 6s 24ms/step - loss: 0.7459 - accuracy: 0.7465 - val_loss: 1.7227 - val_accuracy: 0.4471\n",
            "Epoch 54/60\n",
            "237/237 [==============================] - 6s 24ms/step - loss: 0.8391 - accuracy: 0.7122 - val_loss: 1.7048 - val_accuracy: 0.4403\n",
            "Epoch 55/60\n",
            "237/237 [==============================] - 6s 24ms/step - loss: 0.8313 - accuracy: 0.7019 - val_loss: 1.7123 - val_accuracy: 0.4471\n",
            "Epoch 56/60\n",
            "237/237 [==============================] - 6s 24ms/step - loss: 0.7956 - accuracy: 0.7258 - val_loss: 1.7231 - val_accuracy: 0.4437\n",
            "Epoch 57/60\n",
            "237/237 [==============================] - 6s 24ms/step - loss: 0.8888 - accuracy: 0.6936 - val_loss: 1.7036 - val_accuracy: 0.4369\n",
            "Epoch 58/60\n",
            "237/237 [==============================] - 6s 25ms/step - loss: 0.8621 - accuracy: 0.7084 - val_loss: 1.7106 - val_accuracy: 0.4334\n",
            "Epoch 59/60\n",
            "237/237 [==============================] - 6s 25ms/step - loss: 0.8614 - accuracy: 0.7133 - val_loss: 1.7122 - val_accuracy: 0.4437\n",
            "Epoch 60/60\n",
            "237/237 [==============================] - 6s 25ms/step - loss: 0.8074 - accuracy: 0.7189 - val_loss: 1.7055 - val_accuracy: 0.4403\n"
          ],
          "name": "stdout"
        }
      ]
    },
    {
      "cell_type": "code",
      "metadata": {
        "id": "Z0xmVCIG_k6J"
      },
      "source": [
        "test = '/content/centercrop64'"
      ],
      "execution_count": null,
      "outputs": []
    },
    {
      "cell_type": "code",
      "metadata": {
        "colab": {
          "base_uri": "https://localhost:8080/"
        },
        "id": "wNKUz_JmDhr1",
        "outputId": "a2a90546-52c9-4a14-f154-5bea7d7a517c"
      },
      "source": [
        "test_generator = ImageDataGenerator(rescale = 1./255)\n",
        "\n",
        "test_generator = test_generator.flow_from_directory(test,\n",
        "                                                target_size = (300,300),\n",
        "                                                batch_size = 8,\n",
        "                                                class_mode = 'categorical')\n",
        "\n",
        "test_labels = (test_generator.class_indices)\n",
        "print(test_labels,'\\n')\n",
        "\n",
        "test_labels = dict((v,k) for k,v in test_labels.items())\n",
        "print(test_labels)"
      ],
      "execution_count": 48,
      "outputs": [
        {
          "output_type": "stream",
          "text": [
            "Found 343 images belonging to 6 classes.\n",
            "{'cardboard': 0, 'glass': 1, 'metal': 2, 'paper': 3, 'plastic': 4, 'trash': 5} \n",
            "\n",
            "{0: 'cardboard', 1: 'glass', 2: 'metal', 3: 'paper', 4: 'plastic', 5: 'trash'}\n"
          ],
          "name": "stdout"
        }
      ]
    },
    {
      "cell_type": "markdown",
      "metadata": {
        "id": "EmOFqY6OTkWi"
      },
      "source": [
        "## **Evaluating for (64x64) test crops**"
      ]
    },
    {
      "cell_type": "code",
      "metadata": {
        "colab": {
          "base_uri": "https://localhost:8080/"
        },
        "id": "7mOGaHHvf5Qy",
        "outputId": "be91ad9d-6a77-47fd-93c7-4f630dd7291c"
      },
      "source": [
        "model.evaluate(test_generator)"
      ],
      "execution_count": 49,
      "outputs": [
        {
          "output_type": "stream",
          "text": [
            "43/43 [==============================] - 2s 41ms/step - loss: 1.8449 - accuracy: 0.4198\n"
          ],
          "name": "stdout"
        },
        {
          "output_type": "execute_result",
          "data": {
            "text/plain": [
              "[1.8448598384857178, 0.41982507705688477]"
            ]
          },
          "metadata": {
            "tags": []
          },
          "execution_count": 49
        }
      ]
    },
    {
      "cell_type": "markdown",
      "metadata": {
        "id": "faFRLGnKTvHE"
      },
      "source": [
        "## **Evaluating for (128x128) test crops**"
      ]
    },
    {
      "cell_type": "code",
      "metadata": {
        "id": "aKS2rAVbDvT9"
      },
      "source": [
        "test = '/content/centercrop128'"
      ],
      "execution_count": 50,
      "outputs": []
    },
    {
      "cell_type": "code",
      "metadata": {
        "colab": {
          "base_uri": "https://localhost:8080/"
        },
        "id": "wOZUkJS9D2R6",
        "outputId": "e77cf11f-88e9-4aaf-bfed-f0a6275e7781"
      },
      "source": [
        "test_generator = ImageDataGenerator(rescale = 1./255)\n",
        "\n",
        "test_generator = test_generator.flow_from_directory(test,\n",
        "                                                target_size = (300,300),\n",
        "                                                batch_size = 8,\n",
        "                                                class_mode = 'categorical')\n",
        "\n",
        "test_labels = (test_generator.class_indices)\n",
        "print(test_labels,'\\n')\n",
        "\n",
        "test_labels = dict((v,k) for k,v in test_labels.items())\n",
        "print(test_labels)"
      ],
      "execution_count": 51,
      "outputs": [
        {
          "output_type": "stream",
          "text": [
            "Found 343 images belonging to 6 classes.\n",
            "{'centercrop_128_cardboard': 0, 'centercrop_128_glass': 1, 'centercrop_128_metal': 2, 'centercrop_128_paper': 3, 'centercrop_128_plastic': 4, 'centercrop_128_trash': 5} \n",
            "\n",
            "{0: 'centercrop_128_cardboard', 1: 'centercrop_128_glass', 2: 'centercrop_128_metal', 3: 'centercrop_128_paper', 4: 'centercrop_128_plastic', 5: 'centercrop_128_trash'}\n"
          ],
          "name": "stdout"
        }
      ]
    },
    {
      "cell_type": "code",
      "metadata": {
        "colab": {
          "base_uri": "https://localhost:8080/"
        },
        "id": "wao2oVeDD5Zu",
        "outputId": "1f433e2b-4014-4e92-917d-1c36344995c3"
      },
      "source": [
        "model.evaluate(test_generator)"
      ],
      "execution_count": 52,
      "outputs": [
        {
          "output_type": "stream",
          "text": [
            "43/43 [==============================] - 1s 16ms/step - loss: 1.9087 - accuracy: 0.4169\n"
          ],
          "name": "stdout"
        },
        {
          "output_type": "execute_result",
          "data": {
            "text/plain": [
              "[1.9086743593215942, 0.4169096350669861]"
            ]
          },
          "metadata": {
            "tags": []
          },
          "execution_count": 52
        }
      ]
    },
    {
      "cell_type": "markdown",
      "metadata": {
        "id": "B8VtMiGAT0FJ"
      },
      "source": [
        "## **Evaluating for (224x224) test crops**"
      ]
    },
    {
      "cell_type": "code",
      "metadata": {
        "id": "LaBaBJnMD9NI"
      },
      "source": [
        "test = '/content/centercrop224'"
      ],
      "execution_count": 53,
      "outputs": []
    },
    {
      "cell_type": "code",
      "metadata": {
        "colab": {
          "base_uri": "https://localhost:8080/"
        },
        "id": "bmMuZEiAEHZU",
        "outputId": "d17c1673-d84d-4b2f-8ea9-5106da08dfb3"
      },
      "source": [
        "test_generator = ImageDataGenerator(rescale = 1./255)\n",
        "\n",
        "test_generator = test_generator.flow_from_directory(test,\n",
        "                                                target_size = (300,300),\n",
        "                                                batch_size = 8,\n",
        "                                                class_mode = 'categorical')\n",
        "\n",
        "test_labels = (test_generator.class_indices)\n",
        "print(test_labels,'\\n')\n",
        "\n",
        "test_labels = dict((v,k) for k,v in test_labels.items())\n",
        "print(test_labels)"
      ],
      "execution_count": 54,
      "outputs": [
        {
          "output_type": "stream",
          "text": [
            "Found 343 images belonging to 6 classes.\n",
            "{'centercrop_224_cardboard': 0, 'centercrop_224_glass': 1, 'centercrop_224_metal': 2, 'centercrop_224_paper': 3, 'centercrop_224_plastic': 4, 'centercrop_224_trash': 5} \n",
            "\n",
            "{0: 'centercrop_224_cardboard', 1: 'centercrop_224_glass', 2: 'centercrop_224_metal', 3: 'centercrop_224_paper', 4: 'centercrop_224_plastic', 5: 'centercrop_224_trash'}\n"
          ],
          "name": "stdout"
        }
      ]
    },
    {
      "cell_type": "code",
      "metadata": {
        "colab": {
          "base_uri": "https://localhost:8080/"
        },
        "id": "7VRkUW-nELR3",
        "outputId": "1582ae13-bedd-4010-91b6-7904124fb004"
      },
      "source": [
        "model.evaluate(test_generator)"
      ],
      "execution_count": 55,
      "outputs": [
        {
          "output_type": "stream",
          "text": [
            "43/43 [==============================] - 1s 20ms/step - loss: 1.7935 - accuracy: 0.4402\n"
          ],
          "name": "stdout"
        },
        {
          "output_type": "execute_result",
          "data": {
            "text/plain": [
              "[1.7934978008270264, 0.4402332305908203]"
            ]
          },
          "metadata": {
            "tags": []
          },
          "execution_count": 55
        }
      ]
    },
    {
      "cell_type": "code",
      "metadata": {
        "id": "oPVkpYAhT3ur"
      },
      "source": [
        "model.save('model.h5')"
      ],
      "execution_count": 56,
      "outputs": []
    },
    {
      "cell_type": "code",
      "metadata": {
        "id": "rSubKqXGbfLw"
      },
      "source": [
        ""
      ],
      "execution_count": null,
      "outputs": []
    }
  ]
}