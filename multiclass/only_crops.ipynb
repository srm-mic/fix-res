{
 "cells": [
  {
   "cell_type": "code",
   "execution_count": 1,
   "metadata": {},
   "outputs": [],
   "source": [
    "import numpy as np\n",
    "import os\n",
    "import tensorflow as tf"
   ]
  },
  {
   "cell_type": "code",
   "execution_count": 2,
   "metadata": {},
   "outputs": [],
   "source": [
    "from PIL import Image\n",
    "from matplotlib import pyplot as plt\n",
    "import cv2\n",
    "from tensorflow.keras.preprocessing.image import ImageDataGenerator, array_to_img, img_to_array, load_img\n",
    "import tensorflow.keras\n",
    "from tensorflow.keras.models import Sequential\n",
    "from tensorflow.keras.layers import Dense, Dropout, Activation, Flatten\n",
    "from tensorflow.keras.layers import Conv2D, MaxPooling2D\n",
    "from tensorflow.keras.layers import BatchNormalization\n",
    "from tensorflow.keras.utils import normalize, to_categorical\n",
    "from tensorflow.keras.optimizers import RMSprop"
   ]
  },
  {
   "cell_type": "code",
   "execution_count": 21,
   "metadata": {},
   "outputs": [
    {
     "name": "stdout",
     "output_type": "stream",
     "text": [
      " \u001b[0m\u001b[01;31marchive.zip\u001b[0m                one-indexed-files-notrash_test.txt\r\n",
      " \u001b[01;34mDATASET\u001b[0m/                   one-indexed-files-notrash_train.txt\r\n",
      " data.xls                   one-indexed-files-notrash_val.txt\r\n",
      "\u001b[01;34m'garbage classification'\u001b[0m/   one-indexed-files.txt\r\n",
      "\u001b[01;34m'Garbage classification'\u001b[0m/   zero-indexed-files.txt\r\n",
      " \u001b[01;34mgc_modded\u001b[0m/\r\n"
     ]
    }
   ],
   "source": [
    "ls"
   ]
  },
  {
   "cell_type": "code",
   "execution_count": 22,
   "metadata": {},
   "outputs": [],
   "source": [
    "def get_random_crop(in_path, crop_height, crop_width):\n",
    "\n",
    "  if not os.path.exists(randcrop_path):\n",
    "          os.mkdir(randcrop_path)\n",
    "          print(\"Directory \" , randcrop_path ,  \" Created \")\n",
    "  else:    \n",
    "          print(\"Directory \" , randcrop_path ,  \" already exists\")\n",
    "\n",
    "  rfiles = [f1 for f1 in os.listdir(in_path) if os.path.isfile(os.path.join(in_path, f1))]\n",
    "\n",
    "  for i in range(len(rfiles)):\n",
    "    \n",
    "    img = cv2.imread(in_path + \"/\" + rfiles[i])\n",
    "      \n",
    "    max_x = img.shape[1] - crop_width\n",
    "    max_y = img.shape[0] - crop_height\n",
    "\n",
    "    x = np.random.randint(0, max_x)\n",
    "    y = np.random.randint(0, max_y)\n",
    "\n",
    "    crop = img[y: y + crop_height, x: x + crop_width]\n",
    "    cv2.imwrite(randcrop_path + \"/\" + rfiles[i], crop) "
   ]
  },
  {
   "cell_type": "code",
   "execution_count": 31,
   "metadata": {},
   "outputs": [
    {
     "name": "stdout",
     "output_type": "stream",
     "text": [
      "Directory  gc_modded/train/cardboard  Created \n",
      "Directory  gc_modded/train/glass  Created \n",
      "Directory  gc_modded/train/metal  Created \n",
      "Directory  gc_modded/train/paper  Created \n",
      "Directory  gc_modded/train/plastic  Created \n",
      "Directory  gc_modded/train/trash  Created \n"
     ]
    }
   ],
   "source": [
    "dir = ['cardboard','glass','metal','paper','plastic','trash']\n",
    "for i in dir:\n",
    "  train_path = 'garbage classification/Garbage classification/train/'+i\n",
    "  randcrop_path = 'gc_modded/train/'+i\n",
    "  get_random_crop(train_path, 240, 240)"
   ]
  },
  {
   "cell_type": "code",
   "execution_count": 27,
   "metadata": {},
   "outputs": [],
   "source": [
    "def center_crop(in_path, out_path, dim=(240, 240)):\n",
    "\n",
    "  if not os.path.exists(out_path):\n",
    "          os.mkdir(out_path)\n",
    "          print(\"Directory \" , out_path ,  \" Created \")\n",
    "  else:    \n",
    "          print(\"Directory \" , out_path ,  \" already exists\")\n",
    "\n",
    "  rfiles = [f1 for f1 in os.listdir(in_path) if os.path.isfile(os.path.join(in_path, f1))]\n",
    "\n",
    "  for i in range(len(rfiles)):\n",
    "    \n",
    "    img = cv2.imread(in_path + \"/\" + rfiles[i])\n",
    "\n",
    "    width, height = img.shape[1], img.shape[0]\n",
    "  #process crop width and height for max available dimension\n",
    "    crop_width = dim[0] if dim[0]<img.shape[1] else img.shape[1]\n",
    "    crop_height = dim[1] if dim[1]<img.shape[0] else img.shape[0]\n",
    "    mid_x, mid_y = int(width/2), int(height/2)\n",
    "    cw2, ch2 = int(crop_width/2), int(crop_height/2) \n",
    "    crop_img = img[mid_y-ch2:mid_y+ch2, mid_x-cw2:mid_x+cw2]\n",
    "\n",
    "    cv2.imwrite(out_path + \"/\" + rfiles[i], crop_img) #validation in crop path, test in test_crop"
   ]
  },
  {
   "cell_type": "code",
   "execution_count": 32,
   "metadata": {},
   "outputs": [
    {
     "name": "stdout",
     "output_type": "stream",
     "text": [
      "Directory  gc_modded/val/cardboard  Created \n",
      "Directory  gc_modded/val/glass  Created \n",
      "Directory  gc_modded/val/metal  Created \n",
      "Directory  gc_modded/val/paper  Created \n",
      "Directory  gc_modded/val/plastic  Created \n",
      "Directory  gc_modded/val/trash  Created \n"
     ]
    }
   ],
   "source": [
    "dir = ['cardboard','glass','metal','paper','plastic','trash']\n",
    "for i in dir:\n",
    "  val_path = 'garbage classification/Garbage classification/val/'+i\n",
    "  crop_path = 'gc_modded/val/'+i\n",
    "  center_crop(val_path, crop_path)"
   ]
  },
  {
   "cell_type": "code",
   "execution_count": 30,
   "metadata": {},
   "outputs": [],
   "source": [
    "from tensorflow.keras.models import Sequential\n",
    "from tensorflow.keras.layers import Conv2D, Flatten, MaxPooling2D, Dense, Dropout, SpatialDropout2D, BatchNormalization\n",
    "from tensorflow.keras.losses import sparse_categorical_crossentropy, binary_crossentropy\n",
    "from tensorflow.keras.optimizers import Adam, SGD\n",
    "from tensorflow.keras.preprocessing.image import ImageDataGenerator"
   ]
  },
  {
   "cell_type": "code",
   "execution_count": 33,
   "metadata": {},
   "outputs": [],
   "source": [
    "train = '/home/amuzak/Datasets/gc_modded/train'\n",
    "val = '/home/amuzak/Datasets/gc_modded/val'\n",
    "test = '/home/amuzak/Datasets/gc_modded/test'"
   ]
  },
  {
   "cell_type": "code",
   "execution_count": 34,
   "metadata": {},
   "outputs": [
    {
     "name": "stdout",
     "output_type": "stream",
     "text": [
      "Found 2286 images belonging to 6 classes.\n",
      "{'cardboard': 0, 'glass': 1, 'metal': 2, 'paper': 3, 'plastic': 4, 'trash': 5} \n",
      "\n",
      "{0: 'cardboard', 1: 'glass', 2: 'metal', 3: 'paper', 4: 'plastic', 5: 'trash'}\n"
     ]
    }
   ],
   "source": [
    "train_generator = ImageDataGenerator(rescale = 1/255)\n",
    "\n",
    "train_generator = train_generator.flow_from_directory(train,\n",
    "                                                      target_size = (300,300),\n",
    "                                                      batch_size = 16,\n",
    "                                                      class_mode = 'categorical')\n",
    "\n",
    "labels = (train_generator.class_indices)\n",
    "print(labels,'\\n')\n",
    "\n",
    "labels = dict((v,k) for k,v in labels.items())\n",
    "print(labels)"
   ]
  },
  {
   "cell_type": "code",
   "execution_count": 35,
   "metadata": {},
   "outputs": [
    {
     "name": "stdout",
     "output_type": "stream",
     "text": [
      "Found 117 images belonging to 6 classes.\n",
      "{'cardboard': 0, 'glass': 1, 'metal': 2, 'paper': 3, 'plastic': 4, 'trash': 5} \n",
      "\n",
      "{0: 'cardboard', 1: 'glass', 2: 'metal', 3: 'paper', 4: 'plastic', 5: 'trash'}\n"
     ]
    }
   ],
   "source": [
    "val_generator = ImageDataGenerator(rescale = 1/255)\n",
    "\n",
    "val_generator = val_generator.flow_from_directory(val,\n",
    "                                                  target_size = (300,300),\n",
    "                                                  batch_size = 16,\n",
    "                                                  class_mode = 'categorical')\n",
    "\n",
    "labels = (train_generator.class_indices)\n",
    "print(labels,'\\n')\n",
    "\n",
    "labels = dict((v,k) for k,v in labels.items())\n",
    "print(labels)"
   ]
  },
  {
   "cell_type": "code",
   "execution_count": 36,
   "metadata": {},
   "outputs": [
    {
     "name": "stdout",
     "output_type": "stream",
     "text": [
      "Found 124 images belonging to 6 classes.\n",
      "{'cardboard': 0, 'glass': 1, 'metal': 2, 'paper': 3, 'plastic': 4, 'trash': 5} \n",
      "\n",
      "{0: 'cardboard', 1: 'glass', 2: 'metal', 3: 'paper', 4: 'plastic', 5: 'trash'}\n"
     ]
    }
   ],
   "source": [
    "test_generator = ImageDataGenerator(rescale = 1./255)\n",
    "\n",
    "test_generator = test_generator.flow_from_directory(test,\n",
    "                                                    target_size = (300,300),\n",
    "                                                    batch_size = 16,\n",
    "                                                    class_mode = 'categorical')\n",
    "\n",
    "test_labels = (test_generator.class_indices)\n",
    "print(test_labels,'\\n')\n",
    "\n",
    "test_labels = dict((v,k) for k,v in test_labels.items())\n",
    "print(test_labels)"
   ]
  },
  {
   "cell_type": "code",
   "execution_count": 37,
   "metadata": {},
   "outputs": [
    {
     "name": "stdout",
     "output_type": "stream",
     "text": [
      "{'cardboard': 0, 'glass': 1, 'metal': 2, 'paper': 3, 'plastic': 4, 'trash': 5}\n"
     ]
    }
   ],
   "source": [
    "print(train_generator.class_indices)\n",
    "Labels = '\\n'.join(sorted(train_generator.class_indices.keys()))\n",
    "\n",
    "with open('Labels.txt', 'w') as file:\n",
    "  file.write(Labels)"
   ]
  },
  {
   "cell_type": "code",
   "execution_count": 40,
   "metadata": {},
   "outputs": [
    {
     "name": "stdout",
     "output_type": "stream",
     "text": [
      "Model: \"sequential_1\"\n",
      "_________________________________________________________________\n",
      "Layer (type)                 Output Shape              Param #   \n",
      "=================================================================\n",
      "conv2d_3 (Conv2D)            (None, 300, 300, 32)      896       \n",
      "_________________________________________________________________\n",
      "max_pooling2d_3 (MaxPooling2 (None, 150, 150, 32)      0         \n",
      "_________________________________________________________________\n",
      "conv2d_4 (Conv2D)            (None, 150, 150, 64)      18496     \n",
      "_________________________________________________________________\n",
      "max_pooling2d_4 (MaxPooling2 (None, 75, 75, 64)        0         \n",
      "_________________________________________________________________\n",
      "conv2d_5 (Conv2D)            (None, 75, 75, 32)        18464     \n",
      "_________________________________________________________________\n",
      "max_pooling2d_5 (MaxPooling2 (None, 37, 37, 32)        0         \n",
      "_________________________________________________________________\n",
      "flatten_1 (Flatten)          (None, 43808)             0         \n",
      "_________________________________________________________________\n",
      "dense_2 (Dense)              (None, 32)                1401888   \n",
      "_________________________________________________________________\n",
      "dropout_1 (Dropout)          (None, 32)                0         \n",
      "_________________________________________________________________\n",
      "dense_3 (Dense)              (None, 6)                 198       \n",
      "=================================================================\n",
      "Total params: 1,439,942\n",
      "Trainable params: 1,439,942\n",
      "Non-trainable params: 0\n",
      "_________________________________________________________________\n"
     ]
    }
   ],
   "source": [
    "model=Sequential()\n",
    "\n",
    "#Convolution blocks\n",
    "model.add(Conv2D(32, kernel_size = (3,3), padding='same',input_shape=(300,300,3),activation='relu'))\n",
    "model.add(MaxPooling2D(pool_size=2)) \n",
    "\n",
    "model.add(Conv2D(64, kernel_size = (3,3), padding='same',activation='relu'))\n",
    "model.add(MaxPooling2D(pool_size=2)) \n",
    "\n",
    "model.add(Conv2D(32, kernel_size = (3,3), padding='same',activation='relu'))\n",
    "model.add(MaxPooling2D(pool_size=2)) \n",
    "\n",
    "#Classification layers\n",
    "model.add(Flatten())\n",
    "# model.add(Dense(64,activation='relu'))\n",
    "# model.add(Dropout(0.4))\n",
    "model.add(Dense(32,activation='relu'))\n",
    "\n",
    "model.add(Dropout(0.4))\n",
    "model.add(Dense(6,activation='softmax'))\n",
    "\n",
    "\n",
    "model.summary()"
   ]
  },
  {
   "cell_type": "code",
   "execution_count": 39,
   "metadata": {},
   "outputs": [
    {
     "name": "stdout",
     "output_type": "stream",
     "text": [
      "[PhysicalDevice(name='/physical_device:GPU:0', device_type='GPU')]\n"
     ]
    }
   ],
   "source": [
    "physical_devices = tf.config.list_physical_devices('GPU')\n",
    "print(physical_devices)"
   ]
  },
  {
   "cell_type": "code",
   "execution_count": 41,
   "metadata": {},
   "outputs": [],
   "source": [
    "model.compile(optimizer = SGD(lr=0.01, momentum=0.9, decay=0.01), loss = 'categorical_crossentropy', metrics = ['accuracy'])"
   ]
  },
  {
   "cell_type": "code",
   "execution_count": 42,
   "metadata": {},
   "outputs": [
    {
     "name": "stdout",
     "output_type": "stream",
     "text": [
      "Epoch 1/60\n",
      "143/143 [==============================] - 53s 84ms/step - loss: 1.7655 - accuracy: 0.2051 - val_loss: 1.7284 - val_accuracy: 0.2393\n",
      "Epoch 2/60\n",
      "143/143 [==============================] - 11s 76ms/step - loss: 1.7452 - accuracy: 0.2099 - val_loss: 1.7138 - val_accuracy: 0.2393\n",
      "Epoch 3/60\n",
      "143/143 [==============================] - 11s 77ms/step - loss: 1.7072 - accuracy: 0.2552 - val_loss: 1.7078 - val_accuracy: 0.2393\n",
      "Epoch 4/60\n",
      "143/143 [==============================] - 11s 76ms/step - loss: 1.7115 - accuracy: 0.2322 - val_loss: 1.6763 - val_accuracy: 0.2735\n",
      "Epoch 5/60\n",
      "143/143 [==============================] - 11s 77ms/step - loss: 1.6664 - accuracy: 0.2802 - val_loss: 1.5708 - val_accuracy: 0.3761\n",
      "Epoch 6/60\n",
      "143/143 [==============================] - 11s 76ms/step - loss: 1.6235 - accuracy: 0.3132 - val_loss: 1.5361 - val_accuracy: 0.3932\n",
      "Epoch 7/60\n",
      "143/143 [==============================] - 11s 77ms/step - loss: 1.5899 - accuracy: 0.3229 - val_loss: 1.5135 - val_accuracy: 0.3761\n",
      "Epoch 8/60\n",
      "143/143 [==============================] - 11s 77ms/step - loss: 1.5593 - accuracy: 0.3589 - val_loss: 1.4852 - val_accuracy: 0.4103\n",
      "Epoch 9/60\n",
      "143/143 [==============================] - 12s 81ms/step - loss: 1.5473 - accuracy: 0.3635 - val_loss: 1.4895 - val_accuracy: 0.4017\n",
      "Epoch 10/60\n",
      "143/143 [==============================] - 11s 77ms/step - loss: 1.5449 - accuracy: 0.3415 - val_loss: 1.4451 - val_accuracy: 0.4274\n",
      "Epoch 11/60\n",
      "143/143 [==============================] - 11s 76ms/step - loss: 1.4986 - accuracy: 0.3873 - val_loss: 1.4357 - val_accuracy: 0.4359\n",
      "Epoch 12/60\n",
      "143/143 [==============================] - 12s 81ms/step - loss: 1.4797 - accuracy: 0.3889 - val_loss: 1.3986 - val_accuracy: 0.4103\n",
      "Epoch 13/60\n",
      "143/143 [==============================] - 11s 80ms/step - loss: 1.4632 - accuracy: 0.4126 - val_loss: 1.3967 - val_accuracy: 0.4274\n",
      "Epoch 14/60\n",
      "143/143 [==============================] - 12s 81ms/step - loss: 1.4298 - accuracy: 0.4410 - val_loss: 1.3719 - val_accuracy: 0.4615\n",
      "Epoch 15/60\n",
      "143/143 [==============================] - 11s 77ms/step - loss: 1.4301 - accuracy: 0.4216 - val_loss: 1.4376 - val_accuracy: 0.5128\n",
      "Epoch 16/60\n",
      "143/143 [==============================] - 11s 77ms/step - loss: 1.4119 - accuracy: 0.4299 - val_loss: 1.3553 - val_accuracy: 0.4530\n",
      "Epoch 17/60\n",
      "143/143 [==============================] - 12s 87ms/step - loss: 1.3684 - accuracy: 0.4494 - val_loss: 1.3179 - val_accuracy: 0.5299\n",
      "Epoch 18/60\n",
      "143/143 [==============================] - 11s 77ms/step - loss: 1.3739 - accuracy: 0.4658 - val_loss: 1.2683 - val_accuracy: 0.5641\n",
      "Epoch 19/60\n",
      "143/143 [==============================] - 12s 80ms/step - loss: 1.3184 - accuracy: 0.4788 - val_loss: 1.2691 - val_accuracy: 0.5385\n",
      "Epoch 20/60\n",
      "143/143 [==============================] - 11s 77ms/step - loss: 1.2787 - accuracy: 0.5095 - val_loss: 1.2635 - val_accuracy: 0.5128\n",
      "Epoch 21/60\n",
      "143/143 [==============================] - 11s 77ms/step - loss: 1.2954 - accuracy: 0.5095 - val_loss: 1.2309 - val_accuracy: 0.5897\n",
      "Epoch 22/60\n",
      "143/143 [==============================] - 11s 77ms/step - loss: 1.2791 - accuracy: 0.5119 - val_loss: 1.2140 - val_accuracy: 0.5726\n",
      "Epoch 23/60\n",
      "143/143 [==============================] - 11s 77ms/step - loss: 1.2689 - accuracy: 0.5078 - val_loss: 1.2429 - val_accuracy: 0.5214\n",
      "Epoch 24/60\n",
      "143/143 [==============================] - 12s 83ms/step - loss: 1.2743 - accuracy: 0.5126 - val_loss: 1.2315 - val_accuracy: 0.5385\n",
      "Epoch 25/60\n",
      "143/143 [==============================] - 11s 77ms/step - loss: 1.2475 - accuracy: 0.5152 - val_loss: 1.2311 - val_accuracy: 0.5641\n",
      "Epoch 26/60\n",
      "143/143 [==============================] - 11s 77ms/step - loss: 1.2328 - accuracy: 0.5348 - val_loss: 1.2339 - val_accuracy: 0.5897\n",
      "Epoch 27/60\n",
      "143/143 [==============================] - 12s 81ms/step - loss: 1.2329 - accuracy: 0.5259 - val_loss: 1.2107 - val_accuracy: 0.5897\n",
      "Epoch 28/60\n",
      "143/143 [==============================] - 11s 77ms/step - loss: 1.2474 - accuracy: 0.5083 - val_loss: 1.2740 - val_accuracy: 0.5043\n",
      "Epoch 29/60\n",
      "143/143 [==============================] - 12s 82ms/step - loss: 1.2046 - accuracy: 0.5349 - val_loss: 1.2110 - val_accuracy: 0.5641\n",
      "Epoch 30/60\n",
      "143/143 [==============================] - 11s 77ms/step - loss: 1.1868 - accuracy: 0.5566 - val_loss: 1.2131 - val_accuracy: 0.5641\n",
      "Epoch 31/60\n",
      "143/143 [==============================] - 11s 77ms/step - loss: 1.1866 - accuracy: 0.5360 - val_loss: 1.1987 - val_accuracy: 0.6068\n",
      "Epoch 32/60\n",
      "143/143 [==============================] - 11s 77ms/step - loss: 1.1565 - accuracy: 0.5875 - val_loss: 1.2141 - val_accuracy: 0.5897\n",
      "Epoch 33/60\n",
      "143/143 [==============================] - 11s 77ms/step - loss: 1.1515 - accuracy: 0.5779 - val_loss: 1.1709 - val_accuracy: 0.5897\n",
      "Epoch 34/60\n",
      "143/143 [==============================] - 12s 85ms/step - loss: 1.1631 - accuracy: 0.5455 - val_loss: 1.2147 - val_accuracy: 0.5556\n",
      "Epoch 35/60\n",
      "143/143 [==============================] - 11s 80ms/step - loss: 1.1234 - accuracy: 0.5633 - val_loss: 1.2210 - val_accuracy: 0.5556\n",
      "Epoch 36/60\n",
      "143/143 [==============================] - 12s 81ms/step - loss: 1.1370 - accuracy: 0.5752 - val_loss: 1.2205 - val_accuracy: 0.5641\n",
      "Epoch 37/60\n",
      "143/143 [==============================] - 11s 77ms/step - loss: 1.1136 - accuracy: 0.5881 - val_loss: 1.1963 - val_accuracy: 0.5897\n",
      "Epoch 38/60\n",
      "143/143 [==============================] - 12s 85ms/step - loss: 1.1254 - accuracy: 0.5682 - val_loss: 1.2141 - val_accuracy: 0.6154\n",
      "Epoch 39/60\n",
      "143/143 [==============================] - 13s 91ms/step - loss: 1.0794 - accuracy: 0.5900 - val_loss: 1.2131 - val_accuracy: 0.6239\n",
      "Epoch 40/60\n",
      "143/143 [==============================] - 12s 81ms/step - loss: 1.0648 - accuracy: 0.5934 - val_loss: 1.2133 - val_accuracy: 0.5897\n",
      "Epoch 41/60\n",
      "143/143 [==============================] - 11s 77ms/step - loss: 1.0942 - accuracy: 0.5811 - val_loss: 1.1988 - val_accuracy: 0.5641\n",
      "Epoch 42/60\n",
      "143/143 [==============================] - 11s 77ms/step - loss: 1.0144 - accuracy: 0.6214 - val_loss: 1.1988 - val_accuracy: 0.5726\n",
      "Epoch 43/60\n",
      "143/143 [==============================] - 12s 82ms/step - loss: 1.0552 - accuracy: 0.5869 - val_loss: 1.2198 - val_accuracy: 0.6154\n",
      "Epoch 44/60\n",
      "143/143 [==============================] - 11s 79ms/step - loss: 1.0915 - accuracy: 0.5889 - val_loss: 1.1806 - val_accuracy: 0.5983\n",
      "Epoch 45/60\n",
      "143/143 [==============================] - 11s 76ms/step - loss: 1.0383 - accuracy: 0.6080 - val_loss: 1.2014 - val_accuracy: 0.5556\n",
      "Epoch 46/60\n",
      "143/143 [==============================] - 11s 76ms/step - loss: 1.0235 - accuracy: 0.6131 - val_loss: 1.2017 - val_accuracy: 0.6154\n",
      "Epoch 47/60\n",
      "143/143 [==============================] - 11s 77ms/step - loss: 1.0421 - accuracy: 0.6112 - val_loss: 1.2395 - val_accuracy: 0.5897\n",
      "Epoch 48/60\n",
      "143/143 [==============================] - 12s 85ms/step - loss: 1.0443 - accuracy: 0.6200 - val_loss: 1.2448 - val_accuracy: 0.5470\n",
      "Epoch 49/60\n",
      "143/143 [==============================] - 11s 80ms/step - loss: 1.0190 - accuracy: 0.6246 - val_loss: 1.2072 - val_accuracy: 0.5726\n",
      "Epoch 50/60\n",
      "143/143 [==============================] - 11s 77ms/step - loss: 0.9899 - accuracy: 0.6220 - val_loss: 1.2050 - val_accuracy: 0.5470\n",
      "Epoch 51/60\n",
      "143/143 [==============================] - 12s 83ms/step - loss: 0.9818 - accuracy: 0.6162 - val_loss: 1.2047 - val_accuracy: 0.5812\n",
      "Epoch 52/60\n",
      "143/143 [==============================] - 12s 82ms/step - loss: 0.9686 - accuracy: 0.6413 - val_loss: 1.2299 - val_accuracy: 0.6068\n",
      "Epoch 53/60\n",
      "143/143 [==============================] - 12s 82ms/step - loss: 0.9803 - accuracy: 0.6511 - val_loss: 1.1918 - val_accuracy: 0.5983\n",
      "Epoch 54/60\n",
      "143/143 [==============================] - 11s 77ms/step - loss: 0.9514 - accuracy: 0.6389 - val_loss: 1.2340 - val_accuracy: 0.5812\n",
      "Epoch 55/60\n",
      "143/143 [==============================] - 11s 80ms/step - loss: 0.9452 - accuracy: 0.6406 - val_loss: 1.1928 - val_accuracy: 0.6154\n",
      "Epoch 56/60\n",
      "143/143 [==============================] - 12s 82ms/step - loss: 0.9480 - accuracy: 0.6383 - val_loss: 1.2093 - val_accuracy: 0.5812\n",
      "Epoch 57/60\n"
     ]
    },
    {
     "name": "stdout",
     "output_type": "stream",
     "text": [
      "143/143 [==============================] - 12s 82ms/step - loss: 0.9622 - accuracy: 0.6362 - val_loss: 1.2401 - val_accuracy: 0.5726\n",
      "Epoch 58/60\n",
      "143/143 [==============================] - 11s 77ms/step - loss: 0.9320 - accuracy: 0.6592 - val_loss: 1.2567 - val_accuracy: 0.5897\n",
      "Epoch 59/60\n",
      "143/143 [==============================] - 11s 77ms/step - loss: 0.9350 - accuracy: 0.6448 - val_loss: 1.2366 - val_accuracy: 0.5897\n",
      "Epoch 60/60\n",
      "143/143 [==============================] - 11s 77ms/step - loss: 0.9083 - accuracy: 0.6547 - val_loss: 1.2582 - val_accuracy: 0.5726\n"
     ]
    }
   ],
   "source": [
    "hist=model.fit(train_generator,\n",
    "          validation_data=val_generator,\n",
    "          epochs=60,\n",
    "          verbose=1)"
   ]
  },
  {
   "cell_type": "code",
   "execution_count": 43,
   "metadata": {},
   "outputs": [
    {
     "data": {
      "image/png": "[encoded data removed]",
      "text/plain": [
       "<Figure size 432x288 with 1 Axes>"
      ]
     },
     "metadata": {
      "needs_background": "light"
     },
     "output_type": "display_data"
    }
   ],
   "source": [
    "plt.plot(hist.history['accuracy'])\n",
    "plt.plot(hist.history['val_accuracy'])\n",
    "plt.title('model accuracy')\n",
    "plt.ylabel('accuracy')\n",
    "plt.xlabel('epoch')\n",
    "plt.legend(['train', 'test'], loc='upper left')\n",
    "plt.show()"
   ]
  },
  {
   "cell_type": "code",
   "execution_count": 46,
   "metadata": {},
   "outputs": [
    {
     "name": "stdout",
     "output_type": "stream",
     "text": [
      "8/8 [==============================] - 0s 36ms/step - loss: 1.3460 - accuracy: 0.5323\n"
     ]
    },
    {
     "data": {
      "text/plain": [
       "[1.345979928970337, 0.5322580933570862]"
      ]
     },
     "execution_count": 46,
     "metadata": {},
     "output_type": "execute_result"
    }
   ],
   "source": [
    "model.evaluate(test_generator, verbose=1)"
   ]
  },
  {
   "cell_type": "code",
   "execution_count": 47,
   "metadata": {},
   "outputs": [],
   "source": [
    "model.save('../Notebooks/weights/corrected_cropped_model.h5')"
   ]
  },
  {
   "cell_type": "code",
   "execution_count": null,
   "metadata": {},
   "outputs": [],
   "source": []
  }
 ],
 "metadata": {
  "kernelspec": {
   "display_name": "Python 3",
   "language": "python",
   "name": "python3"
  },
  "language_info": {
   "codemirror_mode": {
    "name": "ipython",
    "version": 3
   },
   "file_extension": ".py",
   "mimetype": "text/x-python",
   "name": "python",
   "nbconvert_exporter": "python",
   "pygments_lexer": "ipython3",
   "version": "3.8.5"
  }
 },
 "nbformat": 4,
 "nbformat_minor": 4
}
