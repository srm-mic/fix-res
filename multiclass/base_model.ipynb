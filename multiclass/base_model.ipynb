{
 "cells": [
  {
   "cell_type": "code",
   "execution_count": 1,
   "metadata": {
    "colab": {
     "base_uri": "https://localhost:8080/"
    },
    "id": "5UI5zvY7B3cX",
    "outputId": "e85e53b7-0785-4105-eca3-665e22956035"
   },
   "outputs": [
    {
     "name": "stdout",
     "output_type": "stream",
     "text": [
      "[PhysicalDevice(name='/physical_device:GPU:0', device_type='GPU')]\n"
     ]
    }
   ],
   "source": [
    "import tensorflow as tf\n",
    "physical_devices = tf.config.list_physical_devices('GPU')\n",
    "print(physical_devices)"
   ]
  },
  {
   "cell_type": "markdown",
   "metadata": {
    "id": "CGDR8i-WcNwX"
   },
   "source": [
    "# **Viewing classes in Directory**\n",
    "\n",
    "\n",
    "\n"
   ]
  },
  {
   "cell_type": "code",
   "execution_count": 2,
   "metadata": {
    "colab": {
     "base_uri": "https://localhost:8080/"
    },
    "id": "ihcMx8teeYiM",
    "outputId": "877e8c81-21f7-4633-f474-3d737131f58c"
   },
   "outputs": [
    {
     "name": "stdout",
     "output_type": "stream",
     "text": [
      "['split_train_val.py', 'val', 'train', 'test']\n"
     ]
    }
   ],
   "source": [
    "import os\n",
    "import matplotlib.pyplot as plt\n",
    "from PIL import Image\n",
    "import math\n",
    "\n",
    "dir_example = \"/home/amuzak/Datasets/gc_modded/compressed\"\n",
    "\n",
    "classes = os.listdir(dir_example)\n",
    "print(classes)"
   ]
  },
  {
   "cell_type": "code",
   "execution_count": 3,
   "metadata": {
    "colab": {
     "base_uri": "https://localhost:8080/"
    },
    "id": "_XDqxwoPvopC",
    "outputId": "41e3c661-612e-4918-f383-a8cb7a99c126"
   },
   "outputs": [
    {
     "name": "stdout",
     "output_type": "stream",
     "text": [
      "['paper', 'cardboard', 'trash', 'metal', 'plastic', 'glass']\n"
     ]
    }
   ],
   "source": [
    "dir_example = \"/home/amuzak/Datasets/gc_modded/compressed/train\"\n",
    "\n",
    "train_classes = os.listdir(dir_example)\n",
    "print(train_classes)"
   ]
  },
  {
   "cell_type": "markdown",
   "metadata": {
    "id": "O5Wo1wnOcle9"
   },
   "source": [
    "# **Visualizing Images in Dataset from each class**"
   ]
  },
  {
   "cell_type": "markdown",
   "metadata": {
    "id": "mYrPmgJYw6UQ"
   },
   "source": [
    "# **Importing required Libraries for Model**"
   ]
  },
  {
   "cell_type": "code",
   "execution_count": 4,
   "metadata": {
    "id": "d6HYFElKxv7J"
   },
   "outputs": [],
   "source": [
    "from tensorflow.keras.models import Sequential\n",
    "from tensorflow.keras.layers import Conv2D, Flatten, MaxPooling2D, Dense, Dropout, SpatialDropout2D, BatchNormalization\n",
    "from tensorflow.keras.losses import sparse_categorical_crossentropy, binary_crossentropy\n",
    "from tensorflow.keras.optimizers import Adam, SGD\n",
    "from tensorflow.keras.preprocessing.image import ImageDataGenerator"
   ]
  },
  {
   "cell_type": "markdown",
   "metadata": {
    "id": "hu0mPkm71wVE"
   },
   "source": [
    "# **Data Configuration**"
   ]
  },
  {
   "cell_type": "code",
   "execution_count": 5,
   "metadata": {},
   "outputs": [],
   "source": [
    "# train = '/home/amuzak/Datasets/garbage classification/Garbage classification/train'\n",
    "# val = '/home/amuzak/Datasets/garbage classification/Garbage classification/val'\n",
    "# test = '/home/amuzak/Datasets/garbage classification/Garbage classification/test'"
   ]
  },
  {
   "cell_type": "code",
   "execution_count": 6,
   "metadata": {
    "id": "TawVpMIP2cdt"
   },
   "outputs": [],
   "source": [
    "train = '/home/amuzak/Datasets/gc_modded/compressed/train'\n",
    "val = '/home/amuzak/Datasets/gc_modded/compressed/val'\n",
    "test = '/home/amuzak/Datasets/gc_modded/compressed/test'"
   ]
  },
  {
   "cell_type": "markdown",
   "metadata": {
    "id": "1QtnmEQQ4YhJ"
   },
   "source": [
    "# **Data Preparation and Loading**"
   ]
  },
  {
   "cell_type": "markdown",
   "metadata": {
    "id": "k9TzlDZBBdIm"
   },
   "source": [
    "### *Creating a Generator for Training Set*"
   ]
  },
  {
   "cell_type": "code",
   "execution_count": 7,
   "metadata": {
    "colab": {
     "base_uri": "https://localhost:8080/"
    },
    "id": "a9WZOEbx4csD",
    "outputId": "12bb2488-9cf9-4bd5-dda3-9a532f4571be"
   },
   "outputs": [
    {
     "name": "stdout",
     "output_type": "stream",
     "text": [
      "Found 1968 images belonging to 6 classes.\n",
      "{'cardboard': 0, 'glass': 1, 'metal': 2, 'paper': 3, 'plastic': 4, 'trash': 5} \n",
      "\n",
      "{0: 'cardboard', 1: 'glass', 2: 'metal', 3: 'paper', 4: 'plastic', 5: 'trash'}\n"
     ]
    }
   ],
   "source": [
    "train_generator = ImageDataGenerator(rescale = 1/255)\n",
    "\n",
    "train_generator = train_generator.flow_from_directory(train,\n",
    "                                                      target_size = (300,300),\n",
    "                                                      batch_size = 16,\n",
    "                                                      class_mode = 'categorical')\n",
    "\n",
    "labels = (train_generator.class_indices)\n",
    "print(labels,'\\n')\n",
    "\n",
    "labels = dict((v,k) for k,v in labels.items())\n",
    "print(labels)"
   ]
  },
  {
   "cell_type": "code",
   "execution_count": 8,
   "metadata": {},
   "outputs": [
    {
     "name": "stdout",
     "output_type": "stream",
     "text": [
      "Found 216 images belonging to 6 classes.\n",
      "{'cardboard': 0, 'glass': 1, 'metal': 2, 'paper': 3, 'plastic': 4, 'trash': 5} \n",
      "\n",
      "{0: 'cardboard', 1: 'glass', 2: 'metal', 3: 'paper', 4: 'plastic', 5: 'trash'}\n"
     ]
    }
   ],
   "source": [
    "val_generator = ImageDataGenerator(rescale = 1/255)\n",
    "\n",
    "val_generator = val_generator.flow_from_directory(val,\n",
    "                                                  target_size = (300,300),\n",
    "                                                  batch_size = 16,\n",
    "                                                  class_mode = 'categorical')\n",
    "\n",
    "labels = (train_generator.class_indices)\n",
    "print(labels,'\\n')\n",
    "\n",
    "labels = dict((v,k) for k,v in labels.items())\n",
    "print(labels)"
   ]
  },
  {
   "cell_type": "markdown",
   "metadata": {
    "id": "BWmE7ASgBi0o"
   },
   "source": [
    "### *Creating a Generator for Testing Set*"
   ]
  },
  {
   "cell_type": "code",
   "execution_count": 9,
   "metadata": {
    "colab": {
     "base_uri": "https://localhost:8080/"
    },
    "id": "DhDy52BeAY6x",
    "outputId": "50544d98-6441-48cb-a2bf-a47243132c04"
   },
   "outputs": [
    {
     "name": "stdout",
     "output_type": "stream",
     "text": [
      "Found 343 images belonging to 6 classes.\n",
      "{'cardboard': 0, 'glass': 1, 'metal': 2, 'paper': 3, 'plastic': 4, 'trash': 5} \n",
      "\n",
      "{0: 'cardboard', 1: 'glass', 2: 'metal', 3: 'paper', 4: 'plastic', 5: 'trash'}\n"
     ]
    }
   ],
   "source": [
    "test_generator = ImageDataGenerator(rescale = 1./255)\n",
    "\n",
    "test_generator = test_generator.flow_from_directory(test,\n",
    "                                                    target_size = (300,300),\n",
    "                                                    batch_size = 16,\n",
    "                                                    class_mode = 'categorical')\n",
    "\n",
    "test_labels = (test_generator.class_indices)\n",
    "print(test_labels,'\\n')\n",
    "\n",
    "test_labels = dict((v,k) for k,v in test_labels.items())\n",
    "print(test_labels)"
   ]
  },
  {
   "cell_type": "code",
   "execution_count": 10,
   "metadata": {
    "colab": {
     "base_uri": "https://localhost:8080/"
    },
    "id": "9bN5F4O-CpcV",
    "outputId": "06c5e83c-5753-408b-bc10-e8869b0f8f3b"
   },
   "outputs": [
    {
     "data": {
      "text/plain": [
       "((16, 300, 300, 3), (16, 6))"
      ]
     },
     "execution_count": 10,
     "metadata": {},
     "output_type": "execute_result"
    }
   ],
   "source": [
    "for image_batch, label_batch in train_generator:\n",
    "  break\n",
    "image_batch.shape, label_batch.shape\n"
   ]
  },
  {
   "cell_type": "code",
   "execution_count": 11,
   "metadata": {
    "colab": {
     "base_uri": "https://localhost:8080/"
    },
    "id": "ncyJcTKpDgSl",
    "outputId": "a5177d3e-c223-4c86-f6d8-432a0a15e912"
   },
   "outputs": [
    {
     "data": {
      "text/plain": [
       "((16, 300, 300, 3), (16, 6))"
      ]
     },
     "execution_count": 11,
     "metadata": {},
     "output_type": "execute_result"
    }
   ],
   "source": [
    "for image_batch, label_batch in test_generator:\n",
    "  break\n",
    "image_batch.shape, label_batch.shape"
   ]
  },
  {
   "cell_type": "markdown",
   "metadata": {
    "id": "irBAVQdzQLuX"
   },
   "source": [
    "# **Writing the labels into a text file '*Labels.txt* '**"
   ]
  },
  {
   "cell_type": "code",
   "execution_count": 12,
   "metadata": {
    "colab": {
     "base_uri": "https://localhost:8080/"
    },
    "id": "6QtLFgXUPuk1",
    "outputId": "4804dbb1-7eb9-40db-a642-692dad3e4f4e"
   },
   "outputs": [
    {
     "name": "stdout",
     "output_type": "stream",
     "text": [
      "{'cardboard': 0, 'glass': 1, 'metal': 2, 'paper': 3, 'plastic': 4, 'trash': 5}\n"
     ]
    }
   ],
   "source": [
    "print(train_generator.class_indices)\n",
    "Labels = '\\n'.join(sorted(train_generator.class_indices.keys()))\n",
    "\n",
    "with open('Labels.txt', 'w') as file:\n",
    "  file.write(Labels)"
   ]
  },
  {
   "cell_type": "code",
   "execution_count": 13,
   "metadata": {
    "colab": {
     "base_uri": "https://localhost:8080/"
    },
    "id": "vWkGhp1oDB91",
    "outputId": "c9d84b5e-2780-4f88-980c-30574d64be8b"
   },
   "outputs": [
    {
     "name": "stdout",
     "output_type": "stream",
     "text": [
      "/home/amuzak/Notebooks\r\n"
     ]
    }
   ],
   "source": [
    "!pwd"
   ]
  },
  {
   "cell_type": "markdown",
   "metadata": {
    "id": "ES--czKPR2B1"
   },
   "source": [
    "# **Model Architecture**"
   ]
  },
  {
   "cell_type": "code",
   "execution_count": 14,
   "metadata": {},
   "outputs": [
    {
     "name": "stdout",
     "output_type": "stream",
     "text": [
      "Model: \"sequential\"\n",
      "_________________________________________________________________\n",
      "Layer (type)                 Output Shape              Param #   \n",
      "=================================================================\n",
      "conv2d (Conv2D)              (None, 300, 300, 32)      896       \n",
      "_________________________________________________________________\n",
      "max_pooling2d (MaxPooling2D) (None, 150, 150, 32)      0         \n",
      "_________________________________________________________________\n",
      "conv2d_1 (Conv2D)            (None, 150, 150, 64)      18496     \n",
      "_________________________________________________________________\n",
      "max_pooling2d_1 (MaxPooling2 (None, 75, 75, 64)        0         \n",
      "_________________________________________________________________\n",
      "conv2d_2 (Conv2D)            (None, 75, 75, 32)        18464     \n",
      "_________________________________________________________________\n",
      "max_pooling2d_2 (MaxPooling2 (None, 37, 37, 32)        0         \n",
      "_________________________________________________________________\n",
      "flatten (Flatten)            (None, 43808)             0         \n",
      "_________________________________________________________________\n",
      "dense (Dense)                (None, 32)                1401888   \n",
      "_________________________________________________________________\n",
      "dropout (Dropout)            (None, 32)                0         \n",
      "_________________________________________________________________\n",
      "dense_1 (Dense)              (None, 6)                 198       \n",
      "=================================================================\n",
      "Total params: 1,439,942\n",
      "Trainable params: 1,439,942\n",
      "Non-trainable params: 0\n",
      "_________________________________________________________________\n"
     ]
    }
   ],
   "source": [
    "model=Sequential()\n",
    "\n",
    "#Convolution blocks\n",
    "model.add(Conv2D(32, kernel_size = (3,3), padding='same',input_shape=(300,300,3),activation='relu'))\n",
    "model.add(MaxPooling2D(pool_size=2)) \n",
    "\n",
    "model.add(Conv2D(64, kernel_size = (3,3), padding='same',activation='relu'))\n",
    "model.add(MaxPooling2D(pool_size=2)) \n",
    "\n",
    "model.add(Conv2D(32, kernel_size = (3,3), padding='same',activation='relu'))\n",
    "model.add(MaxPooling2D(pool_size=2)) \n",
    "\n",
    "#Classification layers\n",
    "model.add(Flatten())\n",
    "# model.add(Dense(64,activation='relu'))\n",
    "# model.add(Dropout(0.4))\n",
    "model.add(Dense(32,activation='relu'))\n",
    "\n",
    "model.add(Dropout(0.4))\n",
    "model.add(Dense(6,activation='softmax'))\n",
    "\n",
    "\n",
    "model.summary()"
   ]
  },
  {
   "cell_type": "markdown",
   "metadata": {
    "id": "dSkEoiaFWXRq"
   },
   "source": [
    "# **Model Compilation**"
   ]
  },
  {
   "cell_type": "code",
   "execution_count": 16,
   "metadata": {
    "id": "QfE7vyJ5Wa7I"
   },
   "outputs": [],
   "source": [
    "model.compile(optimizer = SGD(lr=0.01, momentum=0.9, decay=0.01), loss = 'categorical_crossentropy', metrics = ['accuracy'])"
   ]
  },
  {
   "cell_type": "markdown",
   "metadata": {
    "id": "ZSju_05lZfUd"
   },
   "source": [
    "# **Training the Model (batch_size = 32, epochs = 10)**"
   ]
  },
  {
   "cell_type": "code",
   "execution_count": 17,
   "metadata": {
    "colab": {
     "base_uri": "https://localhost:8080/"
    },
    "id": "fERfSWG9YCxQ",
    "outputId": "a4ceda38-d8aa-4fda-8a52-0dd82d822765"
   },
   "outputs": [
    {
     "name": "stdout",
     "output_type": "stream",
     "text": [
      "Epoch 1/60\n",
      "123/123 [==============================] - 16s 112ms/step - loss: 1.7668 - accuracy: 0.2028 - val_loss: 1.7337 - val_accuracy: 0.2315\n",
      "Epoch 2/60\n",
      "123/123 [==============================] - 10s 81ms/step - loss: 1.7373 - accuracy: 0.2396 - val_loss: 1.6673 - val_accuracy: 0.3194\n",
      "Epoch 3/60\n",
      "123/123 [==============================] - 10s 81ms/step - loss: 1.6389 - accuracy: 0.2997 - val_loss: 1.6442 - val_accuracy: 0.2315\n",
      "Epoch 4/60\n",
      "123/123 [==============================] - 12s 99ms/step - loss: 1.5810 - accuracy: 0.3519 - val_loss: 1.6054 - val_accuracy: 0.3194\n",
      "Epoch 5/60\n",
      "123/123 [==============================] - 13s 106ms/step - loss: 1.4841 - accuracy: 0.3787 - val_loss: 1.4178 - val_accuracy: 0.4444\n",
      "Epoch 6/60\n",
      "123/123 [==============================] - 12s 94ms/step - loss: 1.3937 - accuracy: 0.4655 - val_loss: 1.3901 - val_accuracy: 0.4676\n",
      "Epoch 7/60\n",
      "123/123 [==============================] - 12s 96ms/step - loss: 1.3394 - accuracy: 0.4557 - val_loss: 1.2822 - val_accuracy: 0.5093\n",
      "Epoch 8/60\n",
      "123/123 [==============================] - 10s 80ms/step - loss: 1.2844 - accuracy: 0.5039 - val_loss: 1.2869 - val_accuracy: 0.4907\n",
      "Epoch 9/60\n",
      "123/123 [==============================] - 10s 80ms/step - loss: 1.2695 - accuracy: 0.4914 - val_loss: 1.2701 - val_accuracy: 0.5139\n",
      "Epoch 10/60\n",
      "123/123 [==============================] - 10s 80ms/step - loss: 1.2695 - accuracy: 0.5038 - val_loss: 1.2675 - val_accuracy: 0.5278\n",
      "Epoch 11/60\n",
      "123/123 [==============================] - 10s 80ms/step - loss: 1.1579 - accuracy: 0.5570 - val_loss: 1.1832 - val_accuracy: 0.5463\n",
      "Epoch 12/60\n",
      "123/123 [==============================] - 10s 80ms/step - loss: 1.1425 - accuracy: 0.5391 - val_loss: 1.1105 - val_accuracy: 0.5602\n",
      "Epoch 13/60\n",
      "123/123 [==============================] - 10s 80ms/step - loss: 1.1030 - accuracy: 0.5709 - val_loss: 1.1571 - val_accuracy: 0.5278\n",
      "Epoch 14/60\n",
      "123/123 [==============================] - 10s 81ms/step - loss: 1.0712 - accuracy: 0.5904 - val_loss: 1.1194 - val_accuracy: 0.5556\n",
      "Epoch 15/60\n",
      "123/123 [==============================] - 12s 97ms/step - loss: 1.0587 - accuracy: 0.5892 - val_loss: 1.1559 - val_accuracy: 0.5370\n",
      "Epoch 16/60\n",
      "123/123 [==============================] - 10s 81ms/step - loss: 1.0539 - accuracy: 0.5680 - val_loss: 1.1101 - val_accuracy: 0.5880\n",
      "Epoch 17/60\n",
      "123/123 [==============================] - 10s 81ms/step - loss: 1.0233 - accuracy: 0.5986 - val_loss: 1.1200 - val_accuracy: 0.5602\n",
      "Epoch 18/60\n",
      "123/123 [==============================] - 10s 80ms/step - loss: 1.0140 - accuracy: 0.6117 - val_loss: 1.0843 - val_accuracy: 0.5833\n",
      "Epoch 19/60\n",
      "123/123 [==============================] - 10s 81ms/step - loss: 1.0166 - accuracy: 0.5883 - val_loss: 1.0989 - val_accuracy: 0.5926\n",
      "Epoch 20/60\n",
      "123/123 [==============================] - 13s 105ms/step - loss: 0.9738 - accuracy: 0.6143 - val_loss: 1.2099 - val_accuracy: 0.5602\n",
      "Epoch 21/60\n",
      "123/123 [==============================] - 11s 91ms/step - loss: 1.0088 - accuracy: 0.5960 - val_loss: 1.1377 - val_accuracy: 0.5694\n",
      "Epoch 22/60\n",
      "123/123 [==============================] - 12s 95ms/step - loss: 0.9181 - accuracy: 0.6344 - val_loss: 1.1160 - val_accuracy: 0.5741\n",
      "Epoch 23/60\n",
      "123/123 [==============================] - 10s 77ms/step - loss: 0.9088 - accuracy: 0.6396 - val_loss: 1.0970 - val_accuracy: 0.5926\n",
      "Epoch 24/60\n",
      "123/123 [==============================] - 9s 76ms/step - loss: 0.9069 - accuracy: 0.6434 - val_loss: 1.0624 - val_accuracy: 0.5972\n",
      "Epoch 25/60\n",
      "123/123 [==============================] - 9s 76ms/step - loss: 0.9363 - accuracy: 0.6334 - val_loss: 1.0942 - val_accuracy: 0.5880\n",
      "Epoch 26/60\n",
      "123/123 [==============================] - 12s 96ms/step - loss: 0.9027 - accuracy: 0.6654 - val_loss: 1.1017 - val_accuracy: 0.6065\n",
      "Epoch 27/60\n",
      "123/123 [==============================] - 9s 76ms/step - loss: 0.9062 - accuracy: 0.6166 - val_loss: 1.0886 - val_accuracy: 0.6019\n",
      "Epoch 28/60\n",
      "123/123 [==============================] - 14s 115ms/step - loss: 0.8346 - accuracy: 0.6766 - val_loss: 1.0720 - val_accuracy: 0.5972\n",
      "Epoch 29/60\n",
      "123/123 [==============================] - 9s 76ms/step - loss: 0.8388 - accuracy: 0.6680 - val_loss: 1.0902 - val_accuracy: 0.6019\n",
      "Epoch 30/60\n",
      "123/123 [==============================] - 11s 86ms/step - loss: 0.8795 - accuracy: 0.6521 - val_loss: 1.1317 - val_accuracy: 0.5880\n",
      "Epoch 31/60\n",
      "123/123 [==============================] - 12s 98ms/step - loss: 0.7963 - accuracy: 0.6855 - val_loss: 1.1737 - val_accuracy: 0.5324\n",
      "Epoch 32/60\n",
      "123/123 [==============================] - 10s 78ms/step - loss: 0.7654 - accuracy: 0.7023 - val_loss: 1.1087 - val_accuracy: 0.5833\n",
      "Epoch 33/60\n",
      "123/123 [==============================] - 11s 86ms/step - loss: 0.7546 - accuracy: 0.7013 - val_loss: 1.1166 - val_accuracy: 0.6111\n",
      "Epoch 34/60\n",
      "123/123 [==============================] - 9s 76ms/step - loss: 0.8077 - accuracy: 0.6800 - val_loss: 1.1272 - val_accuracy: 0.5926\n",
      "Epoch 35/60\n",
      "123/123 [==============================] - 11s 88ms/step - loss: 0.7830 - accuracy: 0.6705 - val_loss: 1.1274 - val_accuracy: 0.6296\n",
      "Epoch 36/60\n",
      "123/123 [==============================] - 10s 81ms/step - loss: 0.7237 - accuracy: 0.7075 - val_loss: 1.1408 - val_accuracy: 0.5972\n",
      "Epoch 37/60\n",
      "123/123 [==============================] - 12s 95ms/step - loss: 0.7865 - accuracy: 0.6881 - val_loss: 1.1127 - val_accuracy: 0.6250\n",
      "Epoch 38/60\n",
      "123/123 [==============================] - 10s 82ms/step - loss: 0.7557 - accuracy: 0.6997 - val_loss: 1.1306 - val_accuracy: 0.6065\n",
      "Epoch 39/60\n",
      "123/123 [==============================] - 10s 81ms/step - loss: 0.7319 - accuracy: 0.7210 - val_loss: 1.1330 - val_accuracy: 0.6111\n",
      "Epoch 40/60\n",
      "123/123 [==============================] - 10s 81ms/step - loss: 0.7341 - accuracy: 0.7102 - val_loss: 1.1727 - val_accuracy: 0.6111\n",
      "Epoch 41/60\n",
      "123/123 [==============================] - 11s 91ms/step - loss: 0.7142 - accuracy: 0.7094 - val_loss: 1.1199 - val_accuracy: 0.6204\n",
      "Epoch 42/60\n",
      "123/123 [==============================] - 10s 81ms/step - loss: 0.7342 - accuracy: 0.7046 - val_loss: 1.1284 - val_accuracy: 0.6111\n",
      "Epoch 43/60\n",
      "123/123 [==============================] - 10s 81ms/step - loss: 0.7224 - accuracy: 0.7141 - val_loss: 1.1357 - val_accuracy: 0.6111\n",
      "Epoch 44/60\n",
      "123/123 [==============================] - 10s 81ms/step - loss: 0.7176 - accuracy: 0.7019 - val_loss: 1.1656 - val_accuracy: 0.5972\n",
      "Epoch 45/60\n",
      "123/123 [==============================] - 10s 81ms/step - loss: 0.6760 - accuracy: 0.7123 - val_loss: 1.1344 - val_accuracy: 0.5926\n",
      "Epoch 46/60\n",
      "123/123 [==============================] - 10s 81ms/step - loss: 0.6805 - accuracy: 0.7159 - val_loss: 1.1093 - val_accuracy: 0.6065\n",
      "Epoch 47/60\n",
      "123/123 [==============================] - 12s 96ms/step - loss: 0.6553 - accuracy: 0.7253 - val_loss: 1.1600 - val_accuracy: 0.6343\n",
      "Epoch 48/60\n",
      "123/123 [==============================] - 11s 91ms/step - loss: 0.6796 - accuracy: 0.7218 - val_loss: 1.1817 - val_accuracy: 0.5926\n",
      "Epoch 49/60\n",
      "123/123 [==============================] - 10s 81ms/step - loss: 0.6004 - accuracy: 0.7507 - val_loss: 1.1428 - val_accuracy: 0.5926\n",
      "Epoch 50/60\n",
      "123/123 [==============================] - 10s 81ms/step - loss: 0.6332 - accuracy: 0.7569 - val_loss: 1.1371 - val_accuracy: 0.6157\n",
      "Epoch 51/60\n",
      "123/123 [==============================] - 12s 101ms/step - loss: 0.6154 - accuracy: 0.7658 - val_loss: 1.1753 - val_accuracy: 0.6065\n",
      "Epoch 52/60\n",
      "123/123 [==============================] - 11s 91ms/step - loss: 0.6532 - accuracy: 0.7294 - val_loss: 1.1723 - val_accuracy: 0.6019\n",
      "Epoch 53/60\n",
      "123/123 [==============================] - 12s 95ms/step - loss: 0.6263 - accuracy: 0.7490 - val_loss: 1.1666 - val_accuracy: 0.5833\n",
      "Epoch 54/60\n",
      "123/123 [==============================] - 12s 95ms/step - loss: 0.6506 - accuracy: 0.7410 - val_loss: 1.1759 - val_accuracy: 0.6111\n",
      "Epoch 55/60\n",
      "123/123 [==============================] - 10s 80ms/step - loss: 0.5945 - accuracy: 0.7601 - val_loss: 1.2337 - val_accuracy: 0.5972\n",
      "Epoch 56/60\n",
      "123/123 [==============================] - 12s 94ms/step - loss: 0.6224 - accuracy: 0.7547 - val_loss: 1.1719 - val_accuracy: 0.5880\n",
      "Epoch 57/60\n",
      "123/123 [==============================] - 12s 94ms/step - loss: 0.5982 - accuracy: 0.7636 - val_loss: 1.2348 - val_accuracy: 0.6157\n",
      "Epoch 58/60\n",
      "123/123 [==============================] - 12s 96ms/step - loss: 0.5735 - accuracy: 0.7537 - val_loss: 1.2257 - val_accuracy: 0.6111\n",
      "Epoch 59/60\n",
      "123/123 [==============================] - 12s 93ms/step - loss: 0.5998 - accuracy: 0.7590 - val_loss: 1.2079 - val_accuracy: 0.6111\n",
      "Epoch 60/60\n",
      "123/123 [==============================] - 10s 81ms/step - loss: 0.6037 - accuracy: 0.7576 - val_loss: 1.2432 - val_accuracy: 0.6019\n"
     ]
    }
   ],
   "source": [
    "hist=model.fit(train_generator,\n",
    "          validation_data=val_generator,\n",
    "          epochs=60,\n",
    "          verbose=1)"
   ]
  },
  {
   "cell_type": "code",
   "execution_count": 18,
   "metadata": {},
   "outputs": [
    {
     "name": "stdout",
     "output_type": "stream",
     "text": [
      "dict_keys(['loss', 'accuracy', 'val_loss', 'val_accuracy'])\n"
     ]
    }
   ],
   "source": [
    "print(hist.history.keys())"
   ]
  },
  {
   "cell_type": "code",
   "execution_count": 19,
   "metadata": {},
   "outputs": [
    {
     "data": {
      "image/png": "[encoded data removed]",
      "text/plain": [
       "<Figure size 432x288 with 1 Axes>"
      ]
     },
     "metadata": {
      "needs_background": "light"
     },
     "output_type": "display_data"
    }
   ],
   "source": [
    "plt.plot(hist.history['accuracy'])\n",
    "plt.plot(hist.history['val_accuracy'])\n",
    "plt.title('model accuracy')\n",
    "plt.ylabel('accuracy')\n",
    "plt.xlabel('epoch')\n",
    "plt.legend(['train', 'test'], loc='upper left')\n",
    "plt.show()"
   ]
  },
  {
   "cell_type": "code",
   "execution_count": 20,
   "metadata": {},
   "outputs": [
    {
     "name": "stdout",
     "output_type": "stream",
     "text": [
      "22/22 [==============================] - 1s 55ms/step - loss: 1.4333 - accuracy: 0.5948\n"
     ]
    },
    {
     "data": {
      "text/plain": [
       "[1.4333066940307617, 0.5947521924972534]"
      ]
     },
     "execution_count": 20,
     "metadata": {},
     "output_type": "execute_result"
    }
   ],
   "source": [
    "model.evaluate(test_generator, verbose=1)"
   ]
  },
  {
   "cell_type": "code",
   "execution_count": 2,
   "metadata": {
    "id": "Q0P2tzlyj3L0"
   },
   "outputs": [
    {
     "ename": "NameError",
     "evalue": "name 'model' is not defined",
     "output_type": "error",
     "traceback": [
      "\u001b[0;31m---------------------------------------------------------------------------\u001b[0m",
      "\u001b[0;31mNameError\u001b[0m                                 Traceback (most recent call last)",
      "\u001b[0;32m<ipython-input-2-35a5f0badb41>\u001b[0m in \u001b[0;36m<module>\u001b[0;34m\u001b[0m\n\u001b[0;32m----> 1\u001b[0;31m \u001b[0mmodel\u001b[0m\u001b[0;34m.\u001b[0m\u001b[0msave\u001b[0m\u001b[0;34m(\u001b[0m\u001b[0;34m'../Notebooks/weights/corrected_cropped_model.h5'\u001b[0m\u001b[0;34m)\u001b[0m\u001b[0;34m\u001b[0m\u001b[0;34m\u001b[0m\u001b[0m\n\u001b[0m",
      "\u001b[0;31mNameError\u001b[0m: name 'model' is not defined"
     ]
    }
   ],
   "source": []
  },
  {
   "cell_type": "code",
   "execution_count": null,
   "metadata": {},
   "outputs": [],
   "source": []
  }
 ],
 "metadata": {
  "accelerator": "GPU",
  "colab": {
   "collapsed_sections": [],
   "name": "hempl.ipynb",
   "provenance": [],
   "toc_visible": true
  },
  "kernelspec": {
   "display_name": "Python 3",
   "language": "python",
   "name": "python3"
  },
  "language_info": {
   "codemirror_mode": {
    "name": "ipython",
    "version": 3
   },
   "file_extension": ".py",
   "mimetype": "text/x-python",
   "name": "python",
   "nbconvert_exporter": "python",
   "pygments_lexer": "ipython3",
   "version": "3.8.5"
  }
 },
 "nbformat": 4,
 "nbformat_minor": 1
}
