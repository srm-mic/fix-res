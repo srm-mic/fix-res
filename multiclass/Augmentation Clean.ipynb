{
  "nbformat": 4,
  "nbformat_minor": 0,
  "metadata": {
    "colab": {
      "name": "AugmentationClean.ipynb",
      "provenance": [],
      "collapsed_sections": []
    },
    "kernelspec": {
      "name": "python3",
      "display_name": "Python 3"
    },
    "accelerator": "GPU"
  },
  "cells": [
    {
      "cell_type": "code",
      "metadata": {
        "id": "YR4IyAn2_TeA"
      },
      "source": [
        "import numpy as np\n",
        "import os\n",
        "import tensorflow as tf"
      ],
      "execution_count": 1,
      "outputs": []
    },
    {
      "cell_type": "code",
      "metadata": {
        "id": "Spc57CY9sVkM"
      },
      "source": [
        "from PIL import Image\r\n",
        "from matplotlib import pyplot as plt\r\n",
        "import cv2\r\n",
        "from tensorflow.keras.preprocessing.image import ImageDataGenerator\r\n",
        "import tensorflow.keras\r\n",
        "from tensorflow.keras.models import Sequential\r\n",
        "from tensorflow.keras.layers import Dense, Dropout, Activation, Flatten\r\n",
        "from tensorflow.keras.layers import Conv2D, MaxPooling2D\r\n",
        "from tensorflow.keras.layers import BatchNormalization\r\n",
        "from tensorflow.keras.utils import normalize, to_categorical\r\n",
        "from tensorflow.keras.optimizers import SGD"
      ],
      "execution_count": 2,
      "outputs": []
    },
    {
      "cell_type": "markdown",
      "metadata": {
        "id": "FAfQOcgdo03d"
      },
      "source": [
        "# **Augmenting Training Images**"
      ]
    },
    {
      "cell_type": "markdown",
      "metadata": {
        "id": "7z4cLaU9o_Hj"
      },
      "source": [
        "### *1. Color jitter*\n",
        "\n",
        "### *2. Random-resized Cropping*\n",
        "\n",
        "### *3. Horizontal Flipping of Random Images*"
      ]
    },
    {
      "cell_type": "markdown",
      "metadata": {
        "id": "2tBASrLrLV2p"
      },
      "source": [
        "## **Color Jitter**"
      ]
    },
    {
      "cell_type": "code",
      "metadata": {
        "id": "9D-GCORFsjY7"
      },
      "source": [
        "!mkdir colorjitter"
      ],
      "execution_count": 3,
      "outputs": []
    },
    {
      "cell_type": "code",
      "metadata": {
        "id": "_ZenMXZIs7B0"
      },
      "source": [
        "def colorJitter(jitter_value):\r\n",
        "  \r\n",
        "  if not os.path.exists(col_path):\r\n",
        "          os.mkdir(col_path)\r\n",
        "          print(\"Directory \" , col_path ,  \" Created \")\r\n",
        "  else:    \r\n",
        "          print(\"Directory \" , col_path ,  \" already exists\")\r\n",
        "\r\n",
        "  rfiles = [f1 for f1 in os.listdir(train_path) if os.path.isfile(os.path.join(train_path, f1))]\r\n",
        "\r\n",
        "  \r\n",
        "  for i in range(len(rfiles)):\r\n",
        "    \r\n",
        "    img = cv2.imread(train_path + \"/\" + rfiles[i])\r\n",
        "    #img = cv2.cvtColor(img, cv2.COLOR_BGR2RGB)  # cv2 defaul color code is BGR\r\n",
        "    h,w,c = img.shape \r\n",
        "\r\n",
        "    noise = np.random.randint(0,jitter_value,(h, w)) # design jitter/noise here\r\n",
        "    jitter = np.zeros_like(img)\r\n",
        "    #for k in range (1,3):\r\n",
        "    jitter[:,:,2] = noise  \r\n",
        "\r\n",
        "    noise_added = cv2.add(img, jitter)\r\n",
        "      \r\n",
        "      #combined = np.vstack((img[:h/2,:,:], noise_added[h/2:,:,:]))\r\n",
        "    label_in_file = rfiles[i].find(\".\")\r\n",
        "    cv2.imwrite(col_path + \"/\" + rfiles[i][0:label_in_file] +\"cj.jpg\", noise_added)"
      ],
      "execution_count": 4,
      "outputs": []
    },
    {
      "cell_type": "code",
      "metadata": {
        "colab": {
          "base_uri": "https://localhost:8080/"
        },
        "id": "cCVpEq6ks_fp",
        "outputId": "81f29828-afac-4697-df9d-a2053759644b"
      },
      "source": [
        "dir = ['cardboard','glass','metal','paper','plastic','trash']\r\n",
        "for i in dir:\r\n",
        "  train_path = '/content/drive/MyDrive/Data/Train/'+i\r\n",
        "  col_path = '/content/colorjitter/colorjitter_'+i\r\n",
        "  colorJitter(30)"
      ],
      "execution_count": 5,
      "outputs": [
        {
          "output_type": "stream",
          "text": [
            "Directory  /content/colorjitter/colorjitter_cardboard  Created \n",
            "Directory  /content/colorjitter/colorjitter_glass  Created \n",
            "Directory  /content/colorjitter/colorjitter_metal  Created \n",
            "Directory  /content/colorjitter/colorjitter_paper  Created \n",
            "Directory  /content/colorjitter/colorjitter_plastic  Created \n",
            "Directory  /content/colorjitter/colorjitter_trash  Created \n"
          ],
          "name": "stdout"
        }
      ]
    },
    {
      "cell_type": "markdown",
      "metadata": {
        "id": "6AYO1eOfLass"
      },
      "source": [
        "## **Random-resized Crop**"
      ]
    },
    {
      "cell_type": "code",
      "metadata": {
        "id": "97Evt7aUtLGp"
      },
      "source": [
        "!mkdir randcrop_data"
      ],
      "execution_count": 6,
      "outputs": []
    },
    {
      "cell_type": "code",
      "metadata": {
        "id": "y3gRFdL1wcto"
      },
      "source": [
        "def get_random_crop(in_path, crop_height, crop_width):\r\n",
        "\r\n",
        "  if not os.path.exists(randcrop_path):\r\n",
        "          os.mkdir(randcrop_path)\r\n",
        "          print(\"Directory \" , randcrop_path ,  \" Created \")\r\n",
        "  else:    \r\n",
        "          print(\"Directory \" , randcrop_path ,  \" already exists\")\r\n",
        "\r\n",
        "  rfiles = [f1 for f1 in os.listdir(in_path) if os.path.isfile(os.path.join(in_path, f1))]\r\n",
        "\r\n",
        "  for i in range(len(rfiles)):\r\n",
        "    \r\n",
        "    img = cv2.imread(in_path + \"/\" + rfiles[i])\r\n",
        "    #resized=cv2.resize(img,(300,300)) #resizing images\r\n",
        "      \r\n",
        "    #print(img.shape)\r\n",
        "    max_x = img.shape[1] - crop_width\r\n",
        "    max_y = img.shape[0] - crop_height\r\n",
        "\r\n",
        "    x = np.random.randint(0, max_x)\r\n",
        "    y = np.random.randint(0, max_y)\r\n",
        "\r\n",
        "    crop = img[y: y + crop_height, x: x + crop_width]\r\n",
        "    cv2.imwrite(randcrop_path + \"/\" + rfiles[i], crop) #training data from randcrop path"
      ],
      "execution_count": 7,
      "outputs": []
    },
    {
      "cell_type": "code",
      "metadata": {
        "colab": {
          "base_uri": "https://localhost:8080/"
        },
        "id": "-qRlZFxUwhMX",
        "outputId": "9de9960c-05e1-4837-baad-b438ea26f893"
      },
      "source": [
        "dir = ['cardboard','glass','metal','paper','plastic','trash']\r\n",
        "for i in dir:\r\n",
        "  train_path = '/content/colorjitter/colorjitter_'+i\r\n",
        "  randcrop_path = '/content/randcrop_data/randcrop_data_'+i\r\n",
        "  get_random_crop(train_path, 240, 240)"
      ],
      "execution_count": 8,
      "outputs": [
        {
          "output_type": "stream",
          "text": [
            "Directory  /content/randcrop_data/randcrop_data_cardboard  Created \n",
            "Directory  /content/randcrop_data/randcrop_data_glass  Created \n",
            "Directory  /content/randcrop_data/randcrop_data_metal  Created \n",
            "Directory  /content/randcrop_data/randcrop_data_paper  Created \n",
            "Directory  /content/randcrop_data/randcrop_data_plastic  Created \n",
            "Directory  /content/randcrop_data/randcrop_data_trash  Created \n"
          ],
          "name": "stdout"
        }
      ]
    },
    {
      "cell_type": "markdown",
      "metadata": {
        "id": "Pq35RZ5ULfC_"
      },
      "source": [
        "## **Horizontal Flip**"
      ]
    },
    {
      "cell_type": "code",
      "metadata": {
        "id": "sAxQv8irwtZ6"
      },
      "source": [
        "!mkdir flip"
      ],
      "execution_count": 21,
      "outputs": []
    },
    {
      "cell_type": "code",
      "metadata": {
        "id": "sabcIRgrxJq9"
      },
      "source": [
        "def horizontalFlip(in_path):\r\n",
        "\r\n",
        "  if not os.path.exists(flip_path):\r\n",
        "          os.mkdir(flip_path)\r\n",
        "          print(\"Directory \" , flip_path ,  \" Created \")\r\n",
        "  else:    \r\n",
        "          print(\"Directory \" , flip_path ,  \" already exists\")\r\n",
        "\r\n",
        "  rfiles = [f1 for f1 in os.listdir(in_path) if os.path.isfile(os.path.join(in_path, f1))]\r\n",
        "\r\n",
        "  for i in range(len(rfiles)):\r\n",
        "    \r\n",
        "    img = cv2.imread(in_path + \"/\" + rfiles[i])\r\n",
        "    \r\n",
        "    if i%2 == 0:\r\n",
        "      flippedimage= cv2.flip(img, 1)\r\n",
        "    else:\r\n",
        "      flippedimage = img\r\n",
        "      \r\n",
        "      #combined = np.vstack((img[:h/2,:,:], noise_added[h/2:,:,:]))\r\n",
        "    label_in_file = rfiles[i].find(\".\")\r\n",
        "    cv2.imwrite(flip_path + \"/\" + rfiles[i][0:label_in_file] +\"flip.jpg\", flippedimage)"
      ],
      "execution_count": 22,
      "outputs": []
    },
    {
      "cell_type": "code",
      "metadata": {
        "colab": {
          "base_uri": "https://localhost:8080/"
        },
        "id": "8do2_fcJxKkp",
        "outputId": "7357bcbd-a48c-447c-f756-cf0eebf5a584"
      },
      "source": [
        "dir = ['cardboard','glass','metal','paper','plastic','trash']\r\n",
        "for i in dir:\r\n",
        "  train_path = '/content/randcrop_data/randcrop_data_'+i\r\n",
        "  flip_path = '/content/flip/flip_data'+i\r\n",
        "  horizontalFlip(train_path) "
      ],
      "execution_count": 23,
      "outputs": [
        {
          "output_type": "stream",
          "text": [
            "Directory  /content/flip/flip_datacardboard  Created \n",
            "Directory  /content/flip/flip_dataglass  Created \n",
            "Directory  /content/flip/flip_datametal  Created \n",
            "Directory  /content/flip/flip_datapaper  Created \n",
            "Directory  /content/flip/flip_dataplastic  Created \n",
            "Directory  /content/flip/flip_datatrash  Created \n"
          ],
          "name": "stdout"
        }
      ]
    },
    {
      "cell_type": "markdown",
      "metadata": {
        "id": "u91esyZVpqPf"
      },
      "source": [
        "# **Augmenting Validation Images**"
      ]
    },
    {
      "cell_type": "markdown",
      "metadata": {
        "id": "hv_kr3VDpved"
      },
      "source": [
        "### *1. Color jitter*\n",
        "\n",
        "### *2. Center Cropping*\n",
        "\n",
        "### *3. Horizontal Flipping of Random Images*"
      ]
    },
    {
      "cell_type": "markdown",
      "metadata": {
        "id": "xZTzMlTRLz0r"
      },
      "source": [
        "## **Color Jitter**"
      ]
    },
    {
      "cell_type": "code",
      "metadata": {
        "id": "7XEtMhRHqBEC"
      },
      "source": [
        "!mkdir colorjitter_val"
      ],
      "execution_count": 12,
      "outputs": []
    },
    {
      "cell_type": "code",
      "metadata": {
        "colab": {
          "base_uri": "https://localhost:8080/"
        },
        "id": "gQwCZ8yKqB7N",
        "outputId": "94d4e830-3dac-4c1e-e519-9dc0194b5deb"
      },
      "source": [
        "dir = ['cardboard','glass','metal','paper','plastic','trash']\n",
        "for i in dir:\n",
        "  train_path = '/content/drive/MyDrive/Data/Val/'+i\n",
        "  col_path = '/content/colorjitter_val/colorjitter_val_'+i\n",
        "  colorJitter(10)"
      ],
      "execution_count": 13,
      "outputs": [
        {
          "output_type": "stream",
          "text": [
            "Directory  /content/colorjitter_val/colorjitter_val_cardboard  Created \n",
            "Directory  /content/colorjitter_val/colorjitter_val_glass  Created \n",
            "Directory  /content/colorjitter_val/colorjitter_val_metal  Created \n",
            "Directory  /content/colorjitter_val/colorjitter_val_paper  Created \n",
            "Directory  /content/colorjitter_val/colorjitter_val_plastic  Created \n",
            "Directory  /content/colorjitter_val/colorjitter_val_trash  Created \n"
          ],
          "name": "stdout"
        }
      ]
    },
    {
      "cell_type": "markdown",
      "metadata": {
        "id": "8XkxdVCUL4Ug"
      },
      "source": [
        "## **Center Crop**"
      ]
    },
    {
      "cell_type": "code",
      "metadata": {
        "id": "d8-T4jAvxO3O"
      },
      "source": [
        "!mkdir centercrop_data"
      ],
      "execution_count": 14,
      "outputs": []
    },
    {
      "cell_type": "code",
      "metadata": {
        "id": "mQue1CGIxiCB"
      },
      "source": [
        "def center_crop(in_path, out_path, dim=(240, 240)):\r\n",
        "\r\n",
        "  if not os.path.exists(out_path):\r\n",
        "          os.mkdir(out_path)\r\n",
        "          print(\"Directory \" , out_path ,  \" Created \")\r\n",
        "  else:    \r\n",
        "          print(\"Directory \" , out_path ,  \" already exists\")\r\n",
        "\r\n",
        "  rfiles = [f1 for f1 in os.listdir(in_path) if os.path.isfile(os.path.join(in_path, f1))]\r\n",
        "\r\n",
        "  for i in range(len(rfiles)):\r\n",
        "    \r\n",
        "    img = cv2.imread(in_path + \"/\" + rfiles[i])\r\n",
        "\r\n",
        "    width, height = img.shape[1], img.shape[0]\r\n",
        "  #process crop width and height for max available dimension\r\n",
        "    crop_width = dim[0] if dim[0]<img.shape[1] else img.shape[1]\r\n",
        "    crop_height = dim[1] if dim[1]<img.shape[0] else img.shape[0]\r\n",
        "    mid_x, mid_y = int(width/2), int(height/2)\r\n",
        "    cw2, ch2 = int(crop_width/2), int(crop_height/2) \r\n",
        "    crop_img = img[mid_y-ch2:mid_y+ch2, mid_x-cw2:mid_x+cw2]\r\n",
        "\r\n",
        "    cv2.imwrite(out_path + \"/\" + rfiles[i], crop_img) #validation in crop path, test in test_crop"
      ],
      "execution_count": 15,
      "outputs": []
    },
    {
      "cell_type": "code",
      "metadata": {
        "colab": {
          "base_uri": "https://localhost:8080/"
        },
        "id": "fqq1atx1xmrf",
        "outputId": "d1ec4633-5c34-4824-9566-ea4b7f15fa58"
      },
      "source": [
        "dir = ['cardboard','glass','metal','paper','plastic','trash']\r\n",
        "for i in dir:\r\n",
        "  val_path = '/content/colorjitter_val/colorjitter_val_'+i\r\n",
        "  crop_path = '/content/centercrop_data/centercrop_data_'+i\r\n",
        "  center_crop(val_path, crop_path)"
      ],
      "execution_count": 16,
      "outputs": [
        {
          "output_type": "stream",
          "text": [
            "Directory  /content/centercrop_data/centercrop_data_cardboard  Created \n",
            "Directory  /content/centercrop_data/centercrop_data_glass  Created \n",
            "Directory  /content/centercrop_data/centercrop_data_metal  Created \n",
            "Directory  /content/centercrop_data/centercrop_data_paper  Created \n",
            "Directory  /content/centercrop_data/centercrop_data_plastic  Created \n",
            "Directory  /content/centercrop_data/centercrop_data_trash  Created \n"
          ],
          "name": "stdout"
        }
      ]
    },
    {
      "cell_type": "markdown",
      "metadata": {
        "id": "G86POpHoMFBE"
      },
      "source": [
        "## **Horizontal Flip**"
      ]
    },
    {
      "cell_type": "code",
      "metadata": {
        "id": "0wuvL7DXqDvV"
      },
      "source": [
        "!mkdir flip_val"
      ],
      "execution_count": 17,
      "outputs": []
    },
    {
      "cell_type": "code",
      "metadata": {
        "colab": {
          "base_uri": "https://localhost:8080/"
        },
        "id": "x7xgBb0wvM2_",
        "outputId": "a5ed0ef4-c6f2-4814-b0cb-885a48f7448e"
      },
      "source": [
        "dir = ['cardboard','glass','metal','paper','plastic','trash']\n",
        "for i in dir:\n",
        "  train_path = '/content/centercrop_data/centercrop_data_'+i\n",
        "  flip_path = '/content/flip_val/flip_data_val_'+i\n",
        "  horizontalFlip(train_path) "
      ],
      "execution_count": 24,
      "outputs": [
        {
          "output_type": "stream",
          "text": [
            "Directory  /content/flip_val/flip_data_val_cardboard  Created \n",
            "Directory  /content/flip_val/flip_data_val_glass  Created \n",
            "Directory  /content/flip_val/flip_data_val_metal  Created \n",
            "Directory  /content/flip_val/flip_data_val_paper  Created \n",
            "Directory  /content/flip_val/flip_data_val_plastic  Created \n",
            "Directory  /content/flip_val/flip_data_val_trash  Created \n"
          ],
          "name": "stdout"
        }
      ]
    },
    {
      "cell_type": "code",
      "metadata": {
        "id": "GwvUgKzVxp09"
      },
      "source": [
        "aug_path = '/content/flip'\r\n",
        "center_path = '/content/flip_val'"
      ],
      "execution_count": 25,
      "outputs": []
    },
    {
      "cell_type": "code",
      "metadata": {
        "colab": {
          "base_uri": "https://localhost:8080/"
        },
        "id": "tvQHDVlvyHlg",
        "outputId": "9e008dd1-c5b1-4a8b-f7a7-54b8acf816c8"
      },
      "source": [
        "aug_generator = ImageDataGenerator(rescale = 1/255)\r\n",
        "\r\n",
        "aug_generator = aug_generator.flow_from_directory(aug_path,\r\n",
        "                                              target_size = (300,300),\r\n",
        "                                              batch_size = 16,\r\n",
        "                                              class_mode = 'categorical')\r\n",
        "\r\n",
        "labels = (aug_generator.class_indices)\r\n",
        "print(labels,'\\n')\r\n",
        "\r\n",
        "labels = dict((v,k) for k,v in labels.items())\r\n",
        "print(labels)"
      ],
      "execution_count": 26,
      "outputs": [
        {
          "output_type": "stream",
          "text": [
            "Found 1891 images belonging to 6 classes.\n",
            "{'flip_datacardboard': 0, 'flip_dataglass': 1, 'flip_datametal': 2, 'flip_datapaper': 3, 'flip_dataplastic': 4, 'flip_datatrash': 5} \n",
            "\n",
            "{0: 'flip_datacardboard', 1: 'flip_dataglass', 2: 'flip_datametal', 3: 'flip_datapaper', 4: 'flip_dataplastic', 5: 'flip_datatrash'}\n"
          ],
          "name": "stdout"
        }
      ]
    },
    {
      "cell_type": "code",
      "metadata": {
        "colab": {
          "base_uri": "https://localhost:8080/"
        },
        "id": "xOF46bx8yYqM",
        "outputId": "c7d928aa-0249-44c8-9f32-c822d58bdc53"
      },
      "source": [
        "center_generator = ImageDataGenerator(rescale = 1/255)\r\n",
        "\r\n",
        "center_generator = center_generator.flow_from_directory(center_path,\r\n",
        "                                                    target_size = (300,300),\r\n",
        "                                                    batch_size = 16,\r\n",
        "                                                    class_mode = 'categorical')\r\n",
        "\r\n",
        "labels = (center_generator.class_indices)\r\n",
        "print(labels,'\\n')\r\n",
        "\r\n",
        "labels = dict((v,k) for k,v in labels.items())\r\n",
        "print(labels)"
      ],
      "execution_count": 27,
      "outputs": [
        {
          "output_type": "stream",
          "text": [
            "Found 293 images belonging to 6 classes.\n",
            "{'flip_data_val_cardboard': 0, 'flip_data_val_glass': 1, 'flip_data_val_metal': 2, 'flip_data_val_paper': 3, 'flip_data_val_plastic': 4, 'flip_data_val_trash': 5} \n",
            "\n",
            "{0: 'flip_data_val_cardboard', 1: 'flip_data_val_glass', 2: 'flip_data_val_metal', 3: 'flip_data_val_paper', 4: 'flip_data_val_plastic', 5: 'flip_data_val_trash'}\n"
          ],
          "name": "stdout"
        }
      ]
    },
    {
      "cell_type": "code",
      "metadata": {
        "id": "F9HNliLAzEaW"
      },
      "source": [
        "test = '/content/drive/MyDrive/Data/Test'"
      ],
      "execution_count": 28,
      "outputs": []
    },
    {
      "cell_type": "code",
      "metadata": {
        "colab": {
          "base_uri": "https://localhost:8080/"
        },
        "id": "iIvdRy3Ly6ZM",
        "outputId": "b1707524-8387-4402-ab17-0f7f5f81432d"
      },
      "source": [
        "test_generator = ImageDataGenerator(rescale = 1./255)\r\n",
        "\r\n",
        "test_generator = test_generator.flow_from_directory(test,\r\n",
        "                                                target_size = (300,300),\r\n",
        "                                                batch_size = 16,\r\n",
        "                                                class_mode = 'categorical')\r\n",
        "\r\n",
        "test_labels = (test_generator.class_indices)\r\n",
        "print(test_labels,'\\n')\r\n",
        "\r\n",
        "test_labels = dict((v,k) for k,v in test_labels.items())\r\n",
        "print(test_labels)"
      ],
      "execution_count": 29,
      "outputs": [
        {
          "output_type": "stream",
          "text": [
            "Found 343 images belonging to 6 classes.\n",
            "{'cardboard': 0, 'glass': 1, 'metal': 2, 'paper': 3, 'plastic': 4, 'trash': 5} \n",
            "\n",
            "{0: 'cardboard', 1: 'glass', 2: 'metal', 3: 'paper', 4: 'plastic', 5: 'trash'}\n"
          ],
          "name": "stdout"
        }
      ]
    },
    {
      "cell_type": "code",
      "metadata": {
        "colab": {
          "base_uri": "https://localhost:8080/"
        },
        "id": "bpPDzcKtzMzc",
        "outputId": "6b04e18f-fe01-4903-fa87-b78fa0b34cab"
      },
      "source": [
        "print(test_generator.class_indices)\r\n",
        "Labels = '\\n'.join(sorted(test_generator.class_indices.keys()))\r\n",
        "\r\n",
        "with open('Labels.txt', 'w') as file:\r\n",
        "  file.write(Labels)"
      ],
      "execution_count": 30,
      "outputs": [
        {
          "output_type": "stream",
          "text": [
            "{'cardboard': 0, 'glass': 1, 'metal': 2, 'paper': 3, 'plastic': 4, 'trash': 5}\n"
          ],
          "name": "stdout"
        }
      ]
    },
    {
      "cell_type": "markdown",
      "metadata": {
        "id": "8axkM6-mN54E"
      },
      "source": [
        "# **Base Model**"
      ]
    },
    {
      "cell_type": "code",
      "metadata": {
        "colab": {
          "base_uri": "https://localhost:8080/"
        },
        "id": "uEmGEtYHzXZB",
        "outputId": "3c6f78d8-5ad5-4bbb-fce0-9b3247c5edab"
      },
      "source": [
        "base_model=Sequential()\r\n",
        "\r\n",
        "#Convolution blocks\r\n",
        "base_model.add(Conv2D(32, kernel_size = (3,3), padding='same',input_shape=(300,300,3),activation='relu'))\r\n",
        "base_model.add(MaxPooling2D(pool_size=2)) \r\n",
        "\r\n",
        "base_model.add(Conv2D(64, kernel_size = (3,3), padding='same',activation='relu'))\r\n",
        "base_model.add(MaxPooling2D(pool_size=2)) \r\n",
        "\r\n",
        "base_model.add(Conv2D(32, kernel_size = (3,3), padding='same',activation='relu'))\r\n",
        "base_model.add(MaxPooling2D(pool_size=2)) \r\n",
        "\r\n",
        "#Classification layers\r\n",
        "base_model.add(Flatten())\r\n",
        "\r\n",
        "base_model.add(Dense(32,activation='relu'))\r\n",
        "\r\n",
        "base_model.add(Dropout(0.4))\r\n",
        "base_model.add(Dense(6,activation='softmax'))\r\n",
        "\r\n",
        "base_model.summary()"
      ],
      "execution_count": 31,
      "outputs": [
        {
          "output_type": "stream",
          "text": [
            "Model: \"sequential\"\n",
            "_________________________________________________________________\n",
            "Layer (type)                 Output Shape              Param #   \n",
            "=================================================================\n",
            "conv2d (Conv2D)              (None, 300, 300, 32)      896       \n",
            "_________________________________________________________________\n",
            "max_pooling2d (MaxPooling2D) (None, 150, 150, 32)      0         \n",
            "_________________________________________________________________\n",
            "conv2d_1 (Conv2D)            (None, 150, 150, 64)      18496     \n",
            "_________________________________________________________________\n",
            "max_pooling2d_1 (MaxPooling2 (None, 75, 75, 64)        0         \n",
            "_________________________________________________________________\n",
            "conv2d_2 (Conv2D)            (None, 75, 75, 32)        18464     \n",
            "_________________________________________________________________\n",
            "max_pooling2d_2 (MaxPooling2 (None, 37, 37, 32)        0         \n",
            "_________________________________________________________________\n",
            "flatten (Flatten)            (None, 43808)             0         \n",
            "_________________________________________________________________\n",
            "dense (Dense)                (None, 32)                1401888   \n",
            "_________________________________________________________________\n",
            "dropout (Dropout)            (None, 32)                0         \n",
            "_________________________________________________________________\n",
            "dense_1 (Dense)              (None, 6)                 198       \n",
            "=================================================================\n",
            "Total params: 1,439,942\n",
            "Trainable params: 1,439,942\n",
            "Non-trainable params: 0\n",
            "_________________________________________________________________\n"
          ],
          "name": "stdout"
        }
      ]
    },
    {
      "cell_type": "code",
      "metadata": {
        "colab": {
          "base_uri": "https://localhost:8080/",
          "height": 35
        },
        "id": "DaQFy4V3zcGc",
        "outputId": "39e80d89-5ec8-483c-eda0-dd1b2c312783"
      },
      "source": [
        "import tensorflow as tf\r\n",
        "tf.test.gpu_device_name()"
      ],
      "execution_count": 32,
      "outputs": [
        {
          "output_type": "execute_result",
          "data": {
            "application/vnd.google.colaboratory.intrinsic+json": {
              "type": "string"
            },
            "text/plain": [
              "'/device:GPU:0'"
            ]
          },
          "metadata": {
            "tags": []
          },
          "execution_count": 32
        }
      ]
    },
    {
      "cell_type": "code",
      "metadata": {
        "id": "3mQM7rTBzhLE"
      },
      "source": [
        "base_model.compile(optimizer = SGD(lr=0.01, momentum=0.9, decay=0.01), loss = 'categorical_crossentropy', metrics = ['accuracy'])"
      ],
      "execution_count": 33,
      "outputs": []
    },
    {
      "cell_type": "code",
      "metadata": {
        "colab": {
          "base_uri": "https://localhost:8080/"
        },
        "id": "d6QdB8eNzoXh",
        "outputId": "c9e3999a-cc56-4369-810f-d97acab3b1d2"
      },
      "source": [
        "hist = base_model.fit(aug_generator,\r\n",
        "          validation_data=center_generator,\r\n",
        "          epochs=60,\r\n",
        "          verbose=1)"
      ],
      "execution_count": 34,
      "outputs": [
        {
          "output_type": "stream",
          "text": [
            "Epoch 1/60\n",
            "119/119 [==============================] - 17s 86ms/step - loss: 1.7612 - accuracy: 0.2140 - val_loss: 1.7401 - val_accuracy: 0.2184\n",
            "Epoch 2/60\n",
            "119/119 [==============================] - 9s 78ms/step - loss: 1.7426 - accuracy: 0.2234 - val_loss: 1.7365 - val_accuracy: 0.2184\n",
            "Epoch 3/60\n",
            "119/119 [==============================] - 9s 79ms/step - loss: 1.7291 - accuracy: 0.2380 - val_loss: 1.7416 - val_accuracy: 0.2184\n",
            "Epoch 4/60\n",
            "119/119 [==============================] - 9s 79ms/step - loss: 1.7284 - accuracy: 0.2300 - val_loss: 1.7266 - val_accuracy: 0.2184\n",
            "Epoch 5/60\n",
            "119/119 [==============================] - 9s 78ms/step - loss: 1.7130 - accuracy: 0.2435 - val_loss: 1.6644 - val_accuracy: 0.3174\n",
            "Epoch 6/60\n",
            "119/119 [==============================] - 9s 79ms/step - loss: 1.6675 - accuracy: 0.2869 - val_loss: 1.5944 - val_accuracy: 0.3038\n",
            "Epoch 7/60\n",
            "119/119 [==============================] - 9s 78ms/step - loss: 1.6500 - accuracy: 0.2999 - val_loss: 1.5891 - val_accuracy: 0.3447\n",
            "Epoch 8/60\n",
            "119/119 [==============================] - 9s 79ms/step - loss: 1.6160 - accuracy: 0.3277 - val_loss: 1.5566 - val_accuracy: 0.3481\n",
            "Epoch 9/60\n",
            "119/119 [==============================] - 9s 78ms/step - loss: 1.6325 - accuracy: 0.3167 - val_loss: 1.5946 - val_accuracy: 0.3174\n",
            "Epoch 10/60\n",
            "119/119 [==============================] - 9s 78ms/step - loss: 1.5876 - accuracy: 0.3495 - val_loss: 1.6453 - val_accuracy: 0.2765\n",
            "Epoch 11/60\n",
            "119/119 [==============================] - 9s 79ms/step - loss: 1.6113 - accuracy: 0.3228 - val_loss: 1.5631 - val_accuracy: 0.3208\n",
            "Epoch 12/60\n",
            "119/119 [==============================] - 9s 79ms/step - loss: 1.5557 - accuracy: 0.3580 - val_loss: 1.5169 - val_accuracy: 0.3549\n",
            "Epoch 13/60\n",
            "119/119 [==============================] - 9s 79ms/step - loss: 1.6010 - accuracy: 0.3440 - val_loss: 1.6074 - val_accuracy: 0.3038\n",
            "Epoch 14/60\n",
            "119/119 [==============================] - 9s 79ms/step - loss: 1.5592 - accuracy: 0.3640 - val_loss: 1.5239 - val_accuracy: 0.3515\n",
            "Epoch 15/60\n",
            "119/119 [==============================] - 9s 79ms/step - loss: 1.5529 - accuracy: 0.3686 - val_loss: 1.5172 - val_accuracy: 0.3686\n",
            "Epoch 16/60\n",
            "119/119 [==============================] - 9s 79ms/step - loss: 1.5076 - accuracy: 0.3717 - val_loss: 1.5576 - val_accuracy: 0.3379\n",
            "Epoch 17/60\n",
            "119/119 [==============================] - 9s 79ms/step - loss: 1.5180 - accuracy: 0.3813 - val_loss: 1.5221 - val_accuracy: 0.3618\n",
            "Epoch 18/60\n",
            "119/119 [==============================] - 9s 79ms/step - loss: 1.5348 - accuracy: 0.3609 - val_loss: 1.5062 - val_accuracy: 0.3720\n",
            "Epoch 19/60\n",
            "119/119 [==============================] - 9s 79ms/step - loss: 1.5058 - accuracy: 0.3981 - val_loss: 1.4875 - val_accuracy: 0.3925\n",
            "Epoch 20/60\n",
            "119/119 [==============================] - 9s 79ms/step - loss: 1.5018 - accuracy: 0.3607 - val_loss: 1.4638 - val_accuracy: 0.3720\n",
            "Epoch 21/60\n",
            "119/119 [==============================] - 9s 79ms/step - loss: 1.4739 - accuracy: 0.4149 - val_loss: 1.5138 - val_accuracy: 0.3720\n",
            "Epoch 22/60\n",
            "119/119 [==============================] - 9s 79ms/step - loss: 1.5073 - accuracy: 0.3724 - val_loss: 1.4934 - val_accuracy: 0.3891\n",
            "Epoch 23/60\n",
            "119/119 [==============================] - 9s 79ms/step - loss: 1.4639 - accuracy: 0.4072 - val_loss: 1.4582 - val_accuracy: 0.4130\n",
            "Epoch 24/60\n",
            "119/119 [==============================] - 9s 79ms/step - loss: 1.5117 - accuracy: 0.3936 - val_loss: 1.4670 - val_accuracy: 0.3993\n",
            "Epoch 25/60\n",
            "119/119 [==============================] - 9s 79ms/step - loss: 1.4778 - accuracy: 0.4049 - val_loss: 1.4607 - val_accuracy: 0.4164\n",
            "Epoch 26/60\n",
            "119/119 [==============================] - 10s 80ms/step - loss: 1.4191 - accuracy: 0.4236 - val_loss: 1.4557 - val_accuracy: 0.4300\n",
            "Epoch 27/60\n",
            "119/119 [==============================] - 9s 79ms/step - loss: 1.4411 - accuracy: 0.3980 - val_loss: 1.4497 - val_accuracy: 0.4232\n",
            "Epoch 28/60\n",
            "119/119 [==============================] - 9s 79ms/step - loss: 1.4200 - accuracy: 0.4427 - val_loss: 1.4815 - val_accuracy: 0.4061\n",
            "Epoch 29/60\n",
            "119/119 [==============================] - 9s 79ms/step - loss: 1.4419 - accuracy: 0.4132 - val_loss: 1.4371 - val_accuracy: 0.4232\n",
            "Epoch 30/60\n",
            "119/119 [==============================] - 9s 79ms/step - loss: 1.4463 - accuracy: 0.4127 - val_loss: 1.4419 - val_accuracy: 0.4437\n",
            "Epoch 31/60\n",
            "119/119 [==============================] - 9s 79ms/step - loss: 1.3760 - accuracy: 0.4562 - val_loss: 1.4417 - val_accuracy: 0.4539\n",
            "Epoch 32/60\n",
            "119/119 [==============================] - 9s 79ms/step - loss: 1.3926 - accuracy: 0.4520 - val_loss: 1.4545 - val_accuracy: 0.4164\n",
            "Epoch 33/60\n",
            "119/119 [==============================] - 10s 80ms/step - loss: 1.4003 - accuracy: 0.4454 - val_loss: 1.4110 - val_accuracy: 0.4710\n",
            "Epoch 34/60\n",
            "119/119 [==============================] - 9s 79ms/step - loss: 1.3956 - accuracy: 0.4407 - val_loss: 1.4913 - val_accuracy: 0.3925\n",
            "Epoch 35/60\n",
            "119/119 [==============================] - 9s 79ms/step - loss: 1.3791 - accuracy: 0.4565 - val_loss: 1.4458 - val_accuracy: 0.4369\n",
            "Epoch 36/60\n",
            "119/119 [==============================] - 9s 79ms/step - loss: 1.4042 - accuracy: 0.4479 - val_loss: 1.4227 - val_accuracy: 0.4608\n",
            "Epoch 37/60\n",
            "119/119 [==============================] - 10s 80ms/step - loss: 1.3681 - accuracy: 0.4724 - val_loss: 1.4216 - val_accuracy: 0.4437\n",
            "Epoch 38/60\n",
            "119/119 [==============================] - 9s 79ms/step - loss: 1.3303 - accuracy: 0.4628 - val_loss: 1.4070 - val_accuracy: 0.4334\n",
            "Epoch 39/60\n",
            "119/119 [==============================] - 9s 79ms/step - loss: 1.3301 - accuracy: 0.4851 - val_loss: 1.4331 - val_accuracy: 0.4334\n",
            "Epoch 40/60\n",
            "119/119 [==============================] - 9s 80ms/step - loss: 1.3561 - accuracy: 0.4701 - val_loss: 1.4667 - val_accuracy: 0.4266\n",
            "Epoch 41/60\n",
            "119/119 [==============================] - 9s 79ms/step - loss: 1.3198 - accuracy: 0.5050 - val_loss: 1.4109 - val_accuracy: 0.4710\n",
            "Epoch 42/60\n",
            "119/119 [==============================] - 9s 79ms/step - loss: 1.3278 - accuracy: 0.4800 - val_loss: 1.3748 - val_accuracy: 0.4949\n",
            "Epoch 43/60\n",
            "119/119 [==============================] - 9s 79ms/step - loss: 1.3347 - accuracy: 0.4850 - val_loss: 1.4400 - val_accuracy: 0.4334\n",
            "Epoch 44/60\n",
            "119/119 [==============================] - 9s 79ms/step - loss: 1.2921 - accuracy: 0.5214 - val_loss: 1.3623 - val_accuracy: 0.4812\n",
            "Epoch 45/60\n",
            "119/119 [==============================] - 10s 80ms/step - loss: 1.2733 - accuracy: 0.5145 - val_loss: 1.4692 - val_accuracy: 0.4232\n",
            "Epoch 46/60\n",
            "119/119 [==============================] - 9s 79ms/step - loss: 1.2922 - accuracy: 0.5332 - val_loss: 1.4147 - val_accuracy: 0.4505\n",
            "Epoch 47/60\n",
            "119/119 [==============================] - 10s 80ms/step - loss: 1.2668 - accuracy: 0.5286 - val_loss: 1.4821 - val_accuracy: 0.4369\n",
            "Epoch 48/60\n",
            "119/119 [==============================] - 9s 79ms/step - loss: 1.2471 - accuracy: 0.5200 - val_loss: 1.4766 - val_accuracy: 0.4232\n",
            "Epoch 49/60\n",
            "119/119 [==============================] - 9s 79ms/step - loss: 1.2402 - accuracy: 0.5399 - val_loss: 1.4804 - val_accuracy: 0.4266\n",
            "Epoch 50/60\n",
            "119/119 [==============================] - 9s 79ms/step - loss: 1.2628 - accuracy: 0.5405 - val_loss: 1.3991 - val_accuracy: 0.4778\n",
            "Epoch 51/60\n",
            "119/119 [==============================] - 9s 79ms/step - loss: 1.2132 - accuracy: 0.5528 - val_loss: 1.4898 - val_accuracy: 0.4403\n",
            "Epoch 52/60\n",
            "119/119 [==============================] - 9s 79ms/step - loss: 1.2570 - accuracy: 0.5298 - val_loss: 1.3889 - val_accuracy: 0.4812\n",
            "Epoch 53/60\n",
            "119/119 [==============================] - 10s 80ms/step - loss: 1.1932 - accuracy: 0.5525 - val_loss: 1.3794 - val_accuracy: 0.4812\n",
            "Epoch 54/60\n",
            "119/119 [==============================] - 9s 79ms/step - loss: 1.1967 - accuracy: 0.5541 - val_loss: 1.3817 - val_accuracy: 0.4846\n",
            "Epoch 55/60\n",
            "119/119 [==============================] - 10s 80ms/step - loss: 1.1869 - accuracy: 0.5529 - val_loss: 1.3375 - val_accuracy: 0.4983\n",
            "Epoch 56/60\n",
            "119/119 [==============================] - 10s 80ms/step - loss: 1.1613 - accuracy: 0.5621 - val_loss: 1.3576 - val_accuracy: 0.4949\n",
            "Epoch 57/60\n",
            "119/119 [==============================] - 10s 80ms/step - loss: 1.1846 - accuracy: 0.5427 - val_loss: 1.3525 - val_accuracy: 0.4983\n",
            "Epoch 58/60\n",
            "119/119 [==============================] - 10s 80ms/step - loss: 1.1673 - accuracy: 0.5522 - val_loss: 1.4139 - val_accuracy: 0.4744\n",
            "Epoch 59/60\n",
            "119/119 [==============================] - 9s 79ms/step - loss: 1.1538 - accuracy: 0.5698 - val_loss: 1.3786 - val_accuracy: 0.4881\n",
            "Epoch 60/60\n",
            "119/119 [==============================] - 9s 79ms/step - loss: 1.1774 - accuracy: 0.5586 - val_loss: 1.3086 - val_accuracy: 0.5085\n"
          ],
          "name": "stdout"
        }
      ]
    },
    {
      "cell_type": "code",
      "metadata": {
        "colab": {
          "base_uri": "https://localhost:8080/",
          "height": 295
        },
        "id": "A2br9ECfz1DR",
        "outputId": "5100ded6-292c-4e02-e5bd-93a6fa05291c"
      },
      "source": [
        "plt.plot(hist.history['accuracy'])\r\n",
        "plt.plot(hist.history['val_accuracy'])\r\n",
        "plt.title('model accuracy')\r\n",
        "plt.ylabel('accuracy')\r\n",
        "plt.xlabel('epoch')\r\n",
        "plt.legend(['train', 'val'], loc='upper left')\r\n",
        "plt.show()"
      ],
      "execution_count": 35,
      "outputs": [
        {
          "output_type": "display_data",
          "data": {
            "image/png": "[encoded data removed]",
            "text/plain": [
              "<Figure size 432x288 with 1 Axes>"
            ]
          },
          "metadata": {
            "tags": [],
            "needs_background": "light"
          }
        }
      ]
    },
    {
      "cell_type": "code",
      "metadata": {
        "colab": {
          "base_uri": "https://localhost:8080/"
        },
        "id": "yiAN5X2wZ9OC",
        "outputId": "92c879b5-d184-47a0-a82a-b857abecbd82"
      },
      "source": [
        "base_model.evaluate(test_generator)"
      ],
      "execution_count": 37,
      "outputs": [
        {
          "output_type": "stream",
          "text": [
            "22/22 [==============================] - 211s 10s/step - loss: 1.3786 - accuracy: 0.4869\n"
          ],
          "name": "stdout"
        },
        {
          "output_type": "execute_result",
          "data": {
            "text/plain": [
              "[1.3785834312438965, 0.48688048124313354]"
            ]
          },
          "metadata": {
            "tags": []
          },
          "execution_count": 37
        }
      ]
    },
    {
      "cell_type": "code",
      "metadata": {
        "id": "luN_AjYPCUnZ"
      },
      "source": [
        "base_model.save('base.h5')"
      ],
      "execution_count": 36,
      "outputs": []
    },
    {
      "cell_type": "markdown",
      "metadata": {
        "id": "p2eJYiIS1e7g"
      },
      "source": [
        "# **Augmentations for test images**"
      ]
    },
    {
      "cell_type": "markdown",
      "metadata": {
        "id": "RWp_olEjQMqn"
      },
      "source": [
        "### *1. Color jitter*\n",
        "\n",
        "### *2. Center Crop with values ((64x64), (128x128), (224x224))*"
      ]
    },
    {
      "cell_type": "markdown",
      "metadata": {
        "id": "YRJDTk-AQlhv"
      },
      "source": [
        "## **Color Jitter**"
      ]
    },
    {
      "cell_type": "code",
      "metadata": {
        "id": "c8ufanVM43lc"
      },
      "source": [
        "!mkdir colorjitter_test"
      ],
      "execution_count": 41,
      "outputs": []
    },
    {
      "cell_type": "code",
      "metadata": {
        "colab": {
          "base_uri": "https://localhost:8080/"
        },
        "id": "GbFJ79Ap4rph",
        "outputId": "911700bc-6abd-48e3-cd04-e089770d6a1d"
      },
      "source": [
        "dir = ['cardboard','glass','metal','paper','plastic','trash']\n",
        "for i in dir:\n",
        "  train_path = '/content/drive/MyDrive/Data/Test/'+i\n",
        "  col_path = '/content/colorjitter_test/colorjitter_test_'+i\n",
        "  colorJitter(15)"
      ],
      "execution_count": 42,
      "outputs": [
        {
          "output_type": "stream",
          "text": [
            "Directory  /content/colorjitter_test/colorjitter_test_cardboard  Created \n",
            "Directory  /content/colorjitter_test/colorjitter_test_glass  Created \n",
            "Directory  /content/colorjitter_test/colorjitter_test_metal  Created \n",
            "Directory  /content/colorjitter_test/colorjitter_test_paper  Created \n",
            "Directory  /content/colorjitter_test/colorjitter_test_plastic  Created \n",
            "Directory  /content/colorjitter_test/colorjitter_test_trash  Created \n"
          ],
          "name": "stdout"
        }
      ]
    },
    {
      "cell_type": "markdown",
      "metadata": {
        "id": "qqdcF7JiQpu8"
      },
      "source": [
        "## **Center Crop (64x64)**"
      ]
    },
    {
      "cell_type": "code",
      "metadata": {
        "id": "H2zzMd5s4Sam"
      },
      "source": [
        "!mkdir centercrop64"
      ],
      "execution_count": 39,
      "outputs": []
    },
    {
      "cell_type": "code",
      "metadata": {
        "id": "oiyaUMbv3f4a"
      },
      "source": [
        "def center_crop_test(in_path, out_path, dim):\n",
        "\n",
        "  if not os.path.exists(out_path):\n",
        "          os.mkdir(out_path)\n",
        "          print(\"Directory \" , out_path ,  \" Created \")\n",
        "  else:    \n",
        "          print(\"Directory \" , out_path ,  \" already exists\")\n",
        "\n",
        "  rfiles = [f1 for f1 in os.listdir(in_path) if os.path.isfile(os.path.join(in_path, f1))]\n",
        "\n",
        "  for i in range(len(rfiles)):\n",
        "    \n",
        "    img = cv2.imread(in_path + \"/\" + rfiles[i])\n",
        "\n",
        "    width, height = img.shape[1], img.shape[0]\n",
        "  #process crop width and height for max available dimension\n",
        "    crop_width = dim[0] if dim[0]<img.shape[1] else img.shape[1]\n",
        "    crop_height = dim[1] if dim[1]<img.shape[0] else img.shape[0]\n",
        "    mid_x, mid_y = int(width/2), int(height/2)\n",
        "    cw2, ch2 = int(crop_width/2), int(crop_height/2) \n",
        "    crop_img = img[mid_y-ch2:mid_y+ch2, mid_x-cw2:mid_x+cw2]\n",
        "\n",
        "    cv2.imwrite(out_path + \"/\" + rfiles[i], crop_img) #validation in crop path, test in test_crop"
      ],
      "execution_count": 40,
      "outputs": []
    },
    {
      "cell_type": "code",
      "metadata": {
        "colab": {
          "base_uri": "https://localhost:8080/"
        },
        "id": "y4FeT_zE1a1t",
        "outputId": "9ea64ddb-5d21-4a31-d394-4d2998c2c625"
      },
      "source": [
        "dir = ['cardboard','glass','metal','paper','plastic','trash']\n",
        "for i in dir:\n",
        "  test_path = '/content/colorjitter_test/colorjitter_test_'+i\n",
        "  crop_path = '/content/centercrop64/centercrop_64_'+i\n",
        "  center_crop_test(test_path, crop_path, (64,64))"
      ],
      "execution_count": 43,
      "outputs": [
        {
          "output_type": "stream",
          "text": [
            "Directory  /content/centercrop64/centercrop_64_cardboard  Created \n",
            "Directory  /content/centercrop64/centercrop_64_glass  Created \n",
            "Directory  /content/centercrop64/centercrop_64_metal  Created \n",
            "Directory  /content/centercrop64/centercrop_64_paper  Created \n",
            "Directory  /content/centercrop64/centercrop_64_plastic  Created \n",
            "Directory  /content/centercrop64/centercrop_64_trash  Created \n"
          ],
          "name": "stdout"
        }
      ]
    },
    {
      "cell_type": "markdown",
      "metadata": {
        "id": "_9xqFKBZQwb0"
      },
      "source": [
        "## **Center Crop (128x128)**"
      ]
    },
    {
      "cell_type": "code",
      "metadata": {
        "id": "pwokm9xr7M8o"
      },
      "source": [
        "!mkdir centercrop128"
      ],
      "execution_count": 45,
      "outputs": []
    },
    {
      "cell_type": "code",
      "metadata": {
        "colab": {
          "base_uri": "https://localhost:8080/"
        },
        "id": "BSgmOeWB7Ddi",
        "outputId": "c318607e-99c9-4cbc-b84d-d9bc9134183d"
      },
      "source": [
        "dir = ['cardboard','glass','metal','paper','plastic','trash']\n",
        "for i in dir:\n",
        "  test_path = '/content/colorjitter_test/colorjitter_test_'+i\n",
        "  crop_path = '/content/centercrop128/centercrop_128_'+i\n",
        "  center_crop_test(test_path, crop_path, (128,128))"
      ],
      "execution_count": 46,
      "outputs": [
        {
          "output_type": "stream",
          "text": [
            "Directory  /content/centercrop128/centercrop_128_cardboard  Created \n",
            "Directory  /content/centercrop128/centercrop_128_glass  Created \n",
            "Directory  /content/centercrop128/centercrop_128_metal  Created \n",
            "Directory  /content/centercrop128/centercrop_128_paper  Created \n",
            "Directory  /content/centercrop128/centercrop_128_plastic  Created \n",
            "Directory  /content/centercrop128/centercrop_128_trash  Created \n"
          ],
          "name": "stdout"
        }
      ]
    },
    {
      "cell_type": "markdown",
      "metadata": {
        "id": "gAUYdt4yQ00C"
      },
      "source": [
        "## **Center Crop (224x224)**"
      ]
    },
    {
      "cell_type": "code",
      "metadata": {
        "id": "anMUyYOx7UHu"
      },
      "source": [
        "!mkdir centercrop224"
      ],
      "execution_count": 47,
      "outputs": []
    },
    {
      "cell_type": "code",
      "metadata": {
        "colab": {
          "base_uri": "https://localhost:8080/"
        },
        "id": "4byJHRka7UNx",
        "outputId": "edc2e917-3eac-47a8-8a06-fb0e2a96987e"
      },
      "source": [
        "dir = ['cardboard','glass','metal','paper','plastic','trash']\n",
        "for i in dir:\n",
        "  test_path = '/content/colorjitter_test/colorjitter_test_'+i\n",
        "  crop_path = '/content/centercrop224/centercrop_224_'+i\n",
        "  center_crop_test(test_path, crop_path, (224,224))"
      ],
      "execution_count": 48,
      "outputs": [
        {
          "output_type": "stream",
          "text": [
            "Directory  /content/centercrop224/centercrop_224_cardboard  Created \n",
            "Directory  /content/centercrop224/centercrop_224_glass  Created \n",
            "Directory  /content/centercrop224/centercrop_224_metal  Created \n",
            "Directory  /content/centercrop224/centercrop_224_paper  Created \n",
            "Directory  /content/centercrop224/centercrop_224_plastic  Created \n",
            "Directory  /content/centercrop224/centercrop_224_trash  Created \n"
          ],
          "name": "stdout"
        }
      ]
    },
    {
      "cell_type": "markdown",
      "metadata": {
        "id": "FIZ6UO3aTatX"
      },
      "source": [
        "# **Fine Tuning**"
      ]
    },
    {
      "cell_type": "markdown",
      "metadata": {
        "id": "n0G5mdfkSPuS"
      },
      "source": [
        "## *Network Surgery*"
      ]
    },
    {
      "cell_type": "code",
      "metadata": {
        "id": "IddO58rd1dxH",
        "colab": {
          "base_uri": "https://localhost:8080/"
        },
        "outputId": "1dd6c8cf-91c4-4bf7-f5ad-7e272562e353"
      },
      "source": [
        "from keras.models import Model\r\n",
        "new_model = base_model.output\r\n",
        "\r\n",
        "new_model = BatchNormalization()(new_model)\r\n",
        "\r\n",
        "new_model = Dense(6, activation=\"softmax\")(new_model)\r\n",
        "\r\n",
        "model = Model(inputs=base_model.input, outputs=new_model)\r\n",
        "\r\n",
        "model.summary()"
      ],
      "execution_count": 49,
      "outputs": [
        {
          "output_type": "stream",
          "text": [
            "Model: \"model\"\n",
            "_________________________________________________________________\n",
            "Layer (type)                 Output Shape              Param #   \n",
            "=================================================================\n",
            "conv2d_input (InputLayer)    [(None, 300, 300, 3)]     0         \n",
            "_________________________________________________________________\n",
            "conv2d (Conv2D)              (None, 300, 300, 32)      896       \n",
            "_________________________________________________________________\n",
            "max_pooling2d (MaxPooling2D) (None, 150, 150, 32)      0         \n",
            "_________________________________________________________________\n",
            "conv2d_1 (Conv2D)            (None, 150, 150, 64)      18496     \n",
            "_________________________________________________________________\n",
            "max_pooling2d_1 (MaxPooling2 (None, 75, 75, 64)        0         \n",
            "_________________________________________________________________\n",
            "conv2d_2 (Conv2D)            (None, 75, 75, 32)        18464     \n",
            "_________________________________________________________________\n",
            "max_pooling2d_2 (MaxPooling2 (None, 37, 37, 32)        0         \n",
            "_________________________________________________________________\n",
            "flatten (Flatten)            (None, 43808)             0         \n",
            "_________________________________________________________________\n",
            "dense (Dense)                (None, 32)                1401888   \n",
            "_________________________________________________________________\n",
            "dropout (Dropout)            (None, 32)                0         \n",
            "_________________________________________________________________\n",
            "dense_1 (Dense)              (None, 6)                 198       \n",
            "_________________________________________________________________\n",
            "batch_normalization (BatchNo (None, 6)                 24        \n",
            "_________________________________________________________________\n",
            "dense_2 (Dense)              (None, 6)                 42        \n",
            "=================================================================\n",
            "Total params: 1,440,008\n",
            "Trainable params: 54\n",
            "Non-trainable params: 1,439,954\n",
            "_________________________________________________________________\n"
          ],
          "name": "stdout"
        }
      ]
    },
    {
      "cell_type": "markdown",
      "metadata": {
        "id": "Q3Y38TEwTLyS"
      },
      "source": [
        "## *Freeze all of the CONV layers*"
      ]
    },
    {
      "cell_type": "code",
      "metadata": {
        "id": "QjJDbR3OBfAY"
      },
      "source": [
        "for layer in base_model.layers:\r\n",
        "\tlayer.trainable = False"
      ],
      "execution_count": 50,
      "outputs": []
    },
    {
      "cell_type": "code",
      "metadata": {
        "id": "Ms9vpCxfCrpI"
      },
      "source": [
        "model.compile(optimizer = SGD(lr=0.01, momentum=0.9), loss = 'categorical_crossentropy', metrics = ['accuracy'])"
      ],
      "execution_count": 51,
      "outputs": []
    },
    {
      "cell_type": "code",
      "metadata": {
        "colab": {
          "base_uri": "https://localhost:8080/"
        },
        "id": "rfCJSD8gC93u",
        "outputId": "5ef8e04a-5ea2-4d79-d5e0-5162fbcd0179"
      },
      "source": [
        "hist2 = model.fit(aug_generator,\r\n",
        "          validation_data=center_generator,\r\n",
        "          epochs=60,\r\n",
        "          verbose=1)"
      ],
      "execution_count": 54,
      "outputs": [
        {
          "output_type": "stream",
          "text": [
            "Epoch 1/60\n",
            "119/119 [==============================] - 8s 65ms/step - loss: 1.1627 - accuracy: 0.5722 - val_loss: 1.3562 - val_accuracy: 0.5051\n",
            "Epoch 2/60\n",
            "119/119 [==============================] - 8s 64ms/step - loss: 1.1578 - accuracy: 0.5732 - val_loss: 1.4005 - val_accuracy: 0.5085\n",
            "Epoch 3/60\n",
            "119/119 [==============================] - 8s 63ms/step - loss: 1.1580 - accuracy: 0.5664 - val_loss: 1.3541 - val_accuracy: 0.5085\n",
            "Epoch 4/60\n",
            "119/119 [==============================] - 7s 62ms/step - loss: 1.1711 - accuracy: 0.5516 - val_loss: 1.3746 - val_accuracy: 0.4949\n",
            "Epoch 5/60\n",
            "119/119 [==============================] - 7s 62ms/step - loss: 1.1699 - accuracy: 0.5590 - val_loss: 1.3848 - val_accuracy: 0.5085\n",
            "Epoch 6/60\n",
            "119/119 [==============================] - 8s 63ms/step - loss: 1.1825 - accuracy: 0.5621 - val_loss: 1.3771 - val_accuracy: 0.5154\n",
            "Epoch 7/60\n",
            "119/119 [==============================] - 8s 63ms/step - loss: 1.1773 - accuracy: 0.5685 - val_loss: 1.3717 - val_accuracy: 0.5222\n",
            "Epoch 8/60\n",
            "119/119 [==============================] - 8s 64ms/step - loss: 1.1807 - accuracy: 0.5775 - val_loss: 1.3637 - val_accuracy: 0.5154\n",
            "Epoch 9/60\n",
            "119/119 [==============================] - 8s 64ms/step - loss: 1.1598 - accuracy: 0.5738 - val_loss: 1.3573 - val_accuracy: 0.5085\n",
            "Epoch 10/60\n",
            "119/119 [==============================] - 7s 63ms/step - loss: 1.1750 - accuracy: 0.5643 - val_loss: 1.3542 - val_accuracy: 0.5051\n",
            "Epoch 11/60\n",
            "119/119 [==============================] - 7s 63ms/step - loss: 1.1598 - accuracy: 0.5637 - val_loss: 1.4066 - val_accuracy: 0.5085\n",
            "Epoch 12/60\n",
            "119/119 [==============================] - 8s 63ms/step - loss: 1.1833 - accuracy: 0.5627 - val_loss: 1.3695 - val_accuracy: 0.5051\n",
            "Epoch 13/60\n",
            "119/119 [==============================] - 8s 63ms/step - loss: 1.1864 - accuracy: 0.5574 - val_loss: 1.3405 - val_accuracy: 0.5119\n",
            "Epoch 14/60\n",
            "119/119 [==============================] - 8s 64ms/step - loss: 1.1707 - accuracy: 0.5637 - val_loss: 1.3581 - val_accuracy: 0.5051\n",
            "Epoch 15/60\n",
            "119/119 [==============================] - 8s 64ms/step - loss: 1.1446 - accuracy: 0.5754 - val_loss: 1.3921 - val_accuracy: 0.5119\n",
            "Epoch 16/60\n",
            "119/119 [==============================] - 8s 64ms/step - loss: 1.1671 - accuracy: 0.5658 - val_loss: 1.3575 - val_accuracy: 0.5188\n",
            "Epoch 17/60\n",
            "119/119 [==============================] - 8s 63ms/step - loss: 1.1738 - accuracy: 0.5658 - val_loss: 1.3649 - val_accuracy: 0.5085\n",
            "Epoch 18/60\n",
            "119/119 [==============================] - 8s 63ms/step - loss: 1.1605 - accuracy: 0.5690 - val_loss: 1.3524 - val_accuracy: 0.5119\n",
            "Epoch 19/60\n",
            "119/119 [==============================] - 8s 64ms/step - loss: 1.1535 - accuracy: 0.5775 - val_loss: 1.3576 - val_accuracy: 0.5085\n",
            "Epoch 20/60\n",
            "119/119 [==============================] - 8s 64ms/step - loss: 1.1657 - accuracy: 0.5595 - val_loss: 1.3487 - val_accuracy: 0.5188\n",
            "Epoch 21/60\n",
            "119/119 [==============================] - 8s 64ms/step - loss: 1.1698 - accuracy: 0.5759 - val_loss: 1.3858 - val_accuracy: 0.4983\n",
            "Epoch 22/60\n",
            "119/119 [==============================] - 8s 64ms/step - loss: 1.1851 - accuracy: 0.5505 - val_loss: 1.3638 - val_accuracy: 0.4949\n",
            "Epoch 23/60\n",
            "119/119 [==============================] - 8s 64ms/step - loss: 1.1837 - accuracy: 0.5632 - val_loss: 1.3660 - val_accuracy: 0.4983\n",
            "Epoch 24/60\n",
            "119/119 [==============================] - 8s 64ms/step - loss: 1.1641 - accuracy: 0.5717 - val_loss: 1.3708 - val_accuracy: 0.5119\n",
            "Epoch 25/60\n",
            "119/119 [==============================] - 8s 64ms/step - loss: 1.1780 - accuracy: 0.5579 - val_loss: 1.3778 - val_accuracy: 0.5085\n",
            "Epoch 26/60\n",
            "119/119 [==============================] - 8s 63ms/step - loss: 1.1755 - accuracy: 0.5653 - val_loss: 1.3451 - val_accuracy: 0.5154\n",
            "Epoch 27/60\n",
            "119/119 [==============================] - 8s 64ms/step - loss: 1.1770 - accuracy: 0.5611 - val_loss: 1.3856 - val_accuracy: 0.5119\n",
            "Epoch 28/60\n",
            "119/119 [==============================] - 8s 64ms/step - loss: 1.1692 - accuracy: 0.5643 - val_loss: 1.3653 - val_accuracy: 0.4983\n",
            "Epoch 29/60\n",
            "119/119 [==============================] - 8s 64ms/step - loss: 1.1752 - accuracy: 0.5706 - val_loss: 1.3776 - val_accuracy: 0.5051\n",
            "Epoch 30/60\n",
            "119/119 [==============================] - 8s 64ms/step - loss: 1.1667 - accuracy: 0.5648 - val_loss: 1.3693 - val_accuracy: 0.5119\n",
            "Epoch 31/60\n",
            "119/119 [==============================] - 7s 62ms/step - loss: 1.1590 - accuracy: 0.5775 - val_loss: 1.3707 - val_accuracy: 0.5119\n",
            "Epoch 32/60\n",
            "119/119 [==============================] - 8s 63ms/step - loss: 1.1618 - accuracy: 0.5653 - val_loss: 1.3953 - val_accuracy: 0.5085\n",
            "Epoch 33/60\n",
            "119/119 [==============================] - 8s 64ms/step - loss: 1.1851 - accuracy: 0.5510 - val_loss: 1.3642 - val_accuracy: 0.4983\n",
            "Epoch 34/60\n",
            "119/119 [==============================] - 8s 63ms/step - loss: 1.1902 - accuracy: 0.5531 - val_loss: 1.3732 - val_accuracy: 0.5085\n",
            "Epoch 35/60\n",
            "119/119 [==============================] - 7s 63ms/step - loss: 1.1542 - accuracy: 0.5701 - val_loss: 1.3583 - val_accuracy: 0.5188\n",
            "Epoch 36/60\n",
            "119/119 [==============================] - 7s 63ms/step - loss: 1.1521 - accuracy: 0.5732 - val_loss: 1.3621 - val_accuracy: 0.5085\n",
            "Epoch 37/60\n",
            "119/119 [==============================] - 8s 63ms/step - loss: 1.1691 - accuracy: 0.5600 - val_loss: 1.3861 - val_accuracy: 0.5051\n",
            "Epoch 38/60\n",
            "119/119 [==============================] - 7s 63ms/step - loss: 1.1784 - accuracy: 0.5574 - val_loss: 1.3736 - val_accuracy: 0.5154\n",
            "Epoch 39/60\n",
            "119/119 [==============================] - 8s 63ms/step - loss: 1.1476 - accuracy: 0.5685 - val_loss: 1.3851 - val_accuracy: 0.5222\n",
            "Epoch 40/60\n",
            "119/119 [==============================] - 7s 62ms/step - loss: 1.1649 - accuracy: 0.5521 - val_loss: 1.3647 - val_accuracy: 0.5051\n",
            "Epoch 41/60\n",
            "119/119 [==============================] - 8s 64ms/step - loss: 1.1702 - accuracy: 0.5553 - val_loss: 1.3619 - val_accuracy: 0.5085\n",
            "Epoch 42/60\n",
            "119/119 [==============================] - 7s 62ms/step - loss: 1.1648 - accuracy: 0.5600 - val_loss: 1.3611 - val_accuracy: 0.5051\n",
            "Epoch 43/60\n",
            "119/119 [==============================] - 7s 62ms/step - loss: 1.1776 - accuracy: 0.5664 - val_loss: 1.3517 - val_accuracy: 0.5051\n",
            "Epoch 44/60\n",
            "119/119 [==============================] - 7s 63ms/step - loss: 1.1727 - accuracy: 0.5547 - val_loss: 1.3587 - val_accuracy: 0.5154\n",
            "Epoch 45/60\n",
            "119/119 [==============================] - 7s 63ms/step - loss: 1.1838 - accuracy: 0.5568 - val_loss: 1.3540 - val_accuracy: 0.5119\n",
            "Epoch 46/60\n",
            "119/119 [==============================] - 8s 63ms/step - loss: 1.1581 - accuracy: 0.5743 - val_loss: 1.3811 - val_accuracy: 0.4949\n",
            "Epoch 47/60\n",
            "119/119 [==============================] - 7s 63ms/step - loss: 1.1773 - accuracy: 0.5579 - val_loss: 1.3753 - val_accuracy: 0.5085\n",
            "Epoch 48/60\n",
            "119/119 [==============================] - 7s 62ms/step - loss: 1.1530 - accuracy: 0.5680 - val_loss: 1.3747 - val_accuracy: 0.5085\n",
            "Epoch 49/60\n",
            "119/119 [==============================] - 7s 62ms/step - loss: 1.1844 - accuracy: 0.5558 - val_loss: 1.3565 - val_accuracy: 0.5051\n",
            "Epoch 50/60\n",
            "119/119 [==============================] - 7s 63ms/step - loss: 1.1573 - accuracy: 0.5637 - val_loss: 1.3775 - val_accuracy: 0.4983\n",
            "Epoch 51/60\n",
            "119/119 [==============================] - 7s 63ms/step - loss: 1.1926 - accuracy: 0.5558 - val_loss: 1.3440 - val_accuracy: 0.5085\n",
            "Epoch 52/60\n",
            "119/119 [==============================] - 7s 62ms/step - loss: 1.1697 - accuracy: 0.5748 - val_loss: 1.3512 - val_accuracy: 0.5085\n",
            "Epoch 53/60\n",
            "119/119 [==============================] - 7s 62ms/step - loss: 1.1680 - accuracy: 0.5727 - val_loss: 1.3556 - val_accuracy: 0.5085\n",
            "Epoch 54/60\n",
            "119/119 [==============================] - 7s 62ms/step - loss: 1.1707 - accuracy: 0.5595 - val_loss: 1.3472 - val_accuracy: 0.5188\n",
            "Epoch 55/60\n",
            "119/119 [==============================] - 7s 63ms/step - loss: 1.1809 - accuracy: 0.5711 - val_loss: 1.3716 - val_accuracy: 0.5119\n",
            "Epoch 56/60\n",
            "119/119 [==============================] - 7s 62ms/step - loss: 1.1488 - accuracy: 0.5658 - val_loss: 1.3994 - val_accuracy: 0.5017\n",
            "Epoch 57/60\n",
            "119/119 [==============================] - 8s 63ms/step - loss: 1.1879 - accuracy: 0.5637 - val_loss: 1.3624 - val_accuracy: 0.5017\n",
            "Epoch 58/60\n",
            "119/119 [==============================] - 7s 62ms/step - loss: 1.1755 - accuracy: 0.5489 - val_loss: 1.3946 - val_accuracy: 0.5017\n",
            "Epoch 59/60\n",
            "119/119 [==============================] - 7s 62ms/step - loss: 1.1519 - accuracy: 0.5748 - val_loss: 1.3866 - val_accuracy: 0.5085\n",
            "Epoch 60/60\n",
            "119/119 [==============================] - 7s 62ms/step - loss: 1.1469 - accuracy: 0.5769 - val_loss: 1.3776 - val_accuracy: 0.4983\n"
          ],
          "name": "stdout"
        }
      ]
    },
    {
      "cell_type": "code",
      "metadata": {
        "id": "Z0xmVCIG_k6J"
      },
      "source": [
        "test = '/content/centercrop64'"
      ],
      "execution_count": 56,
      "outputs": []
    },
    {
      "cell_type": "code",
      "metadata": {
        "colab": {
          "base_uri": "https://localhost:8080/"
        },
        "id": "wNKUz_JmDhr1",
        "outputId": "0a360e80-44a0-4444-863c-7f088dc7950c"
      },
      "source": [
        "test_generator = ImageDataGenerator(rescale = 1./255)\n",
        "\n",
        "test_generator = test_generator.flow_from_directory(test,\n",
        "                                                target_size = (300,300),\n",
        "                                                batch_size = 16,\n",
        "                                                class_mode = 'categorical')\n",
        "\n",
        "test_labels = (test_generator.class_indices)\n",
        "print(test_labels,'\\n')\n",
        "\n",
        "test_labels = dict((v,k) for k,v in test_labels.items())\n",
        "print(test_labels)"
      ],
      "execution_count": 57,
      "outputs": [
        {
          "output_type": "stream",
          "text": [
            "Found 343 images belonging to 6 classes.\n",
            "{'centercrop_64_cardboard': 0, 'centercrop_64_glass': 1, 'centercrop_64_metal': 2, 'centercrop_64_paper': 3, 'centercrop_64_plastic': 4, 'centercrop_64_trash': 5} \n",
            "\n",
            "{0: 'centercrop_64_cardboard', 1: 'centercrop_64_glass', 2: 'centercrop_64_metal', 3: 'centercrop_64_paper', 4: 'centercrop_64_plastic', 5: 'centercrop_64_trash'}\n"
          ],
          "name": "stdout"
        }
      ]
    },
    {
      "cell_type": "markdown",
      "metadata": {
        "id": "EmOFqY6OTkWi"
      },
      "source": [
        "## **Evaluating for (64x64) test crops**"
      ]
    },
    {
      "cell_type": "code",
      "metadata": {
        "colab": {
          "base_uri": "https://localhost:8080/"
        },
        "id": "7mOGaHHvf5Qy",
        "outputId": "854a62e8-0175-4efc-bfd6-6020ab949de8"
      },
      "source": [
        "model.evaluate(test_generator)"
      ],
      "execution_count": 58,
      "outputs": [
        {
          "output_type": "stream",
          "text": [
            "22/22 [==============================] - 1s 34ms/step - loss: 1.7464 - accuracy: 0.3965\n"
          ],
          "name": "stdout"
        },
        {
          "output_type": "execute_result",
          "data": {
            "text/plain": [
              "[1.7464426755905151, 0.39650145173072815]"
            ]
          },
          "metadata": {
            "tags": []
          },
          "execution_count": 58
        }
      ]
    },
    {
      "cell_type": "markdown",
      "metadata": {
        "id": "faFRLGnKTvHE"
      },
      "source": [
        "## **Evaluating for (128x128) test crops**"
      ]
    },
    {
      "cell_type": "code",
      "metadata": {
        "id": "aKS2rAVbDvT9"
      },
      "source": [
        "test = '/content/centercrop128'"
      ],
      "execution_count": 59,
      "outputs": []
    },
    {
      "cell_type": "code",
      "metadata": {
        "colab": {
          "base_uri": "https://localhost:8080/"
        },
        "id": "wOZUkJS9D2R6",
        "outputId": "b9160085-5f41-4cdc-ca88-08bb906d6a80"
      },
      "source": [
        "test_generator = ImageDataGenerator(rescale = 1./255)\n",
        "\n",
        "test_generator = test_generator.flow_from_directory(test,\n",
        "                                                target_size = (300,300),\n",
        "                                                batch_size = 16,\n",
        "                                                class_mode = 'categorical')\n",
        "\n",
        "test_labels = (test_generator.class_indices)\n",
        "print(test_labels,'\\n')\n",
        "\n",
        "test_labels = dict((v,k) for k,v in test_labels.items())\n",
        "print(test_labels)"
      ],
      "execution_count": 60,
      "outputs": [
        {
          "output_type": "stream",
          "text": [
            "Found 343 images belonging to 6 classes.\n",
            "{'centercrop_128_cardboard': 0, 'centercrop_128_glass': 1, 'centercrop_128_metal': 2, 'centercrop_128_paper': 3, 'centercrop_128_plastic': 4, 'centercrop_128_trash': 5} \n",
            "\n",
            "{0: 'centercrop_128_cardboard', 1: 'centercrop_128_glass', 2: 'centercrop_128_metal', 3: 'centercrop_128_paper', 4: 'centercrop_128_plastic', 5: 'centercrop_128_trash'}\n"
          ],
          "name": "stdout"
        }
      ]
    },
    {
      "cell_type": "code",
      "metadata": {
        "colab": {
          "base_uri": "https://localhost:8080/"
        },
        "id": "wao2oVeDD5Zu",
        "outputId": "3a8590e3-7875-4f4e-9649-64dd3387f0a6"
      },
      "source": [
        "model.evaluate(test_generator)"
      ],
      "execution_count": 61,
      "outputs": [
        {
          "output_type": "stream",
          "text": [
            "22/22 [==============================] - 1s 38ms/step - loss: 1.5677 - accuracy: 0.4315\n"
          ],
          "name": "stdout"
        },
        {
          "output_type": "execute_result",
          "data": {
            "text/plain": [
              "[1.5677236318588257, 0.4314868748188019]"
            ]
          },
          "metadata": {
            "tags": []
          },
          "execution_count": 61
        }
      ]
    },
    {
      "cell_type": "markdown",
      "metadata": {
        "id": "B8VtMiGAT0FJ"
      },
      "source": [
        "## **Evaluating for (224x224) test crops**"
      ]
    },
    {
      "cell_type": "code",
      "metadata": {
        "id": "LaBaBJnMD9NI"
      },
      "source": [
        "test = '/content/centercrop224'"
      ],
      "execution_count": 62,
      "outputs": []
    },
    {
      "cell_type": "code",
      "metadata": {
        "colab": {
          "base_uri": "https://localhost:8080/"
        },
        "id": "bmMuZEiAEHZU",
        "outputId": "e0edfc7f-4fb1-4639-d7e3-1870bef00334"
      },
      "source": [
        "test_generator = ImageDataGenerator(rescale = 1./255)\n",
        "\n",
        "test_generator = test_generator.flow_from_directory(test,\n",
        "                                                target_size = (300,300),\n",
        "                                                batch_size = 16,\n",
        "                                                class_mode = 'categorical')\n",
        "\n",
        "test_labels = (test_generator.class_indices)\n",
        "print(test_labels,'\\n')\n",
        "\n",
        "test_labels = dict((v,k) for k,v in test_labels.items())\n",
        "print(test_labels)"
      ],
      "execution_count": 63,
      "outputs": [
        {
          "output_type": "stream",
          "text": [
            "Found 343 images belonging to 6 classes.\n",
            "{'centercrop_224_cardboard': 0, 'centercrop_224_glass': 1, 'centercrop_224_metal': 2, 'centercrop_224_paper': 3, 'centercrop_224_plastic': 4, 'centercrop_224_trash': 5} \n",
            "\n",
            "{0: 'centercrop_224_cardboard', 1: 'centercrop_224_glass', 2: 'centercrop_224_metal', 3: 'centercrop_224_paper', 4: 'centercrop_224_plastic', 5: 'centercrop_224_trash'}\n"
          ],
          "name": "stdout"
        }
      ]
    },
    {
      "cell_type": "code",
      "metadata": {
        "colab": {
          "base_uri": "https://localhost:8080/"
        },
        "id": "7VRkUW-nELR3",
        "outputId": "0b6bb3c1-02dc-4ac4-ae70-b6352db92ae6"
      },
      "source": [
        "model.evaluate(test_generator)"
      ],
      "execution_count": 64,
      "outputs": [
        {
          "output_type": "stream",
          "text": [
            "22/22 [==============================] - 1s 48ms/step - loss: 1.3244 - accuracy: 0.5510\n"
          ],
          "name": "stdout"
        },
        {
          "output_type": "execute_result",
          "data": {
            "text/plain": [
              "[1.3244308233261108, 0.5510203838348389]"
            ]
          },
          "metadata": {
            "tags": []
          },
          "execution_count": 64
        }
      ]
    },
    {
      "cell_type": "code",
      "metadata": {
        "id": "oPVkpYAhT3ur"
      },
      "source": [
        "model.save('model.h5')"
      ],
      "execution_count": 74,
      "outputs": []
    }
  ]
}