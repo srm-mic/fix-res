{
 "cells": [
  {
   "cell_type": "code",
   "execution_count": 2,
   "metadata": {
    "id": "zeDfMy404G_x"
   },
   "outputs": [],
   "source": [
    "import tensorflow as tf\n",
    "from tensorflow.keras.models import Sequential\n",
    "from tensorflow.keras.layers import Conv2D, Flatten, MaxPooling2D, Dense, Dropout, SpatialDropout2D\n",
    "from tensorflow.keras.losses import sparse_categorical_crossentropy, binary_crossentropy\n",
    "from tensorflow.keras.optimizers import Adam\n",
    "from tensorflow.keras.preprocessing.image import ImageDataGenerator"
   ]
  },
  {
   "cell_type": "code",
   "execution_count": 3,
   "metadata": {},
   "outputs": [
    {
     "name": "stdout",
     "output_type": "stream",
     "text": [
      "[PhysicalDevice(name='/physical_device:GPU:0', device_type='GPU')]\n"
     ]
    }
   ],
   "source": [
    "import tensorflow as tf\n",
    "physical_devices = tf.config.list_physical_devices('GPU')\n",
    "print(physical_devices)"
   ]
  },
  {
   "cell_type": "code",
   "execution_count": 8,
   "metadata": {
    "id": "Nu_jMXnc4znF"
   },
   "outputs": [],
   "source": [
    "train = '../Datasets/garbage classification/Garbage classification/train'\n",
    "test = '../Datasets/garbage classification/Garbage classification/train'"
   ]
  },
  {
   "cell_type": "code",
   "execution_count": 9,
   "metadata": {},
   "outputs": [
    {
     "name": "stdout",
     "output_type": "stream",
     "text": [
      "/home/amuzak/Notebooks\r\n"
     ]
    }
   ],
   "source": [
    "!pwd"
   ]
  },
  {
   "cell_type": "code",
   "execution_count": 10,
   "metadata": {
    "colab": {
     "base_uri": "https://localhost:8080/"
    },
    "id": "asv-5tKR43py",
    "outputId": "2f35444e-7653-4247-ea2c-329c2e1dc836"
   },
   "outputs": [
    {
     "name": "stdout",
     "output_type": "stream",
     "text": [
      "Found 1831 images belonging to 6 classes.\n"
     ]
    }
   ],
   "source": [
    "train_generator = ImageDataGenerator(validation_split=0.2,rescale = 1/255)\n",
    "\n",
    "train_generator = train_generator.flow_from_directory(train,\n",
    "                                                      target_size = (300,300),\n",
    "                                                      batch_size = 32,\n",
    "                                                      shuffle=True,\n",
    "                                                      class_mode = 'categorical',\n",
    "                                                      subset='training')"
   ]
  },
  {
   "cell_type": "code",
   "execution_count": 11,
   "metadata": {
    "colab": {
     "base_uri": "https://localhost:8080/"
    },
    "id": "YhHhsmX1F3I2",
    "outputId": "88e7e6f0-b882-463d-91b8-cacb8a84bedf"
   },
   "outputs": [
    {
     "name": "stdout",
     "output_type": "stream",
     "text": [
      "Found 455 images belonging to 6 classes.\n"
     ]
    }
   ],
   "source": [
    "val_generator = ImageDataGenerator(validation_split=0.2,rescale = 1/255)\n",
    "\n",
    "val_generator = val_generator.flow_from_directory(train,\n",
    "                                                  target_size = (300,300),\n",
    "                                                  batch_size = 32,\n",
    "                                                  shuffle=True,\n",
    "                                                  class_mode = 'categorical',\n",
    "                                                  subset='validation')"
   ]
  },
  {
   "cell_type": "code",
   "execution_count": 12,
   "metadata": {
    "id": "gOaJNXsJlKoy"
   },
   "outputs": [],
   "source": [
    "new_train = '../Datasets/compressed/data'\n",
    "new_test = '../Datasets/compressed/testdata'"
   ]
  },
  {
   "cell_type": "code",
   "execution_count": 13,
   "metadata": {
    "colab": {
     "base_uri": "https://localhost:8080/"
    },
    "id": "lOrPEbrloD6q",
    "outputId": "696b4ef2-aec4-498e-b49b-433db409bb99"
   },
   "outputs": [
    {
     "name": "stdout",
     "output_type": "stream",
     "text": [
      "Found 1750 images belonging to 6 classes.\n"
     ]
    }
   ],
   "source": [
    "new_train_generator = ImageDataGenerator(validation_split=0.2,rescale = 1/255)\n",
    "\n",
    "new_train_generator = new_train_generator.flow_from_directory(new_train,\n",
    "                                                      target_size = (300,300),\n",
    "                                                      batch_size = 32,\n",
    "                                                      shuffle=True,\n",
    "                                                      class_mode = 'categorical',\n",
    "                                                      subset='training')"
   ]
  },
  {
   "cell_type": "code",
   "execution_count": 14,
   "metadata": {
    "colab": {
     "base_uri": "https://localhost:8080/"
    },
    "id": "Kdv5pJOyQHZ6",
    "outputId": "0df57fd4-8de9-492a-c22c-cbeee21bb1d2"
   },
   "outputs": [
    {
     "name": "stdout",
     "output_type": "stream",
     "text": [
      "Found 434 images belonging to 6 classes.\n"
     ]
    }
   ],
   "source": [
    "new_val_generator = ImageDataGenerator(validation_split=0.2,rescale = 1/255)\n",
    "\n",
    "new_val_generator = new_val_generator.flow_from_directory(new_train,\n",
    "                                                      target_size = (300,300),\n",
    "                                                      batch_size = 32,\n",
    "                                                      shuffle=True,\n",
    "                                                      class_mode = 'categorical',\n",
    "                                                      subset='validation')"
   ]
  },
  {
   "cell_type": "code",
   "execution_count": 32,
   "metadata": {
    "id": "kRj788mmkz_o"
   },
   "outputs": [],
   "source": [
    "model = tf.keras.models.load_model('base_weights.h5')"
   ]
  },
  {
   "cell_type": "code",
   "execution_count": 33,
   "metadata": {
    "colab": {
     "base_uri": "https://localhost:8080/"
    },
    "id": "oaJcZh4Ik0cg",
    "outputId": "a647cf72-6d86-4ab6-f945-4765ff1e7ac3"
   },
   "outputs": [
    {
     "name": "stdout",
     "output_type": "stream",
     "text": [
      "Model: \"sequential_2\"\n",
      "_________________________________________________________________\n",
      "Layer (type)                 Output Shape              Param #   \n",
      "=================================================================\n",
      "conv2d_4 (Conv2D)            (None, 300, 300, 32)      896       \n",
      "_________________________________________________________________\n",
      "max_pooling2d_3 (MaxPooling2 (None, 150, 150, 32)      0         \n",
      "_________________________________________________________________\n",
      "batch_normalization_3 (Batch (None, 150, 150, 32)      128       \n",
      "_________________________________________________________________\n",
      "conv2d_5 (Conv2D)            (None, 150, 150, 64)      18496     \n",
      "_________________________________________________________________\n",
      "max_pooling2d_4 (MaxPooling2 (None, 75, 75, 64)        0         \n",
      "_________________________________________________________________\n",
      "batch_normalization_4 (Batch (None, 75, 75, 64)        256       \n",
      "_________________________________________________________________\n",
      "conv2d_6 (Conv2D)            (None, 75, 75, 32)        18464     \n",
      "_________________________________________________________________\n",
      "max_pooling2d_5 (MaxPooling2 (None, 37, 37, 32)        0         \n",
      "_________________________________________________________________\n",
      "batch_normalization_5 (Batch (None, 37, 37, 32)        128       \n",
      "_________________________________________________________________\n",
      "flatten_1 (Flatten)          (None, 43808)             0         \n",
      "_________________________________________________________________\n",
      "dense_3 (Dense)              (None, 64)                2803776   \n",
      "_________________________________________________________________\n",
      "dropout_2 (Dropout)          (None, 64)                0         \n",
      "_________________________________________________________________\n",
      "dense_4 (Dense)              (None, 32)                2080      \n",
      "_________________________________________________________________\n",
      "dropout_3 (Dropout)          (None, 32)                0         \n",
      "_________________________________________________________________\n",
      "dense_5 (Dense)              (None, 6)                 198       \n",
      "=================================================================\n",
      "Total params: 2,844,422\n",
      "Trainable params: 2,844,166\n",
      "Non-trainable params: 256\n",
      "_________________________________________________________________\n"
     ]
    }
   ],
   "source": [
    "model.summary()"
   ]
  },
  {
   "cell_type": "code",
   "execution_count": 34,
   "metadata": {
    "id": "qw3-Lx3YppnN"
   },
   "outputs": [],
   "source": [
    "from tensorflow.keras.optimizers import SGD\n",
    "model.compile(optimizer=SGD(lr=0.01, momentum=0.9, decay=0.01), loss='categorical_crossentropy', metrics=['accuracy'])"
   ]
  },
  {
   "cell_type": "code",
   "execution_count": 35,
   "metadata": {
    "colab": {
     "base_uri": "https://localhost:8080/"
    },
    "id": "eCAkeWavEtJO",
    "outputId": "0d176bbc-9503-41d7-e564-e44ac6097a2a"
   },
   "outputs": [
    {
     "name": "stdout",
     "output_type": "stream",
     "text": [
      "Epoch 1/60\n",
      "58/58 [==============================] - 12s 194ms/step - loss: 1.2640 - accuracy: 0.5286 - val_loss: 83.9061 - val_accuracy: 0.2352\n",
      "Epoch 2/60\n",
      "58/58 [==============================] - 11s 182ms/step - loss: 1.2013 - accuracy: 0.5746 - val_loss: 23.9924 - val_accuracy: 0.2374\n",
      "Epoch 3/60\n",
      "58/58 [==============================] - 13s 214ms/step - loss: 1.1988 - accuracy: 0.5558 - val_loss: 1.3618 - val_accuracy: 0.4505\n",
      "Epoch 4/60\n",
      "58/58 [==============================] - 11s 190ms/step - loss: 1.0920 - accuracy: 0.5898 - val_loss: 2.1764 - val_accuracy: 0.3187\n",
      "Epoch 5/60\n",
      "58/58 [==============================] - 12s 192ms/step - loss: 1.0627 - accuracy: 0.5915 - val_loss: 1.2745 - val_accuracy: 0.5187\n",
      "Epoch 6/60\n",
      "58/58 [==============================] - 11s 183ms/step - loss: 1.0221 - accuracy: 0.6220 - val_loss: 1.5673 - val_accuracy: 0.4308\n",
      "Epoch 7/60\n",
      "58/58 [==============================] - 13s 224ms/step - loss: 0.9562 - accuracy: 0.6678 - val_loss: 1.4002 - val_accuracy: 0.4901\n",
      "Epoch 8/60\n",
      "58/58 [==============================] - 12s 202ms/step - loss: 0.9749 - accuracy: 0.6277 - val_loss: 1.4211 - val_accuracy: 0.4989\n",
      "Epoch 9/60\n",
      "58/58 [==============================] - 12s 202ms/step - loss: 0.9546 - accuracy: 0.6424 - val_loss: 1.6094 - val_accuracy: 0.4681\n",
      "Epoch 10/60\n",
      "58/58 [==============================] - 13s 225ms/step - loss: 0.9539 - accuracy: 0.6448 - val_loss: 1.5401 - val_accuracy: 0.4703\n",
      "Epoch 11/60\n",
      "58/58 [==============================] - 12s 200ms/step - loss: 0.9745 - accuracy: 0.6386 - val_loss: 1.4785 - val_accuracy: 0.4857\n",
      "Epoch 12/60\n",
      "58/58 [==============================] - 12s 203ms/step - loss: 0.9413 - accuracy: 0.6692 - val_loss: 1.8240 - val_accuracy: 0.4242\n",
      "Epoch 13/60\n",
      "58/58 [==============================] - 12s 200ms/step - loss: 0.9097 - accuracy: 0.6649 - val_loss: 1.5778 - val_accuracy: 0.4440\n",
      "Epoch 14/60\n",
      "58/58 [==============================] - 12s 204ms/step - loss: 0.8725 - accuracy: 0.6813 - val_loss: 1.8334 - val_accuracy: 0.4286\n",
      "Epoch 15/60\n",
      "58/58 [==============================] - 12s 203ms/step - loss: 0.8800 - accuracy: 0.6738 - val_loss: 1.9642 - val_accuracy: 0.4264\n",
      "Epoch 16/60\n",
      "58/58 [==============================] - 12s 202ms/step - loss: 0.8892 - accuracy: 0.6837 - val_loss: 1.1182 - val_accuracy: 0.5714\n",
      "Epoch 17/60\n",
      "58/58 [==============================] - 12s 201ms/step - loss: 0.8772 - accuracy: 0.6735 - val_loss: 1.1537 - val_accuracy: 0.5890\n",
      "Epoch 18/60\n",
      "58/58 [==============================] - 12s 202ms/step - loss: 0.8754 - accuracy: 0.6689 - val_loss: 1.1903 - val_accuracy: 0.5846\n",
      "Epoch 19/60\n",
      "58/58 [==============================] - 13s 223ms/step - loss: 0.8465 - accuracy: 0.6980 - val_loss: 1.5466 - val_accuracy: 0.4857\n",
      "Epoch 20/60\n",
      "58/58 [==============================] - 13s 220ms/step - loss: 0.8451 - accuracy: 0.6895 - val_loss: 1.2386 - val_accuracy: 0.5429\n",
      "Epoch 21/60\n",
      "58/58 [==============================] - 12s 201ms/step - loss: 0.8080 - accuracy: 0.7042 - val_loss: 1.1633 - val_accuracy: 0.5758\n",
      "Epoch 22/60\n",
      "58/58 [==============================] - 12s 201ms/step - loss: 0.7970 - accuracy: 0.7210 - val_loss: 1.1906 - val_accuracy: 0.5912\n",
      "Epoch 23/60\n",
      "58/58 [==============================] - 12s 204ms/step - loss: 0.7945 - accuracy: 0.7256 - val_loss: 1.4721 - val_accuracy: 0.5407\n",
      "Epoch 24/60\n",
      "58/58 [==============================] - 12s 203ms/step - loss: 0.7800 - accuracy: 0.7190 - val_loss: 1.1500 - val_accuracy: 0.5978\n",
      "Epoch 25/60\n",
      "58/58 [==============================] - 12s 200ms/step - loss: 0.7932 - accuracy: 0.7214 - val_loss: 1.1754 - val_accuracy: 0.5868\n",
      "Epoch 26/60\n",
      "58/58 [==============================] - 12s 206ms/step - loss: 0.7736 - accuracy: 0.7182 - val_loss: 1.1404 - val_accuracy: 0.6066\n",
      "Epoch 27/60\n",
      "58/58 [==============================] - 12s 204ms/step - loss: 0.7916 - accuracy: 0.7165 - val_loss: 1.1074 - val_accuracy: 0.6088\n",
      "Epoch 28/60\n",
      "58/58 [==============================] - 12s 205ms/step - loss: 0.7655 - accuracy: 0.7251 - val_loss: 1.1519 - val_accuracy: 0.5802\n",
      "Epoch 29/60\n",
      "58/58 [==============================] - 14s 235ms/step - loss: 0.7547 - accuracy: 0.7346 - val_loss: 1.1295 - val_accuracy: 0.5978\n",
      "Epoch 30/60\n",
      "58/58 [==============================] - 12s 201ms/step - loss: 0.7562 - accuracy: 0.7320 - val_loss: 1.2399 - val_accuracy: 0.6066\n",
      "Epoch 31/60\n",
      "58/58 [==============================] - 12s 202ms/step - loss: 0.7729 - accuracy: 0.7274 - val_loss: 1.1614 - val_accuracy: 0.5956\n",
      "Epoch 32/60\n",
      "58/58 [==============================] - 13s 217ms/step - loss: 0.7734 - accuracy: 0.7218 - val_loss: 1.1356 - val_accuracy: 0.6264\n",
      "Epoch 33/60\n",
      "58/58 [==============================] - 12s 210ms/step - loss: 0.6908 - accuracy: 0.7586 - val_loss: 1.1127 - val_accuracy: 0.6308\n",
      "Epoch 34/60\n",
      "58/58 [==============================] - 11s 183ms/step - loss: 0.7069 - accuracy: 0.7617 - val_loss: 1.2212 - val_accuracy: 0.5934\n",
      "Epoch 35/60\n",
      "58/58 [==============================] - 11s 182ms/step - loss: 0.7278 - accuracy: 0.7456 - val_loss: 1.2118 - val_accuracy: 0.6110\n",
      "Epoch 36/60\n",
      "58/58 [==============================] - 11s 182ms/step - loss: 0.7671 - accuracy: 0.7249 - val_loss: 1.2921 - val_accuracy: 0.5626\n",
      "Epoch 37/60\n",
      "58/58 [==============================] - 11s 181ms/step - loss: 0.6847 - accuracy: 0.7673 - val_loss: 1.3230 - val_accuracy: 0.5692\n",
      "Epoch 38/60\n",
      "58/58 [==============================] - 12s 208ms/step - loss: 0.7161 - accuracy: 0.7375 - val_loss: 1.1415 - val_accuracy: 0.6176\n",
      "Epoch 39/60\n",
      "58/58 [==============================] - 11s 181ms/step - loss: 0.7151 - accuracy: 0.7485 - val_loss: 1.2168 - val_accuracy: 0.6066\n",
      "Epoch 40/60\n",
      "58/58 [==============================] - 10s 178ms/step - loss: 0.7152 - accuracy: 0.7479 - val_loss: 1.1293 - val_accuracy: 0.6066\n",
      "Epoch 41/60\n",
      "58/58 [==============================] - 11s 181ms/step - loss: 0.7165 - accuracy: 0.7510 - val_loss: 1.1287 - val_accuracy: 0.6220\n",
      "Epoch 42/60\n",
      "58/58 [==============================] - 11s 181ms/step - loss: 0.6640 - accuracy: 0.7601 - val_loss: 1.1791 - val_accuracy: 0.6088\n",
      "Epoch 43/60\n",
      "58/58 [==============================] - 11s 183ms/step - loss: 0.6550 - accuracy: 0.7749 - val_loss: 1.6919 - val_accuracy: 0.5297\n",
      "Epoch 44/60\n",
      "58/58 [==============================] - 10s 179ms/step - loss: 0.6846 - accuracy: 0.7659 - val_loss: 1.1675 - val_accuracy: 0.6154\n",
      "Epoch 45/60\n",
      "58/58 [==============================] - 12s 212ms/step - loss: 0.6860 - accuracy: 0.7647 - val_loss: 1.2613 - val_accuracy: 0.6066\n",
      "Epoch 46/60\n",
      "58/58 [==============================] - 12s 204ms/step - loss: 0.6766 - accuracy: 0.7638 - val_loss: 1.1643 - val_accuracy: 0.6088\n",
      "Epoch 47/60\n",
      "58/58 [==============================] - 11s 180ms/step - loss: 0.6860 - accuracy: 0.7680 - val_loss: 1.1817 - val_accuracy: 0.6154\n",
      "Epoch 48/60\n",
      "58/58 [==============================] - 11s 183ms/step - loss: 0.6842 - accuracy: 0.7663 - val_loss: 1.2327 - val_accuracy: 0.6132\n",
      "Epoch 49/60\n",
      "58/58 [==============================] - 10s 179ms/step - loss: 0.7206 - accuracy: 0.7560 - val_loss: 1.4384 - val_accuracy: 0.5582\n",
      "Epoch 50/60\n",
      "58/58 [==============================] - 12s 212ms/step - loss: 0.7242 - accuracy: 0.7557 - val_loss: 1.5564 - val_accuracy: 0.5429\n",
      "Epoch 51/60\n",
      "58/58 [==============================] - 12s 198ms/step - loss: 0.6313 - accuracy: 0.7897 - val_loss: 1.1845 - val_accuracy: 0.6132\n",
      "Epoch 52/60\n",
      "58/58 [==============================] - 13s 217ms/step - loss: 0.6922 - accuracy: 0.7605 - val_loss: 1.6495 - val_accuracy: 0.5385\n",
      "Epoch 53/60\n",
      "58/58 [==============================] - 11s 193ms/step - loss: 0.6897 - accuracy: 0.7757 - val_loss: 1.1665 - val_accuracy: 0.6132\n",
      "Epoch 54/60\n",
      "58/58 [==============================] - 11s 197ms/step - loss: 0.6877 - accuracy: 0.7612 - val_loss: 1.2449 - val_accuracy: 0.6110\n",
      "Epoch 55/60\n",
      "58/58 [==============================] - 12s 205ms/step - loss: 0.6706 - accuracy: 0.7587 - val_loss: 1.1602 - val_accuracy: 0.6220\n",
      "Epoch 56/60\n",
      "58/58 [==============================] - 12s 204ms/step - loss: 0.7063 - accuracy: 0.7622 - val_loss: 1.1663 - val_accuracy: 0.6154\n",
      "Epoch 57/60\n",
      "58/58 [==============================] - 12s 208ms/step - loss: 0.6806 - accuracy: 0.7572 - val_loss: 1.3216 - val_accuracy: 0.5934\n"
     ]
    },
    {
     "name": "stdout",
     "output_type": "stream",
     "text": [
      "Epoch 58/60\n",
      "58/58 [==============================] - 12s 211ms/step - loss: 0.6650 - accuracy: 0.7785 - val_loss: 1.2091 - val_accuracy: 0.6132\n",
      "Epoch 59/60\n",
      "58/58 [==============================] - 12s 206ms/step - loss: 0.6331 - accuracy: 0.7876 - val_loss: 1.2161 - val_accuracy: 0.6154\n",
      "Epoch 60/60\n",
      "58/58 [==============================] - 13s 222ms/step - loss: 0.6320 - accuracy: 0.7888 - val_loss: 1.1743 - val_accuracy: 0.6154\n"
     ]
    }
   ],
   "source": [
    "hist = model.fit(train_generator, validation_data=val_generator,epochs=60,verbose=1)"
   ]
  },
  {
   "cell_type": "code",
   "execution_count": 36,
   "metadata": {
    "colab": {
     "base_uri": "https://localhost:8080/"
    },
    "id": "wmdNxvH4IKyS",
    "outputId": "13315bcc-8ae7-4725-c542-20dd8160802e"
   },
   "outputs": [
    {
     "name": "stdout",
     "output_type": "stream",
     "text": [
      "Found 2286 images belonging to 6 classes.\n"
     ]
    }
   ],
   "source": [
    "test_generator = ImageDataGenerator(rescale = 1/255)\n",
    "\n",
    "test_generator = test_generator.flow_from_directory(test,\n",
    "                                                    target_size = (300,300),\n",
    "                                                    batch_size = 32,\n",
    "                                                    shuffle=True,\n",
    "                                                    class_mode = 'categorical',\n",
    "                                                    )"
   ]
  },
  {
   "cell_type": "code",
   "execution_count": 37,
   "metadata": {
    "colab": {
     "base_uri": "https://localhost:8080/"
    },
    "id": "-SyN8jN6Sre5",
    "outputId": "7b45c83a-e522-43de-bdcf-3e93523ad03a"
   },
   "outputs": [
    {
     "name": "stdout",
     "output_type": "stream",
     "text": [
      "58/58 [==============================] - 7s 119ms/step - loss: 0.5086 - accuracy: 0.8394\n"
     ]
    },
    {
     "data": {
      "text/plain": [
       "[0.5085640549659729, 0.8394320011138916]"
      ]
     },
     "execution_count": 37,
     "metadata": {},
     "output_type": "execute_result"
    }
   ],
   "source": [
    "model.evaluate(train_generator)"
   ]
  },
  {
   "cell_type": "code",
   "execution_count": 38,
   "metadata": {
    "colab": {
     "base_uri": "https://localhost:8080/"
    },
    "id": "bJivYvq6SwRz",
    "outputId": "d8c35cdb-a28c-45f2-a010-dcee4071190a"
   },
   "outputs": [
    {
     "name": "stdout",
     "output_type": "stream",
     "text": [
      "15/15 [==============================] - 2s 110ms/step - loss: 1.1743 - accuracy: 0.6154\n"
     ]
    },
    {
     "data": {
      "text/plain": [
       "[1.1742645502090454, 0.6153846383094788]"
      ]
     },
     "execution_count": 38,
     "metadata": {},
     "output_type": "execute_result"
    }
   ],
   "source": [
    "model.evaluate(val_generator)"
   ]
  },
  {
   "cell_type": "code",
   "execution_count": 39,
   "metadata": {
    "colab": {
     "base_uri": "https://localhost:8080/"
    },
    "id": "WvYSABuFHq0d",
    "outputId": "c13ba84d-0183-46ff-8f4d-de7ba31418f7"
   },
   "outputs": [
    {
     "name": "stdout",
     "output_type": "stream",
     "text": [
      "72/72 [==============================] - 9s 131ms/step - loss: 0.6411 - accuracy: 0.7948\n"
     ]
    },
    {
     "data": {
      "text/plain": [
       "[0.6410635113716125, 0.7948381304740906]"
      ]
     },
     "execution_count": 39,
     "metadata": {},
     "output_type": "execute_result"
    }
   ],
   "source": [
    "model.evaluate(test_generator)"
   ]
  },
  {
   "cell_type": "code",
   "execution_count": 40,
   "metadata": {
    "colab": {
     "base_uri": "https://localhost:8080/",
     "height": 295
    },
    "id": "C7C1PNaJH2EV",
    "outputId": "38ee7df5-8bbf-4f42-a75d-03bdc099a4ff"
   },
   "outputs": [
    {
     "data": {
      "image/png": "[encoded data removed]",
      "text/plain": [
       "<Figure size 432x288 with 1 Axes>"
      ]
     },
     "metadata": {
      "needs_background": "light"
     },
     "output_type": "display_data"
    }
   ],
   "source": [
    "import matplotlib.pyplot as plt\n",
    "plt.plot(hist.history['accuracy'])\n",
    "plt.plot(hist.history['val_accuracy'])\n",
    "plt.title('model accuracy')\n",
    "plt.ylabel('accuracy')\n",
    "plt.xlabel('epoch')\n",
    "plt.legend(['train', 'val'], loc='upper left')\n",
    "plt.show()"
   ]
  },
  {
   "cell_type": "code",
   "execution_count": 41,
   "metadata": {
    "colab": {
     "base_uri": "https://localhost:8080/"
    },
    "id": "HE1AtToxKNce",
    "outputId": "a64cbafe-50e6-477b-d439-a82a7c90f63f"
   },
   "outputs": [
    {
     "name": "stdout",
     "output_type": "stream",
     "text": [
      "Epoch 1/60\n",
      "55/55 [==============================] - 11s 202ms/step - loss: 0.8362 - accuracy: 0.7149 - val_loss: 0.6580 - val_accuracy: 0.7834\n",
      "Epoch 2/60\n",
      "55/55 [==============================] - 11s 206ms/step - loss: 0.8338 - accuracy: 0.7091 - val_loss: 0.6840 - val_accuracy: 0.7742\n",
      "Epoch 3/60\n",
      "55/55 [==============================] - 11s 199ms/step - loss: 0.7878 - accuracy: 0.7234 - val_loss: 1.0721 - val_accuracy: 0.6705\n",
      "Epoch 4/60\n",
      "55/55 [==============================] - 11s 197ms/step - loss: 0.7774 - accuracy: 0.7257 - val_loss: 0.7319 - val_accuracy: 0.7604\n",
      "Epoch 5/60\n",
      "55/55 [==============================] - 11s 197ms/step - loss: 0.7854 - accuracy: 0.7240 - val_loss: 0.8555 - val_accuracy: 0.7166\n",
      "Epoch 6/60\n",
      "55/55 [==============================] - 10s 189ms/step - loss: 0.7681 - accuracy: 0.7371 - val_loss: 0.6869 - val_accuracy: 0.7719\n",
      "Epoch 7/60\n",
      "55/55 [==============================] - 10s 185ms/step - loss: 0.7572 - accuracy: 0.7303 - val_loss: 0.7048 - val_accuracy: 0.7765\n",
      "Epoch 8/60\n",
      "55/55 [==============================] - 10s 186ms/step - loss: 0.7297 - accuracy: 0.7469 - val_loss: 0.6435 - val_accuracy: 0.7903\n",
      "Epoch 9/60\n",
      "55/55 [==============================] - 10s 188ms/step - loss: 0.7477 - accuracy: 0.7331 - val_loss: 0.6840 - val_accuracy: 0.7742\n",
      "Epoch 10/60\n",
      "55/55 [==============================] - 10s 188ms/step - loss: 0.7390 - accuracy: 0.7337 - val_loss: 0.6603 - val_accuracy: 0.7880\n",
      "Epoch 11/60\n",
      "55/55 [==============================] - 11s 190ms/step - loss: 0.7323 - accuracy: 0.7389 - val_loss: 0.6592 - val_accuracy: 0.7811\n",
      "Epoch 12/60\n",
      "55/55 [==============================] - 11s 206ms/step - loss: 0.7269 - accuracy: 0.7371 - val_loss: 0.6985 - val_accuracy: 0.7788\n",
      "Epoch 13/60\n",
      "55/55 [==============================] - 11s 200ms/step - loss: 0.7371 - accuracy: 0.7360 - val_loss: 0.7045 - val_accuracy: 0.7673\n",
      "Epoch 14/60\n",
      "55/55 [==============================] - 11s 200ms/step - loss: 0.7015 - accuracy: 0.7514 - val_loss: 0.6497 - val_accuracy: 0.7857\n",
      "Epoch 15/60\n",
      "55/55 [==============================] - 12s 225ms/step - loss: 0.7054 - accuracy: 0.7411 - val_loss: 0.7090 - val_accuracy: 0.7719\n",
      "Epoch 16/60\n",
      "55/55 [==============================] - 13s 240ms/step - loss: 0.7137 - accuracy: 0.7491 - val_loss: 0.6725 - val_accuracy: 0.7742\n",
      "Epoch 17/60\n",
      "55/55 [==============================] - 12s 209ms/step - loss: 0.7065 - accuracy: 0.7526 - val_loss: 0.6595 - val_accuracy: 0.7811\n",
      "Epoch 18/60\n",
      "55/55 [==============================] - 11s 201ms/step - loss: 0.7351 - accuracy: 0.7406 - val_loss: 0.6563 - val_accuracy: 0.7834\n",
      "Epoch 19/60\n",
      "55/55 [==============================] - 11s 199ms/step - loss: 0.7267 - accuracy: 0.7423 - val_loss: 0.6604 - val_accuracy: 0.7811\n",
      "Epoch 20/60\n",
      "55/55 [==============================] - 11s 201ms/step - loss: 0.6962 - accuracy: 0.7566 - val_loss: 0.7276 - val_accuracy: 0.7535\n",
      "Epoch 21/60\n",
      "55/55 [==============================] - 11s 201ms/step - loss: 0.6907 - accuracy: 0.7566 - val_loss: 0.6675 - val_accuracy: 0.7765\n",
      "Epoch 22/60\n",
      "55/55 [==============================] - 11s 202ms/step - loss: 0.7184 - accuracy: 0.7480 - val_loss: 0.6875 - val_accuracy: 0.7742\n",
      "Epoch 23/60\n",
      "55/55 [==============================] - 11s 205ms/step - loss: 0.6963 - accuracy: 0.7549 - val_loss: 0.7185 - val_accuracy: 0.7650\n",
      "Epoch 24/60\n",
      "55/55 [==============================] - 13s 240ms/step - loss: 0.6851 - accuracy: 0.7577 - val_loss: 0.7297 - val_accuracy: 0.7650\n",
      "Epoch 25/60\n",
      "55/55 [==============================] - 11s 200ms/step - loss: 0.6651 - accuracy: 0.7663 - val_loss: 0.6491 - val_accuracy: 0.7857\n",
      "Epoch 26/60\n",
      "55/55 [==============================] - 11s 201ms/step - loss: 0.6818 - accuracy: 0.7594 - val_loss: 0.6790 - val_accuracy: 0.7765\n",
      "Epoch 27/60\n",
      "55/55 [==============================] - 11s 204ms/step - loss: 0.6878 - accuracy: 0.7566 - val_loss: 0.6652 - val_accuracy: 0.7857\n",
      "Epoch 28/60\n",
      "55/55 [==============================] - 11s 203ms/step - loss: 0.6665 - accuracy: 0.7691 - val_loss: 0.6877 - val_accuracy: 0.7696\n",
      "Epoch 29/60\n",
      "55/55 [==============================] - 12s 208ms/step - loss: 0.6699 - accuracy: 0.7606 - val_loss: 0.6649 - val_accuracy: 0.7811\n",
      "Epoch 30/60\n",
      "55/55 [==============================] - 11s 204ms/step - loss: 0.6731 - accuracy: 0.7606 - val_loss: 0.7295 - val_accuracy: 0.7742\n",
      "Epoch 31/60\n",
      "55/55 [==============================] - 11s 196ms/step - loss: 0.6834 - accuracy: 0.7571 - val_loss: 0.6624 - val_accuracy: 0.7788\n",
      "Epoch 32/60\n",
      "55/55 [==============================] - 11s 198ms/step - loss: 0.6556 - accuracy: 0.7669 - val_loss: 0.6564 - val_accuracy: 0.7742\n",
      "Epoch 33/60\n",
      "55/55 [==============================] - 11s 198ms/step - loss: 0.6579 - accuracy: 0.7680 - val_loss: 0.6738 - val_accuracy: 0.7834\n",
      "Epoch 34/60\n",
      "55/55 [==============================] - 11s 203ms/step - loss: 0.6714 - accuracy: 0.7640 - val_loss: 0.6845 - val_accuracy: 0.7719\n",
      "Epoch 35/60\n",
      "55/55 [==============================] - 12s 211ms/step - loss: 0.6612 - accuracy: 0.7709 - val_loss: 0.6643 - val_accuracy: 0.7811\n",
      "Epoch 36/60\n",
      "55/55 [==============================] - 12s 208ms/step - loss: 0.6576 - accuracy: 0.7646 - val_loss: 0.6971 - val_accuracy: 0.7696\n",
      "Epoch 37/60\n",
      "55/55 [==============================] - 12s 212ms/step - loss: 0.6309 - accuracy: 0.7829 - val_loss: 0.6602 - val_accuracy: 0.7788\n",
      "Epoch 38/60\n",
      "55/55 [==============================] - 13s 233ms/step - loss: 0.6491 - accuracy: 0.7737 - val_loss: 0.6534 - val_accuracy: 0.7788\n",
      "Epoch 39/60\n",
      "55/55 [==============================] - 11s 206ms/step - loss: 0.6503 - accuracy: 0.7720 - val_loss: 0.6510 - val_accuracy: 0.7788\n",
      "Epoch 40/60\n",
      "55/55 [==============================] - 11s 202ms/step - loss: 0.6211 - accuracy: 0.7806 - val_loss: 0.6499 - val_accuracy: 0.7834\n",
      "Epoch 41/60\n",
      "55/55 [==============================] - 11s 207ms/step - loss: 0.6461 - accuracy: 0.7714 - val_loss: 0.6483 - val_accuracy: 0.7811\n",
      "Epoch 42/60\n",
      "55/55 [==============================] - 12s 208ms/step - loss: 0.6284 - accuracy: 0.7829 - val_loss: 0.6606 - val_accuracy: 0.7788\n",
      "Epoch 43/60\n",
      "55/55 [==============================] - 12s 214ms/step - loss: 0.6413 - accuracy: 0.7731 - val_loss: 0.7140 - val_accuracy: 0.7604\n",
      "Epoch 44/60\n",
      "55/55 [==============================] - 12s 209ms/step - loss: 0.6386 - accuracy: 0.7806 - val_loss: 0.6594 - val_accuracy: 0.7788\n",
      "Epoch 45/60\n",
      "55/55 [==============================] - 11s 206ms/step - loss: 0.6570 - accuracy: 0.7737 - val_loss: 0.6482 - val_accuracy: 0.7811\n",
      "Epoch 46/60\n",
      "55/55 [==============================] - 12s 210ms/step - loss: 0.6417 - accuracy: 0.7766 - val_loss: 0.6927 - val_accuracy: 0.7742\n",
      "Epoch 47/60\n",
      "55/55 [==============================] - 12s 213ms/step - loss: 0.6583 - accuracy: 0.7703 - val_loss: 0.6580 - val_accuracy: 0.7719\n",
      "Epoch 48/60\n",
      "55/55 [==============================] - 12s 211ms/step - loss: 0.6426 - accuracy: 0.7783 - val_loss: 0.7343 - val_accuracy: 0.7650\n",
      "Epoch 49/60\n",
      "55/55 [==============================] - 12s 216ms/step - loss: 0.6371 - accuracy: 0.7777 - val_loss: 0.6490 - val_accuracy: 0.7742\n",
      "Epoch 50/60\n",
      "55/55 [==============================] - 12s 210ms/step - loss: 0.6242 - accuracy: 0.7863 - val_loss: 0.6688 - val_accuracy: 0.7742\n",
      "Epoch 51/60\n",
      "55/55 [==============================] - 12s 208ms/step - loss: 0.6311 - accuracy: 0.7834 - val_loss: 0.6486 - val_accuracy: 0.7811\n",
      "Epoch 52/60\n",
      "55/55 [==============================] - 11s 200ms/step - loss: 0.6465 - accuracy: 0.7754 - val_loss: 0.6780 - val_accuracy: 0.7696\n",
      "Epoch 53/60\n",
      "55/55 [==============================] - 12s 209ms/step - loss: 0.6402 - accuracy: 0.7766 - val_loss: 0.8723 - val_accuracy: 0.7051\n",
      "Epoch 54/60\n",
      "55/55 [==============================] - 12s 209ms/step - loss: 0.6283 - accuracy: 0.7846 - val_loss: 0.6510 - val_accuracy: 0.7719\n",
      "Epoch 55/60\n",
      "55/55 [==============================] - 12s 219ms/step - loss: 0.6024 - accuracy: 0.7943 - val_loss: 0.6505 - val_accuracy: 0.7788\n",
      "Epoch 56/60\n",
      "55/55 [==============================] - 11s 203ms/step - loss: 0.6258 - accuracy: 0.7834 - val_loss: 0.6741 - val_accuracy: 0.7742\n",
      "Epoch 57/60\n",
      "55/55 [==============================] - 12s 225ms/step - loss: 0.6015 - accuracy: 0.7943 - val_loss: 0.6561 - val_accuracy: 0.7811\n"
     ]
    },
    {
     "name": "stdout",
     "output_type": "stream",
     "text": [
      "Epoch 58/60\n",
      "55/55 [==============================] - 13s 230ms/step - loss: 0.6260 - accuracy: 0.7840 - val_loss: 0.6731 - val_accuracy: 0.7788\n",
      "Epoch 59/60\n",
      "55/55 [==============================] - 12s 224ms/step - loss: 0.6156 - accuracy: 0.7863 - val_loss: 0.6563 - val_accuracy: 0.7811\n",
      "Epoch 60/60\n",
      "55/55 [==============================] - 12s 217ms/step - loss: 0.5977 - accuracy: 0.7920 - val_loss: 0.6925 - val_accuracy: 0.7696\n"
     ]
    }
   ],
   "source": [
    "hist_compress = model.fit(new_train_generator, validation_data=new_val_generator,epochs=60,verbose=1)"
   ]
  },
  {
   "cell_type": "code",
   "execution_count": 42,
   "metadata": {
    "colab": {
     "base_uri": "https://localhost:8080/"
    },
    "id": "secqRMc5ZrUl",
    "outputId": "302235de-d9d1-41be-9ed6-b07b874f9d9a"
   },
   "outputs": [
    {
     "name": "stdout",
     "output_type": "stream",
     "text": [
      "Found 343 images belonging to 6 classes.\n"
     ]
    }
   ],
   "source": [
    "new_test_generator = ImageDataGenerator(rescale = 1/255)\n",
    "\n",
    "new_test_generator = new_test_generator.flow_from_directory(new_test,\n",
    "                                                    target_size = (300,300),\n",
    "                                                    batch_size = 32,\n",
    "                                                    shuffle=True,\n",
    "                                                    class_mode = 'categorical',\n",
    "                                                    )"
   ]
  },
  {
   "cell_type": "code",
   "execution_count": 43,
   "metadata": {
    "colab": {
     "base_uri": "https://localhost:8080/"
    },
    "id": "1dosOw7WS6kP",
    "outputId": "aa738ec8-9e1e-4559-c7e7-bc8ae957679a"
   },
   "outputs": [
    {
     "name": "stdout",
     "output_type": "stream",
     "text": [
      "55/55 [==============================] - 7s 123ms/step - loss: 0.4822 - accuracy: 0.8389\n"
     ]
    },
    {
     "data": {
      "text/plain": [
       "[0.48215314745903015, 0.838857114315033]"
      ]
     },
     "execution_count": 43,
     "metadata": {},
     "output_type": "execute_result"
    }
   ],
   "source": [
    "model.evaluate(new_train_generator)"
   ]
  },
  {
   "cell_type": "code",
   "execution_count": 44,
   "metadata": {
    "colab": {
     "base_uri": "https://localhost:8080/"
    },
    "id": "xQWGulqfS90L",
    "outputId": "d80131b5-c811-45a6-8075-068fe2a7efea"
   },
   "outputs": [
    {
     "name": "stdout",
     "output_type": "stream",
     "text": [
      "14/14 [==============================] - 2s 118ms/step - loss: 0.6925 - accuracy: 0.7696\n"
     ]
    },
    {
     "data": {
      "text/plain": [
       "[0.692481279373169, 0.7695852518081665]"
      ]
     },
     "execution_count": 44,
     "metadata": {},
     "output_type": "execute_result"
    }
   ],
   "source": [
    "model.evaluate(new_val_generator)"
   ]
  },
  {
   "cell_type": "code",
   "execution_count": 45,
   "metadata": {
    "colab": {
     "base_uri": "https://localhost:8080/"
    },
    "id": "EHPaWoBzd9rp",
    "outputId": "5ff16843-32b1-4e3a-8ec8-71b0cbbaa9de"
   },
   "outputs": [
    {
     "name": "stdout",
     "output_type": "stream",
     "text": [
      "72/72 [==============================] - 9s 129ms/step - loss: 0.5386 - accuracy: 0.8211\n"
     ]
    },
    {
     "data": {
      "text/plain": [
       "[0.538582444190979, 0.8210848569869995]"
      ]
     },
     "execution_count": 45,
     "metadata": {},
     "output_type": "execute_result"
    }
   ],
   "source": [
    "model.evaluate(test_generator)"
   ]
  },
  {
   "cell_type": "code",
   "execution_count": 46,
   "metadata": {
    "colab": {
     "base_uri": "https://localhost:8080/",
     "height": 295
    },
    "id": "anB5yRQsZAfR",
    "outputId": "7cfe582e-710f-4b24-949c-e86ebca47c7a"
   },
   "outputs": [
    {
     "data": {
      "image/png": "[encoded data removed]",
      "text/plain": [
       "<Figure size 432x288 with 1 Axes>"
      ]
     },
     "metadata": {
      "needs_background": "light"
     },
     "output_type": "display_data"
    }
   ],
   "source": [
    "plt.plot(hist_compress.history['accuracy'])\n",
    "plt.plot(hist_compress.history['val_accuracy'])\n",
    "plt.title('model accuracy')\n",
    "plt.ylabel('accuracy')\n",
    "plt.xlabel('epoch')\n",
    "plt.legend(['train', 'val'], loc='upper left')\n",
    "plt.show()"
   ]
  },
  {
   "cell_type": "code",
   "execution_count": 47,
   "metadata": {},
   "outputs": [],
   "source": [
    "model.save(\"compressed_boye.h5\")"
   ]
  },
  {
   "cell_type": "code",
   "execution_count": null,
   "metadata": {},
   "outputs": [],
   "source": []
  }
 ],
 "metadata": {
  "accelerator": "GPU",
  "colab": {
   "name": "FixResCompressed.ipynb",
   "provenance": []
  },
  "kernelspec": {
   "display_name": "Python 3",
   "language": "python",
   "name": "python3"
  },
  "language_info": {
   "codemirror_mode": {
    "name": "ipython",
    "version": 3
   },
   "file_extension": ".py",
   "mimetype": "text/x-python",
   "name": "python",
   "nbconvert_exporter": "python",
   "pygments_lexer": "ipython3",
   "version": "3.8.5"
  }
 },
 "nbformat": 4,
 "nbformat_minor": 1
}
