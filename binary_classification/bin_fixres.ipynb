{
  "nbformat": 4,
  "nbformat_minor": 0,
  "metadata": {
    "colab": {
      "name": "paper impl clean.ipynb",
      "provenance": [],
      "collapsed_sections": []
    },
    "kernelspec": {
      "name": "python3",
      "display_name": "Python 3"
    },
    "accelerator": "GPU"
  },
  "cells": [
    {
      "cell_type": "code",
      "metadata": {
        "id": "VyVRPuJVxLhd"
      },
      "source": [
        "import numpy as np\n",
        "import os\n",
        "import shutil\n",
        "from PIL import Image\n",
        "from matplotlib import pyplot as plt\n",
        "import cv2\n",
        "from pylab import *\n",
        "import random\n",
        "from keras.preprocessing.image import ImageDataGenerator, array_to_img, img_to_array, load_img\n",
        "import keras\n",
        "from keras.models import Sequential\n",
        "from tensorflow.keras.models import Model\n",
        "from keras.layers import Dense, Dropout, Activation, Flatten\n",
        "from keras.layers import Conv2D, MaxPooling2D\n",
        "from keras.layers import BatchNormalization\n",
        "from keras.utils import normalize, to_categorical\n",
        "from keras.callbacks import ReduceLROnPlateau\n",
        "from keras.regularizers import l2\n",
        "from keras.optimizers import RMSprop\n",
        "from keras.models import load_model"
      ],
      "execution_count": 22,
      "outputs": []
    },
    {
      "cell_type": "code",
      "metadata": {
        "id": "31mXCvUaG77J"
      },
      "source": [
        "folder1 = \"/content/dataset/DATASET/TRAIN/R\"\n",
        "folder2 = \"/content/dataset/DATASET/TRAIN/O\"\n",
        "folder3=\"/content/dataset/DATASET/TEST/R\"\n",
        "folder4=\"/content/dataset/DATASET/TEST/O\"\n",
        "\n",
        "train_path = \"/content/train_data\"\n",
        "test_path=\"/content/test_data\"\n",
        "val_path=\"/content/val_data\"\n",
        "\n",
        "res_train=\"/content/resized_data\"\n",
        "res_test=\"/content/resized_testdata\"\n",
        "res_val=\"/content/resized_valdata\"\n",
        "\n",
        "col_path=\"/content/colorj_data\"\n",
        "flip_path=\"/content/flip_data\"\n",
        "aug_path=\"/content/aug_data\"\n",
        "\n",
        "randcrop_path=\"/content/randcrop_data\"\n",
        "\n",
        "\n",
        "colv_path=\"/content/colorj_valdata\"\n",
        "flipv_path=\"/content/flip_valdata\"\n",
        "augv_path=\"/content/aug_valdata\"\n",
        "\n",
        "crop_path=\"/content/crop_valdata\""
      ],
      "execution_count": 8,
      "outputs": []
    },
    {
      "cell_type": "markdown",
      "metadata": {
        "id": "HSfL8S6ZhbQl"
      },
      "source": [
        "Recyclable -> 1,\n",
        "Organic -> 0\n",
        "\n",
        "Train=22564, Test=2513\n",
        "\n",
        "Total=25077"
      ]
    },
    {
      "cell_type": "code",
      "metadata": {
        "id": "HFxSZoSfC5j-"
      },
      "source": [
        "def all_data(folder1,folder2,outpath):\n",
        "  \n",
        "  #creating directory\n",
        "  if not os.path.exists(outpath):\n",
        "          os.mkdir(outpath)\n",
        "          print(\"Directory \" , outpath ,  \" Created \")\n",
        "  else:    \n",
        "          print(\"Directory \" , outpath ,  \" already exists\")\n",
        "  \n",
        "  \n",
        "  #recyclable waste\n",
        "  rfiles = [f1 for f1 in os.listdir(folder1) if os.path.isfile(os.path.join(folder1, f1))]\n",
        "\n",
        "  j=1\n",
        "  for i in range(len(rfiles)):\n",
        "    \n",
        "     os.rename(folder1 + \"/\" + rfiles[i], outpath+'/1_'+str(j)+ '.jpg') #renaming\n",
        "     j+=1\n",
        "\n",
        "  #organic waste\n",
        "  ofiles = [f2 for f2 in os.listdir(folder2) if os.path.isfile(os.path.join(folder2, f2))]\n",
        "\n",
        "  k=1\n",
        "  for i in range(len(ofiles)):\n",
        "     os.rename(folder2 + \"/\" + ofiles[i], outpath+'/0_'+str(k)+ '.jpg') #renaming\n",
        "     k+=1"
      ],
      "execution_count": 9,
      "outputs": []
    },
    {
      "cell_type": "code",
      "metadata": {
        "colab": {
          "base_uri": "https://localhost:8080/"
        },
        "id": "aY3CT4dbpTVt",
        "outputId": "9e1e3cb9-42e6-487d-926e-8b017bae0f6c"
      },
      "source": [
        "all_data(folder1,folder2,train_path)"
      ],
      "execution_count": 10,
      "outputs": [
        {
          "output_type": "stream",
          "text": [
            "Directory  /content/train_data  Created \n"
          ],
          "name": "stdout"
        }
      ]
    },
    {
      "cell_type": "code",
      "metadata": {
        "colab": {
          "base_uri": "https://localhost:8080/"
        },
        "id": "cmSbKRxJYBhx",
        "outputId": "62fc265c-405b-4b15-d18a-23766e61ae12"
      },
      "source": [
        "all_data(folder3,folder4,test_path)"
      ],
      "execution_count": 11,
      "outputs": [
        {
          "output_type": "stream",
          "text": [
            "Directory  /content/test_data  Created \n"
          ],
          "name": "stdout"
        }
      ]
    },
    {
      "cell_type": "markdown",
      "metadata": {
        "id": "fJHR_NY-1sZ8"
      },
      "source": [
        "Splitting test into test and val"
      ]
    },
    {
      "cell_type": "code",
      "metadata": {
        "id": "hLEsmfu7asxU"
      },
      "source": [
        "def split_testval():\r\n",
        "  \r\n",
        "  if not os.path.exists(val_path):\r\n",
        "            os.mkdir(val_path)\r\n",
        "            print(\"Directory \" , val_path ,  \" Created \")\r\n",
        "  else:    \r\n",
        "            print(\"Directory \" , val_path ,  \" already exists\")\r\n",
        "\r\n",
        "  rfiles = [f1 for f1 in os.listdir(test_path) if os.path.isfile(os.path.join(test_path, f1))]\r\n",
        "\r\n",
        "\r\n",
        "  shuffle(rfiles)\r\n",
        "  for i in range(len(rfiles)//2):\r\n",
        "     \r\n",
        "    shutil.move(test_path + \"/\" + rfiles[i], val_path + \"/\" + rfiles[i])   "
      ],
      "execution_count": 12,
      "outputs": []
    },
    {
      "cell_type": "code",
      "metadata": {
        "colab": {
          "base_uri": "https://localhost:8080/"
        },
        "id": "v_xBGGvKY_YB",
        "outputId": "70a2302d-2bba-43b3-e2de-90d105f30289"
      },
      "source": [
        "split_testval()"
      ],
      "execution_count": 23,
      "outputs": [
        {
          "output_type": "stream",
          "text": [
            "Directory  /content/val_data  already exists\n"
          ],
          "name": "stdout"
        }
      ]
    },
    {
      "cell_type": "markdown",
      "metadata": {
        "id": "70Gs5ZgpKfqQ"
      },
      "source": [
        "# **Train Time Augmentation**\r\n",
        "\r\n",
        "1. Training Data: Color Jitter(30), Random Horizontal Flip, Random Cropping\r\n",
        "\r\n",
        "2. Validation Data: Color Jitter(5), Random Horizontal Flip, Center Cropping\r\n",
        "\r\n",
        "3. Test Data: No augmentation"
      ]
    },
    {
      "cell_type": "markdown",
      "metadata": {
        "id": "psuJX34JnO8y"
      },
      "source": [
        "Color Jitter and Horizontal Flip for Training Data"
      ]
    },
    {
      "cell_type": "code",
      "metadata": {
        "id": "MoYqeJMApEzq"
      },
      "source": [
        "def colorJitter(jitter_val, in_path, out_path):\r\n",
        "  \r\n",
        "  if not os.path.exists(out_path):\r\n",
        "          os.mkdir(out_path)\r\n",
        "          print(\"Directory \" , out_path ,  \" Created \")\r\n",
        "  else:    \r\n",
        "          print(\"Directory \" , out_path ,  \" already exists\")\r\n",
        "\r\n",
        "  rfiles = [f1 for f1 in os.listdir(in_path) if os.path.isfile(os.path.join(in_path, f1))]\r\n",
        "\r\n",
        "  \r\n",
        "  for i in range(len(rfiles)):\r\n",
        "    \r\n",
        "    img = cv2.imread(in_path + \"/\" + rfiles[i])\r\n",
        "    h,w,c = img.shape \r\n",
        "\r\n",
        "    noise = np.random.randint(0,jitter_val,(h, w)) # design jitter/noise here\r\n",
        "    jitter = np.zeros_like(img)\r\n",
        "    jitter[:,:,2] = noise  \r\n",
        "    noise_added = cv2.add(img, jitter)\r\n",
        "      \r\n",
        "    label_in_file = rfiles[i].find(\".\")\r\n",
        "    cv2.imwrite(out_path + \"/\" + rfiles[i][0:label_in_file] +\"cj.jpg\", noise_added)"
      ],
      "execution_count": 14,
      "outputs": []
    },
    {
      "cell_type": "code",
      "metadata": {
        "colab": {
          "base_uri": "https://localhost:8080/"
        },
        "id": "u9KVFtO5JR_6",
        "outputId": "dd938fe7-e587-4a96-95a5-3c46a1717d1d"
      },
      "source": [
        "colorJitter(30, train_path, col_path)"
      ],
      "execution_count": 15,
      "outputs": [
        {
          "output_type": "stream",
          "text": [
            "Directory  /content/colorj_data  Created \n"
          ],
          "name": "stdout"
        }
      ]
    },
    {
      "cell_type": "code",
      "metadata": {
        "id": "glgv2pJTLbjX"
      },
      "source": [
        "def horizontalFlip(in_path,out_path):\r\n",
        "\r\n",
        "  if not os.path.exists(out_path):\r\n",
        "          os.mkdir(out_path)\r\n",
        "          print(\"Directory \" , out_path ,  \" Created \")\r\n",
        "  else:    \r\n",
        "          print(\"Directory \" , out_path ,  \" already exists\")\r\n",
        "\r\n",
        "  rfiles = [f1 for f1 in os.listdir(in_path) if os.path.isfile(os.path.join(in_path, f1))]\r\n",
        "\r\n",
        "  for i in range(len(rfiles)):\r\n",
        "    \r\n",
        "    img = cv2.imread(in_path + \"/\" + rfiles[i])\r\n",
        "    flippedimage= cv2.flip(img, 1)\r\n",
        "    label_in_file = rfiles[i].find(\".\")\r\n",
        "    cv2.imwrite(out_path + \"/\" + rfiles[i][0:label_in_file] +\"flip.jpg\", flippedimage)\r\n",
        "  "
      ],
      "execution_count": 16,
      "outputs": []
    },
    {
      "cell_type": "code",
      "metadata": {
        "colab": {
          "base_uri": "https://localhost:8080/"
        },
        "id": "R8dYaoj0l9u-",
        "outputId": "b7265636-2003-473d-a5ad-f728f78830ba"
      },
      "source": [
        "horizontalFlip(col_path, flip_path)"
      ],
      "execution_count": 17,
      "outputs": [
        {
          "output_type": "stream",
          "text": [
            "Directory  /content/flip_data  Created \n"
          ],
          "name": "stdout"
        }
      ]
    },
    {
      "cell_type": "code",
      "metadata": {
        "id": "ohSbkZbUqJyL"
      },
      "source": [
        "def copy_data(col_path, flip_path):\r\n",
        "\r\n",
        "  rfiles = [f1 for f1 in os.listdir(col_path) if os.path.isfile(os.path.join(col_path, f1))]\r\n",
        "  for i in range(len(rfiles)):\r\n",
        "   \r\n",
        "    shutil.copy(col_path + \"/\" + rfiles[i], flip_path + \"/\" + rfiles[i])   "
      ],
      "execution_count": 18,
      "outputs": []
    },
    {
      "cell_type": "code",
      "metadata": {
        "id": "P92xaZQiq9pV"
      },
      "source": [
        "copy_data(col_path, flip_path)"
      ],
      "execution_count": 19,
      "outputs": []
    },
    {
      "cell_type": "code",
      "metadata": {
        "id": "nQVGJ5L-rBMf"
      },
      "source": [
        "def augmentation(flip_path,aug_path):\r\n",
        "\r\n",
        "  if not os.path.exists(aug_path):\r\n",
        "            os.mkdir(aug_path)\r\n",
        "            print(\"Directory \" , aug_path ,  \" Created \")\r\n",
        "  else:    \r\n",
        "            print(\"Directory \" , aug_path ,  \" already exists\")\r\n",
        "\r\n",
        "  rfiles = [f1 for f1 in os.listdir(flip_path) if os.path.isfile(os.path.join(flip_path, f1))]\r\n",
        "\r\n",
        "  shuffle(rfiles)\r\n",
        "  for i in range(len(rfiles)//2):\r\n",
        "    shutil.copy(flip_path + \"/\" + rfiles[i], aug_path + \"/\" + rfiles[i]) "
      ],
      "execution_count": 20,
      "outputs": []
    },
    {
      "cell_type": "code",
      "metadata": {
        "colab": {
          "base_uri": "https://localhost:8080/"
        },
        "id": "swUWeDsmtlsb",
        "outputId": "55fb1c7c-36aa-47d6-a337-f3e42abc4008"
      },
      "source": [
        "augmentation(flip_path,aug_path)"
      ],
      "execution_count": 24,
      "outputs": [
        {
          "output_type": "stream",
          "text": [
            "Directory  /content/aug_data  already exists\n"
          ],
          "name": "stdout"
        }
      ]
    },
    {
      "cell_type": "markdown",
      "metadata": {
        "id": "hWy40YXy2B6Q"
      },
      "source": [
        "Random Crop for Training Data"
      ]
    },
    {
      "cell_type": "code",
      "metadata": {
        "id": "PoNNvR9gWHfk"
      },
      "source": [
        "def get_random_crop(in_path, randcrop_path, crop_height, crop_width):\r\n",
        "\r\n",
        "  if not os.path.exists(randcrop_path):\r\n",
        "          os.mkdir(randcrop_path)\r\n",
        "          print(\"Directory \" , randcrop_path ,  \" Created \")\r\n",
        "  else:    \r\n",
        "          print(\"Directory \" , randcrop_path ,  \" already exists\")\r\n",
        "\r\n",
        "  rfiles = [f1 for f1 in os.listdir(in_path) if os.path.isfile(os.path.join(in_path, f1))]\r\n",
        "\r\n",
        "  for i in range(len(rfiles)):\r\n",
        "    \r\n",
        "    img = cv2.imread(in_path + \"/\" + rfiles[i])\r\n",
        "    resized=cv2.resize(img,(100,100)) #resizing images\r\n",
        "      \r\n",
        "    max_x = resized.shape[1] - crop_width\r\n",
        "    max_y = resized.shape[0] - crop_height\r\n",
        "\r\n",
        "    x = np.random.randint(0, max_x)\r\n",
        "    y = np.random.randint(0, max_y)\r\n",
        "\r\n",
        "    crop = resized[y: y + crop_height, x: x + crop_width]\r\n",
        "    cv2.imwrite(randcrop_path + \"/\" + rfiles[i], crop) #training data from randcrop path"
      ],
      "execution_count": 25,
      "outputs": []
    },
    {
      "cell_type": "code",
      "metadata": {
        "colab": {
          "base_uri": "https://localhost:8080/"
        },
        "id": "izjf9Q8mWj_x",
        "outputId": "c09165a1-545e-4f4d-85ba-d249759dca45"
      },
      "source": [
        "get_random_crop(aug_path, randcrop_path, 80, 80)\r\n",
        "trfiles = [f1 for f1 in os.listdir(randcrop_path) if os.path.isfile(os.path.join(randcrop_path, f1))]\r\n",
        "print(\"Working with {0} images\".format(len(trfiles)))"
      ],
      "execution_count": 26,
      "outputs": [
        {
          "output_type": "stream",
          "text": [
            "Directory  /content/randcrop_data  Created \n",
            "Working with 22564 images\n"
          ],
          "name": "stdout"
        }
      ]
    },
    {
      "cell_type": "markdown",
      "metadata": {
        "id": "XugksU2RNq9e"
      },
      "source": [
        "Augmentations for Validation"
      ]
    },
    {
      "cell_type": "code",
      "metadata": {
        "colab": {
          "base_uri": "https://localhost:8080/"
        },
        "id": "TNjMLR4nFVyL",
        "outputId": "1e88db6f-be17-4f00-f994-4b522897e395"
      },
      "source": [
        "colorJitter(5, val_path, colv_path)\r\n",
        "horizontalFlip(colv_path, flipv_path)\r\n",
        "copy_data(colv_path, flipv_path)\r\n",
        "augmentation(flipv_path,augv_path)"
      ],
      "execution_count": 27,
      "outputs": [
        {
          "output_type": "stream",
          "text": [
            "Directory  /content/colorj_valdata  Created \n",
            "Directory  /content/flip_valdata  Created \n",
            "Directory  /content/aug_valdata  Created \n"
          ],
          "name": "stdout"
        }
      ]
    },
    {
      "cell_type": "markdown",
      "metadata": {
        "id": "gA6X-8zS2MMp"
      },
      "source": [
        "Center Crop for Validation Data"
      ]
    },
    {
      "cell_type": "code",
      "metadata": {
        "id": "LAAb7tuSPPEp"
      },
      "source": [
        "def center_crop(in_path, out_path, dim=(100,100)):\r\n",
        "\r\n",
        "  if not os.path.exists(out_path):\r\n",
        "          os.mkdir(out_path)\r\n",
        "          print(\"Directory \" , out_path ,  \" Created \")\r\n",
        "  else:    \r\n",
        "          print(\"Directory \" , out_path ,  \" already exists\")\r\n",
        "\r\n",
        "  rfiles = [f1 for f1 in os.listdir(in_path) if os.path.isfile(os.path.join(in_path, f1))]\r\n",
        "\r\n",
        "  for i in range(len(rfiles)):\r\n",
        "    \r\n",
        "    img = cv2.imread(in_path + \"/\" + rfiles[i])\r\n",
        "\r\n",
        "    resized=cv2.resize(img,(110,110))\r\n",
        "\r\n",
        "    width, height = resized.shape[1], resized.shape[0]\r\n",
        "  #process crop width and height for max available dimension\r\n",
        "    crop_width = dim[0] if dim[0]<resized.shape[1] else resized.shape[1]\r\n",
        "    crop_height = dim[1] if dim[1]<resized.shape[0] else resized.shape[0]\r\n",
        "    mid_x, mid_y = int(width/2), int(height/2)\r\n",
        "    cw2, ch2 = int(crop_width/2), int(crop_height/2) \r\n",
        "    crop_img = resized[mid_y-ch2:mid_y+ch2, mid_x-cw2:mid_x+cw2]\r\n",
        "\r\n",
        "    cv2.imwrite(out_path + \"/\" + rfiles[i], crop_img) #validation in crop path, test in test_crop\r\n",
        "    "
      ],
      "execution_count": 28,
      "outputs": []
    },
    {
      "cell_type": "code",
      "metadata": {
        "colab": {
          "base_uri": "https://localhost:8080/"
        },
        "id": "ZFBSxnVQT52-",
        "outputId": "a91ae3c6-9342-485e-e662-48352a6fcc4e"
      },
      "source": [
        "center_crop(augv_path, crop_path)\r\n",
        "trfiles = [f1 for f1 in os.listdir(crop_path) if os.path.isfile(os.path.join(crop_path, f1))]\r\n",
        "print(\"Working with {0} images\".format(len(trfiles)))"
      ],
      "execution_count": 29,
      "outputs": [
        {
          "output_type": "stream",
          "text": [
            "Directory  /content/crop_valdata  Created \n",
            "Working with 1256 images\n"
          ],
          "name": "stdout"
        }
      ]
    },
    {
      "cell_type": "markdown",
      "metadata": {
        "id": "rglzrFDusdj9"
      },
      "source": [
        "# **Resizing data to 64x64**"
      ]
    },
    {
      "cell_type": "code",
      "metadata": {
        "id": "CRjeNBUswUsL"
      },
      "source": [
        "def preprocessing(in_path, res_path):\n",
        "\n",
        " #creating directory\n",
        "  if not os.path.exists(res_path):\n",
        "          os.mkdir(res_path)\n",
        "          print(\"Directory \" , res_path ,  \" Created \")\n",
        "  else:    \n",
        "          print(\"Directory \" , res_path ,  \" already exists\")\n",
        "\n",
        "\n",
        "  trfiles = [f1 for f1 in os.listdir(in_path) if os.path.isfile(os.path.join(in_path, f1))]\n",
        "\n",
        "  print(\"Working with {0} images\".format(len(trfiles)))\n",
        "\n",
        "  for i in range(len(trfiles)): \n",
        "      img=cv2.imread(in_path + \"/\" + trfiles[i])\n",
        "     \n",
        "      resizedtr=cv2.resize(img,(64,64)) #resizing images\n",
        "      cv2.imwrite(res_path + \"/\" + trfiles[i], resizedtr)"
      ],
      "execution_count": 30,
      "outputs": []
    },
    {
      "cell_type": "code",
      "metadata": {
        "colab": {
          "base_uri": "https://localhost:8080/"
        },
        "id": "kTDFc9XXGbKq",
        "outputId": "0a661fd4-40d2-4694-8eae-5a3fe0171bc5"
      },
      "source": [
        "preprocessing(randcrop_path, res_train)"
      ],
      "execution_count": 31,
      "outputs": [
        {
          "output_type": "stream",
          "text": [
            "Directory  /content/resized_data  Created \n",
            "Working with 22564 images\n"
          ],
          "name": "stdout"
        }
      ]
    },
    {
      "cell_type": "code",
      "metadata": {
        "colab": {
          "base_uri": "https://localhost:8080/"
        },
        "id": "cXSxOUqQLEew",
        "outputId": "9cfaaa0b-9a37-42d1-8eaa-2a6a57be2e23"
      },
      "source": [
        "preprocessing(test_path, res_test)"
      ],
      "execution_count": 32,
      "outputs": [
        {
          "output_type": "stream",
          "text": [
            "Directory  /content/resized_testdata  Created \n",
            "Working with 1257 images\n"
          ],
          "name": "stdout"
        }
      ]
    },
    {
      "cell_type": "code",
      "metadata": {
        "colab": {
          "base_uri": "https://localhost:8080/"
        },
        "id": "AvvVHXm6aKSU",
        "outputId": "5a88318a-2217-4782-cf82-be3895bb47c4"
      },
      "source": [
        "preprocessing(crop_path, res_val)"
      ],
      "execution_count": 33,
      "outputs": [
        {
          "output_type": "stream",
          "text": [
            "Directory  /content/resized_valdata  Created \n",
            "Working with 1256 images\n"
          ],
          "name": "stdout"
        }
      ]
    },
    {
      "cell_type": "markdown",
      "metadata": {
        "id": "l0uwDXDRsrYO"
      },
      "source": [
        "# **creating vectors**"
      ]
    },
    {
      "cell_type": "code",
      "metadata": {
        "id": "rfMDpi9OFPrs"
      },
      "source": [
        "#one hot encoding\n",
        "def convert_to_one_hot(Y, C):\n",
        "    Y = np.eye(C)[Y.reshape(-1)].T\n",
        "    return Y"
      ],
      "execution_count": 34,
      "outputs": []
    },
    {
      "cell_type": "code",
      "metadata": {
        "id": "gFpoLYkNzizq"
      },
      "source": [
        "def vectorise(in_path):\n",
        "  \n",
        "  onlyfiles = [f for f in os.listdir(in_path) if os.path.isfile(os.path.join(in_path, f))]\n",
        "\n",
        "  train_files = []\n",
        "  y_train = []\n",
        "  i=0\n",
        "  for _file in onlyfiles:\n",
        "      train_files.append(_file)\n",
        "      label_in_file = _file.find(\"_\")\n",
        "      y_train.append(int(_file[0:label_in_file]))\n",
        "      \n",
        "  print(\"Files in path: %d\" % len(train_files))\n",
        "\n",
        "  # Original Dimensions\n",
        "  image_width = 64\n",
        "  image_height = 64\n",
        "  \n",
        "  channels = 3\n",
        "  nb_classes = 2\n",
        "  #np arrays for examples and the labels\n",
        "  dataset = np.ndarray(shape=(len(train_files), image_height, image_width, channels),\n",
        "                      dtype=np.float32)\n",
        "  labels=np.ndarray(shape=(len(train_files),1),\n",
        "                      dtype=np.int64)\n",
        "  i = 0\n",
        "  for _file in train_files:\n",
        "      img = load_img(in_path + \"/\" + _file)\n",
        "      img.thumbnail((image_width, image_height))\n",
        "      # Convert to Numpy Array\n",
        "      x = img_to_array(img)  \n",
        "      dataset[i] = x\n",
        "      label_in_file = _file.find(\"_\")\n",
        "      labels[i]=(int(_file[0:label_in_file]))\n",
        "      i += 1\n",
        "      if i % 10000 == 0:\n",
        "          print(\"%d images to array\" % i)\n",
        "  print(\"All images to array!\")\n",
        "\n",
        "  return dataset, labels"
      ],
      "execution_count": 35,
      "outputs": []
    },
    {
      "cell_type": "code",
      "metadata": {
        "colab": {
          "base_uri": "https://localhost:8080/"
        },
        "id": "J8G-P_5JNM2u",
        "outputId": "77872065-6a65-482b-ba42-329b769a7749"
      },
      "source": [
        "tr_dataset,tr_labels=vectorise(res_train)"
      ],
      "execution_count": 36,
      "outputs": [
        {
          "output_type": "stream",
          "text": [
            "Files in path: 22564\n",
            "10000 images to array\n",
            "20000 images to array\n",
            "All images to array!\n"
          ],
          "name": "stdout"
        }
      ]
    },
    {
      "cell_type": "code",
      "metadata": {
        "colab": {
          "base_uri": "https://localhost:8080/"
        },
        "id": "a7gsSH5qNjUW",
        "outputId": "46112011-297e-40e2-a08b-c6ca46bae5a5"
      },
      "source": [
        "t_dataset,t_labels=vectorise(res_test)"
      ],
      "execution_count": 37,
      "outputs": [
        {
          "output_type": "stream",
          "text": [
            "Files in path: 1257\n",
            "All images to array!\n"
          ],
          "name": "stdout"
        }
      ]
    },
    {
      "cell_type": "code",
      "metadata": {
        "colab": {
          "base_uri": "https://localhost:8080/"
        },
        "id": "BXDwY-YbbKrx",
        "outputId": "d4a06596-7f1c-456f-9d7c-ab013a16603e"
      },
      "source": [
        "v_dataset,v_labels=vectorise(res_val)"
      ],
      "execution_count": 38,
      "outputs": [
        {
          "output_type": "stream",
          "text": [
            "Files in path: 1256\n",
            "All images to array!\n"
          ],
          "name": "stdout"
        }
      ]
    },
    {
      "cell_type": "code",
      "metadata": {
        "id": "JT1YWSejLrU1"
      },
      "source": [
        "X_train = tr_dataset/255. #normalising\n",
        "y_train_orig=tr_labels.T\n",
        "Y_train = convert_to_one_hot(y_train_orig, 2).T #one hot encoding\n",
        "\n",
        "x_test=t_dataset\n",
        "y_test=t_labels\n",
        "\n",
        "x_val=v_dataset\n",
        "y_val=v_labels\n",
        "\n",
        "y_test_orig=y_test.T\n",
        "y_val_orig=y_val.T\n",
        "\n",
        "X_test = x_test/255. #normalising\n",
        "X_val = x_val/255. #normalising\n",
        "\n",
        "Y_test = convert_to_one_hot(y_test_orig, 2).T #one hot encoding\n",
        "Y_val = convert_to_one_hot(y_val_orig, 2).T #one hot encoding"
      ],
      "execution_count": 39,
      "outputs": []
    },
    {
      "cell_type": "code",
      "metadata": {
        "colab": {
          "base_uri": "https://localhost:8080/"
        },
        "id": "6bZjBkoFBkyM",
        "outputId": "dfdee42b-3354-4989-ccfd-d60d37527a0b"
      },
      "source": [
        "print (\"number of training examples = \" + str(X_train.shape[0]))\n",
        "print (\"number of test examples = \" + str(X_test.shape[0]))\n",
        "print (\"number of val examples = \" + str(X_val.shape[0]))\n",
        "print (\"X_train shape: \" + str(X_train.shape))\n",
        "print (\"Y_train shape: \" + str(Y_train.shape))\n",
        "print (\"X_val shape: \" + str(X_val.shape))\n",
        "print (\"Y_val shape: \" + str(Y_val.shape))\n",
        "print (\"X_test shape: \" + str(X_test.shape))\n",
        "print (\"Y_test shape: \" + str(Y_test.shape))"
      ],
      "execution_count": 40,
      "outputs": [
        {
          "output_type": "stream",
          "text": [
            "number of training examples = 22564\n",
            "number of test examples = 1257\n",
            "number of val examples = 1256\n",
            "X_train shape: (22564, 64, 64, 3)\n",
            "Y_train shape: (22564, 2)\n",
            "X_val shape: (1256, 64, 64, 3)\n",
            "Y_val shape: (1256, 2)\n",
            "X_test shape: (1257, 64, 64, 3)\n",
            "Y_test shape: (1257, 2)\n"
          ],
          "name": "stdout"
        }
      ]
    },
    {
      "cell_type": "markdown",
      "metadata": {
        "id": "haTCt6iquBXJ"
      },
      "source": [
        "# **Model + training**"
      ]
    },
    {
      "cell_type": "code",
      "metadata": {
        "id": "0ObTvAFoU71t"
      },
      "source": [
        "def training():\n",
        "  \n",
        "  model = Sequential()\n",
        "  model.add(Conv2D(filters=32,kernel_size=(3,3),padding='same',input_shape=(64,64,3)))\n",
        "  model.add(BatchNormalization())\n",
        "  model.add(Activation('relu'))\n",
        "  model.add(MaxPooling2D(pool_size=(2,2),padding='same',strides=2))\n",
        "\n",
        "  model.add(Conv2D(filters=64,kernel_size=(3,3),padding='same', kernel_regularizer=keras.regularizers.l2(l2=0.01)))\n",
        "  model.add(BatchNormalization())\n",
        "  model.add(Activation('relu'))\n",
        "  model.add(MaxPooling2D(pool_size=(2,2),padding='same',strides=2))\n",
        "  model.add(Dropout(0.3))\n",
        "\n",
        "  model.add(Conv2D(filters=128,kernel_size=(3,3),padding='same',kernel_regularizer=keras.regularizers.l2(l2=0.01)))\n",
        "  model.add(BatchNormalization())\n",
        "  model.add(Activation('relu'))\n",
        "  model.add(MaxPooling2D(pool_size=(2,2),padding='same',strides=2))\n",
        "  model.add(Dropout(0.3))\n",
        "\n",
        "  model.add(Flatten())\n",
        "  model.add(Dense(units=256,activation='relu'))\n",
        "  model.add(Dropout(0.35))\n",
        "\n",
        "  model.add(Dense(units=2,activation='softmax'))\n",
        "\n",
        "  model.compile(optimizer=RMSprop(),loss='categorical_crossentropy',metrics=['accuracy'])\n",
        "  lr_red=ReduceLROnPlateau(patience=3,verbose=1,min_lr=0.0001)\n",
        "\n",
        "  history = model.fit(X_train, Y_train, batch_size=128, epochs=10, callbacks=[lr_red], validation_data=(X_val, Y_val),)\n",
        "\n",
        "  return model,history\n"
      ],
      "execution_count": 41,
      "outputs": []
    },
    {
      "cell_type": "code",
      "metadata": {
        "colab": {
          "base_uri": "https://localhost:8080/"
        },
        "id": "7ME9jYSSBtMR",
        "outputId": "6b4a8175-4b34-4dd9-9850-72b52d078212"
      },
      "source": [
        "model,history=training()"
      ],
      "execution_count": 42,
      "outputs": [
        {
          "output_type": "stream",
          "text": [
            "Epoch 1/10\n",
            "177/177 [==============================] - 13s 28ms/step - loss: 4.0118 - accuracy: 0.7405 - val_loss: 0.8342 - val_accuracy: 0.4514\n",
            "Epoch 2/10\n",
            "177/177 [==============================] - 5s 26ms/step - loss: 0.5156 - accuracy: 0.8177 - val_loss: 0.5889 - val_accuracy: 0.6998\n",
            "Epoch 3/10\n",
            "177/177 [==============================] - 5s 25ms/step - loss: 0.4478 - accuracy: 0.8323 - val_loss: 0.5935 - val_accuracy: 0.7014\n",
            "Epoch 4/10\n",
            "177/177 [==============================] - 5s 26ms/step - loss: 0.4387 - accuracy: 0.8306 - val_loss: 0.4028 - val_accuracy: 0.8575\n",
            "Epoch 5/10\n",
            "177/177 [==============================] - 5s 26ms/step - loss: 0.4181 - accuracy: 0.8398 - val_loss: 0.5248 - val_accuracy: 0.7803\n",
            "Epoch 6/10\n",
            "177/177 [==============================] - 5s 26ms/step - loss: 0.4085 - accuracy: 0.8449 - val_loss: 0.3505 - val_accuracy: 0.8869\n",
            "Epoch 7/10\n",
            "177/177 [==============================] - 5s 26ms/step - loss: 0.4024 - accuracy: 0.8468 - val_loss: 0.3993 - val_accuracy: 0.8551\n",
            "Epoch 8/10\n",
            "177/177 [==============================] - 5s 27ms/step - loss: 0.4025 - accuracy: 0.8500 - val_loss: 0.3472 - val_accuracy: 0.8694\n",
            "Epoch 9/10\n",
            "177/177 [==============================] - 5s 26ms/step - loss: 0.3978 - accuracy: 0.8547 - val_loss: 0.4028 - val_accuracy: 0.8503\n",
            "Epoch 10/10\n",
            "177/177 [==============================] - 5s 26ms/step - loss: 0.3937 - accuracy: 0.8570 - val_loss: 0.4440 - val_accuracy: 0.8272\n"
          ],
          "name": "stdout"
        }
      ]
    },
    {
      "cell_type": "code",
      "metadata": {
        "id": "7sBA5HrPN5qb"
      },
      "source": [
        "model.save(\"base_model.h5\")"
      ],
      "execution_count": null,
      "outputs": []
    },
    {
      "cell_type": "markdown",
      "metadata": {
        "id": "Qja2gtRiuJ9w"
      },
      "source": [
        "# **Evaluate**"
      ]
    },
    {
      "cell_type": "code",
      "metadata": {
        "id": "52MyREMfVMCy"
      },
      "source": [
        "def Eval():\n",
        "\n",
        "  print(\"Evaluate on test data\")\n",
        "  results = model.evaluate(X_test, Y_test, batch_size=128)\n",
        "  print(\"test loss, test acc:\", results)"
      ],
      "execution_count": 43,
      "outputs": []
    },
    {
      "cell_type": "code",
      "metadata": {
        "colab": {
          "base_uri": "https://localhost:8080/"
        },
        "id": "v2VJQfKlSA8z",
        "outputId": "5892a9ed-2743-45f0-a45e-fcd855561f31"
      },
      "source": [
        "Eval()"
      ],
      "execution_count": 44,
      "outputs": [
        {
          "output_type": "stream",
          "text": [
            "Evaluate on test data\n",
            "10/10 [==============================] - 0s 20ms/step - loss: 0.4674 - accuracy: 0.8178\n",
            "test loss, test acc: [0.46742528676986694, 0.8178201913833618]\n"
          ],
          "name": "stdout"
        }
      ]
    },
    {
      "cell_type": "code",
      "metadata": {
        "colab": {
          "base_uri": "https://localhost:8080/",
          "height": 295
        },
        "id": "AJ9jTc-p-9He",
        "outputId": "b41e86b4-e676-4c7e-b846-f734415503ce"
      },
      "source": [
        "plt.plot(history.history['accuracy'])\r\n",
        "plt.plot(history.history['val_accuracy'])\r\n",
        "#plt.plot(history.history['val_accuracy'])\r\n",
        "plt.title('model accuracy')\r\n",
        "plt.ylabel('accuracy')\r\n",
        "plt.xlabel('epoch')\r\n",
        "plt.legend(['train', 'val'], loc='upper left')\r\n",
        "plt.show()"
      ],
      "execution_count": 45,
      "outputs": [
        {
          "output_type": "display_data",
          "data": {
            "image/png": "[encoded data removed]",
            "text/plain": [
              "<Figure size 432x288 with 1 Axes>"
            ]
          },
          "metadata": {
            "tags": [],
            "needs_background": "light"
          }
        }
      ]
    },
    {
      "cell_type": "markdown",
      "metadata": {
        "id": "1AwKKlY7gEnD"
      },
      "source": [
        "# **Fine Tuning**\r\n",
        "\r\n",
        "1. Batch Normalisation\r\n",
        "2. Test DA1\r\n",
        "3. Test DA2"
      ]
    },
    {
      "cell_type": "markdown",
      "metadata": {
        "id": "KRp4b9ZkkfxS"
      },
      "source": [
        "## **Batch Normalisation**"
      ]
    },
    {
      "cell_type": "code",
      "metadata": {
        "id": "42dNBUUs17Zz"
      },
      "source": [
        "headModel = model.output\r\n",
        "\r\n",
        "headModel = BatchNormalization()(headModel)\r\n",
        "\r\n",
        "headModel = Flatten()(headModel)\r\n",
        "\r\n",
        "headModel = Dense(256, activation=\"relu\")(headModel)\r\n",
        "\r\n",
        "headModel = Dense(units=2, activation=\"softmax\")(headModel)\r\n",
        "\r\n",
        "finmodel = Model(inputs=model.input, outputs=headModel)\r\n"
      ],
      "execution_count": 46,
      "outputs": []
    },
    {
      "cell_type": "code",
      "metadata": {
        "id": "FW_mwLaR4c_e"
      },
      "source": [
        "#freezing\r\n",
        "for layer in model.layers:\r\n",
        "\tlayer.trainable = False"
      ],
      "execution_count": 47,
      "outputs": []
    },
    {
      "cell_type": "code",
      "metadata": {
        "colab": {
          "base_uri": "https://localhost:8080/"
        },
        "id": "pau8FIVY8PAE",
        "outputId": "11a77d82-5d8a-427d-b480-54a705f0a488"
      },
      "source": [
        "finmodel.compile(optimizer=RMSprop(),loss='categorical_crossentropy',metrics=['accuracy'])\r\n",
        "lr_red=ReduceLROnPlateau(patience=3,verbose=1,min_lr=0.0001)\r\n",
        "\r\n",
        "H = finmodel.fit(X_train, Y_train, batch_size=128, epochs=10, callbacks=[lr_red], validation_data=(X_val, Y_val),)"
      ],
      "execution_count": 48,
      "outputs": [
        {
          "output_type": "stream",
          "text": [
            "Epoch 1/10\n",
            "177/177 [==============================] - 3s 13ms/step - loss: 0.4846 - accuracy: 0.8005 - val_loss: 0.4229 - val_accuracy: 0.8662\n",
            "Epoch 2/10\n",
            "177/177 [==============================] - 2s 12ms/step - loss: 0.4171 - accuracy: 0.8397 - val_loss: 0.3827 - val_accuracy: 0.8591\n",
            "Epoch 3/10\n",
            "177/177 [==============================] - 2s 12ms/step - loss: 0.4214 - accuracy: 0.8390 - val_loss: 0.3730 - val_accuracy: 0.8599\n",
            "Epoch 4/10\n",
            "177/177 [==============================] - 2s 12ms/step - loss: 0.4190 - accuracy: 0.8386 - val_loss: 0.3693 - val_accuracy: 0.8639\n",
            "Epoch 5/10\n",
            "177/177 [==============================] - 2s 12ms/step - loss: 0.4236 - accuracy: 0.8348 - val_loss: 0.3715 - val_accuracy: 0.8607\n",
            "Epoch 6/10\n",
            "177/177 [==============================] - 2s 12ms/step - loss: 0.4251 - accuracy: 0.8362 - val_loss: 0.3759 - val_accuracy: 0.8599\n",
            "Epoch 7/10\n",
            "177/177 [==============================] - 2s 12ms/step - loss: 0.4172 - accuracy: 0.8399 - val_loss: 0.3693 - val_accuracy: 0.8615\n",
            "\n",
            "Epoch 00007: ReduceLROnPlateau reducing learning rate to 0.00010000000474974513.\n",
            "Epoch 8/10\n",
            "177/177 [==============================] - 2s 12ms/step - loss: 0.4167 - accuracy: 0.8359 - val_loss: 0.3699 - val_accuracy: 0.8583\n",
            "Epoch 9/10\n",
            "177/177 [==============================] - 2s 12ms/step - loss: 0.4087 - accuracy: 0.8433 - val_loss: 0.3711 - val_accuracy: 0.8607\n",
            "Epoch 10/10\n",
            "177/177 [==============================] - 2s 12ms/step - loss: 0.4116 - accuracy: 0.8418 - val_loss: 0.3701 - val_accuracy: 0.8591\n",
            "\n",
            "Epoch 00010: ReduceLROnPlateau reducing learning rate to 0.0001.\n"
          ],
          "name": "stdout"
        }
      ]
    },
    {
      "cell_type": "code",
      "metadata": {
        "id": "Jo0kPdfD9r5x"
      },
      "source": [
        "def FinEval():\r\n",
        "\r\n",
        "  print(\"Evaluate on test data\")\r\n",
        "  results = finmodel.evaluate(X_test, Y_test, batch_size=128)\r\n",
        "  print(\"test loss, test acc:\", results)"
      ],
      "execution_count": 49,
      "outputs": []
    },
    {
      "cell_type": "code",
      "metadata": {
        "colab": {
          "base_uri": "https://localhost:8080/"
        },
        "id": "9hXL4clI9zW7",
        "outputId": "2fd9b076-2d32-4cf1-803f-666ff5b72528"
      },
      "source": [
        "FinEval()"
      ],
      "execution_count": 50,
      "outputs": [
        {
          "output_type": "stream",
          "text": [
            "Evaluate on test data\n",
            "10/10 [==============================] - 0s 11ms/step - loss: 0.4982 - accuracy: 0.7828\n",
            "test loss, test acc: [0.49816522002220154, 0.7828162312507629]\n"
          ],
          "name": "stdout"
        }
      ]
    },
    {
      "cell_type": "code",
      "metadata": {
        "colab": {
          "base_uri": "https://localhost:8080/",
          "height": 295
        },
        "id": "BFJRrEE__5rG",
        "outputId": "39d7a91b-b020-49a0-b7d9-1d504eed358b"
      },
      "source": [
        "plt.plot(H.history['accuracy'])\r\n",
        "plt.plot(H.history['val_accuracy'])\r\n",
        "plt.title('model accuracy')\r\n",
        "plt.ylabel('accuracy')\r\n",
        "plt.xlabel('epoch')\r\n",
        "plt.legend(['train', 'val'], loc='upper left')\r\n",
        "plt.show()"
      ],
      "execution_count": 51,
      "outputs": [
        {
          "output_type": "display_data",
          "data": {
            "image/png": "[encoded data removed]",
            "text/plain": [
              "<Figure size 432x288 with 1 Axes>"
            ]
          },
          "metadata": {
            "tags": [],
            "needs_background": "light"
          }
        }
      ]
    },
    {
      "cell_type": "markdown",
      "metadata": {
        "id": "7p6lgvTHh-Tq"
      },
      "source": [
        "## **Test DA1**"
      ]
    },
    {
      "cell_type": "code",
      "metadata": {
        "id": "NzDrBu-Xgtmy"
      },
      "source": [
        "crop_test_64 = \"/content/crop_testdata_64\"\r\n",
        "crop_test_80 = \"/content/crop_testdata_80\"\r\n",
        "crop_test_88 = \"/content/crop_testdata_88\"\r\n",
        "crop_test_100 = \"/content/crop_testdata_100\"\r\n",
        "\r\n",
        "colt_path = \"/content/colj_testdata\"\r\n",
        "flipt_path= \"/content/flip_testdata\"\r\n",
        "augt_path = \"/content/aug_testdata\"\r\n",
        "\r\n",
        "finres_test= \"/content/finres_testdata\"\r\n",
        "res64_test = \"/content/64res_testdata\"\r\n",
        "res80_test = \"/content/80res_testdata\"\r\n",
        "res88_test = \"/content/88res_testdata\"\r\n",
        "res100_test = \"/content/100res_testdata\""
      ],
      "execution_count": 52,
      "outputs": []
    },
    {
      "cell_type": "code",
      "metadata": {
        "colab": {
          "base_uri": "https://localhost:8080/"
        },
        "id": "jGhqZN9NhjUj",
        "outputId": "fc802a8e-e8a3-4c96-a447-8db43c9ece88"
      },
      "source": [
        "#cropping test to 64,64\r\n",
        "center_crop(test_path, crop_test_64, dim=(64,64))\r\n",
        "#cropping test to 80,80\r\n",
        "center_crop(test_path, crop_test_80, dim=(80,80))\r\n",
        "#cropping test to 88,88\r\n",
        "center_crop(test_path, crop_test_88, dim=(88,88)) #same as train\r\n",
        "#cropping test to 100,100\r\n",
        "center_crop(test_path, crop_test_100, dim=(100,100)) #same as val"
      ],
      "execution_count": 53,
      "outputs": [
        {
          "output_type": "stream",
          "text": [
            "Directory  /content/crop_testdata_64  Created \n",
            "Directory  /content/crop_testdata_80  Created \n",
            "Directory  /content/crop_testdata_88  Created \n",
            "Directory  /content/crop_testdata_100  Created \n"
          ],
          "name": "stdout"
        }
      ]
    },
    {
      "cell_type": "markdown",
      "metadata": {
        "id": "XYlQha1LmtoW"
      },
      "source": [
        "**evaluate for 64x64**"
      ]
    },
    {
      "cell_type": "code",
      "metadata": {
        "id": "yLOoxtN4mDgg",
        "colab": {
          "base_uri": "https://localhost:8080/"
        },
        "outputId": "0828685f-0654-4442-a287-5863e81924ed"
      },
      "source": [
        "preprocessing(crop_test_64, res64_test)\r\n",
        "test_dataset,test_labels=vectorise(res64_test)\r\n",
        "\r\n",
        "finx_test=test_dataset\r\n",
        "finy_test=test_labels\r\n",
        "\r\n",
        "finy_test_orig=finy_test.T\r\n",
        "\r\n",
        "fin_X_test = finx_test/255. #normalising\r\n",
        "fin_Y_test = convert_to_one_hot(finy_test_orig, 2).T #one hot encoding\r\n",
        "\r\n",
        "print(\"Evaluate on 64x64 test data\")\r\n",
        "results = finmodel.evaluate(fin_X_test, fin_Y_test, batch_size=64)\r\n",
        "print(\"test loss, test acc:\", results)"
      ],
      "execution_count": 54,
      "outputs": [
        {
          "output_type": "stream",
          "text": [
            "Directory  /content/64res_testdata  Created \n",
            "Working with 1257 images\n",
            "Files in path: 1257\n",
            "All images to array!\n",
            "Evaluate on 64x64 test data\n",
            "20/20 [==============================] - 0s 10ms/step - loss: 0.3635 - accuracy: 0.8735\n",
            "test loss, test acc: [0.36346378922462463, 0.8735083341598511]\n"
          ],
          "name": "stdout"
        }
      ]
    },
    {
      "cell_type": "markdown",
      "metadata": {
        "id": "z3PhTooCmyGH"
      },
      "source": [
        "**evaluate for 80x80**"
      ]
    },
    {
      "cell_type": "code",
      "metadata": {
        "id": "j5u4Bh2emoIY",
        "colab": {
          "base_uri": "https://localhost:8080/"
        },
        "outputId": "c0a7a8fa-6fbb-4fdd-ecc8-bd0c9e81cbb0"
      },
      "source": [
        "preprocessing(crop_test_80, res80_test)\r\n",
        "\r\n",
        "test_dataset,test_labels=vectorise(res80_test)\r\n",
        "\r\n",
        "finx_test=test_dataset\r\n",
        "finy_test=test_labels\r\n",
        "\r\n",
        "finy_test_orig=finy_test.T\r\n",
        "\r\n",
        "fin_X_test = finx_test/255. #normalising\r\n",
        "fin_Y_test = convert_to_one_hot(finy_test_orig, 2).T #one hot encoding\r\n",
        "\r\n",
        "print(\"Evaluate on 80x80 test data\")\r\n",
        "results = finmodel.evaluate(fin_X_test, fin_Y_test, batch_size=64)\r\n",
        "print(\"test loss, test acc:\", results)"
      ],
      "execution_count": 55,
      "outputs": [
        {
          "output_type": "stream",
          "text": [
            "Directory  /content/80res_testdata  Created \n",
            "Working with 1257 images\n",
            "Files in path: 1257\n",
            "All images to array!\n",
            "Evaluate on 80x80 test data\n",
            "20/20 [==============================] - 0s 7ms/step - loss: 0.3276 - accuracy: 0.8950\n",
            "test loss, test acc: [0.32761672139167786, 0.8949880599975586]\n"
          ],
          "name": "stdout"
        }
      ]
    },
    {
      "cell_type": "markdown",
      "metadata": {
        "id": "bEBhkyiIm0dn"
      },
      "source": [
        "**evaluate for 88x88**"
      ]
    },
    {
      "cell_type": "code",
      "metadata": {
        "id": "UrFPkh9HmpSE",
        "colab": {
          "base_uri": "https://localhost:8080/"
        },
        "outputId": "13c67407-ccc9-4ac1-80c3-4f069168b0a0"
      },
      "source": [
        "preprocessing(crop_test_88, res88_test)\r\n",
        "\r\n",
        "test_dataset,test_labels=vectorise(res88_test)\r\n",
        "\r\n",
        "finx_test=test_dataset\r\n",
        "finy_test=test_labels\r\n",
        "\r\n",
        "finy_test_orig=finy_test.T\r\n",
        "\r\n",
        "fin_X_test = finx_test/255. #normalising\r\n",
        "fin_Y_test = convert_to_one_hot(finy_test_orig, 2).T #one hot encoding\r\n",
        "\r\n",
        "print(\"Evaluate on 88x88 test data\")\r\n",
        "results = finmodel.evaluate(fin_X_test, fin_Y_test, batch_size=64)\r\n",
        "print(\"test loss, test acc:\", results)"
      ],
      "execution_count": 56,
      "outputs": [
        {
          "output_type": "stream",
          "text": [
            "Directory  /content/88res_testdata  Created \n",
            "Working with 1257 images\n",
            "Files in path: 1257\n",
            "All images to array!\n",
            "Evaluate on 88x88 test data\n",
            "20/20 [==============================] - 0s 7ms/step - loss: 0.3385 - accuracy: 0.8846\n",
            "test loss, test acc: [0.3385099768638611, 0.8846459984779358]\n"
          ],
          "name": "stdout"
        }
      ]
    },
    {
      "cell_type": "markdown",
      "metadata": {
        "id": "9qOCYVdJm3iG"
      },
      "source": [
        "**evaluate for 100x100**"
      ]
    },
    {
      "cell_type": "code",
      "metadata": {
        "id": "ShGbEjGbmqMi",
        "colab": {
          "base_uri": "https://localhost:8080/"
        },
        "outputId": "7901446e-22ad-4bce-c61e-0968d6abe387"
      },
      "source": [
        "preprocessing(crop_test_100, res100_test)\r\n",
        "\r\n",
        "test_dataset,test_labels=vectorise(res100_test)\r\n",
        "\r\n",
        "finx_test=test_dataset\r\n",
        "finy_test=test_labels\r\n",
        "\r\n",
        "finy_test_orig=finy_test.T\r\n",
        "\r\n",
        "fin_X_test = finx_test/255. #normalising\r\n",
        "fin_Y_test = convert_to_one_hot(finy_test_orig, 2).T #one hot encoding\r\n",
        "\r\n",
        "print(\"Evaluate on 100x100 test data\")\r\n",
        "results = finmodel.evaluate(fin_X_test, fin_Y_test, batch_size=64)\r\n",
        "print(\"test loss, test acc:\", results)"
      ],
      "execution_count": 57,
      "outputs": [
        {
          "output_type": "stream",
          "text": [
            "Directory  /content/100res_testdata  Created \n",
            "Working with 1257 images\n",
            "Files in path: 1257\n",
            "All images to array!\n",
            "Evaluate on 100x100 test data\n",
            "20/20 [==============================] - 0s 7ms/step - loss: 0.3648 - accuracy: 0.8656\n",
            "test loss, test acc: [0.36477991938591003, 0.8655529022216797]\n"
          ],
          "name": "stdout"
        }
      ]
    },
    {
      "cell_type": "markdown",
      "metadata": {
        "id": "Ua5_I4vQiA70"
      },
      "source": [
        "## **test DA2**"
      ]
    },
    {
      "cell_type": "code",
      "metadata": {
        "colab": {
          "base_uri": "https://localhost:8080/"
        },
        "id": "Nr-8cr95h45s",
        "outputId": "2d998475-b56f-4c5e-9341-624b77013184"
      },
      "source": [
        "#color jitter\r\n",
        "colorJitter(5, test_path, colt_path)\r\n",
        "#random horizontal flip\r\n",
        "horizontalFlip(colt_path, flipt_path)\r\n",
        "copy_data(colt_path, flipt_path)\r\n",
        "augmentation(flipt_path,augt_path)"
      ],
      "execution_count": 58,
      "outputs": [
        {
          "output_type": "stream",
          "text": [
            "Directory  /content/colj_testdata  Created \n",
            "Directory  /content/flip_testdata  Created \n",
            "Directory  /content/aug_testdata  Created \n"
          ],
          "name": "stdout"
        }
      ]
    },
    {
      "cell_type": "code",
      "metadata": {
        "id": "sfzu8J9CjnxJ",
        "colab": {
          "base_uri": "https://localhost:8080/"
        },
        "outputId": "3367e551-24c2-4915-db57-c0a1d5b2b40b"
      },
      "source": [
        "preprocessing(augt_path, finres_test)\r\n",
        "\r\n",
        "test_dataset,test_labels=vectorise(finres_test)\r\n",
        "\r\n",
        "finx_test=test_dataset\r\n",
        "finy_test=test_labels\r\n",
        "\r\n",
        "finy_test_orig=finy_test.T\r\n",
        "\r\n",
        "fin_X_test = finx_test/255. #normalising\r\n",
        "fin_Y_test = convert_to_one_hot(finy_test_orig, 2).T #one hot encoding\r\n",
        "\r\n",
        "#evaluating for DA2\r\n",
        "print(\"Evaluate on test data\")\r\n",
        "results = finmodel.evaluate(fin_X_test, fin_Y_test, batch_size=64)\r\n",
        "print(\"test loss, test acc:\", results)"
      ],
      "execution_count": 59,
      "outputs": [
        {
          "output_type": "stream",
          "text": [
            "Directory  /content/finres_testdata  Created \n",
            "Working with 1257 images\n",
            "Files in path: 1257\n",
            "All images to array!\n",
            "Evaluate on test data\n",
            "20/20 [==============================] - 0s 7ms/step - loss: 0.4996 - accuracy: 0.7852\n",
            "test loss, test acc: [0.49961018562316895, 0.7852028608322144]\n"
          ],
          "name": "stdout"
        }
      ]
    },
    {
      "cell_type": "code",
      "metadata": {
        "id": "qppSn-YnsBpD"
      },
      "source": [
        "finmodel.save(\"ft_model.h5\")"
      ],
      "execution_count": null,
      "outputs": []
    }
  ]
}
